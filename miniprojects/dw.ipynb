{
 "cells": [
  {
   "cell_type": "code",
   "execution_count": 9,
   "metadata": {
    "init_cell": true
   },
   "outputs": [],
   "source": [
    "%logstop\n",
    "%logstart -rtq ~/.logs/dw.py append\n",
    "%matplotlib inline\n",
    "import matplotlib\n",
    "import seaborn as sns\n",
    "sns.set()\n",
    "matplotlib.rcParams['figure.dpi'] = 144"
   ]
  },
  {
   "cell_type": "code",
   "execution_count": 4,
   "metadata": {},
   "outputs": [],
   "source": [
    "from static_grader import grader"
   ]
  },
  {
   "cell_type": "markdown",
   "metadata": {},
   "source": [
    "# DW Miniproject\n",
    "## Introduction\n",
    "\n",
    "The objective of this miniproject is to exercise your ability to wrangle tabular data set and aggregate large data sets into meaningful summary statistics. We'll work with the same medical data used in the `pw` miniproject but leverage the power of Pandas to more efficiently represent and act on our data."
   ]
  },
  {
   "cell_type": "markdown",
   "metadata": {},
   "source": [
    "## Downloading the data\n",
    "\n",
    "We first need to download the data we'll be using from Amazon S3:"
   ]
  },
  {
   "cell_type": "code",
   "execution_count": 5,
   "metadata": {},
   "outputs": [
    {
     "name": "stdout",
     "output_type": "stream",
     "text": [
      "mkdir: cannot create directory ‘dw-data’: File exists\n",
      "File ‘./dw-data/201701scripts_sample.csv.gz’ already there; not retrieving.\n",
      "\n",
      "File ‘./dw-data/201606scripts_sample.csv.gz’ already there; not retrieving.\n",
      "\n",
      "File ‘./dw-data/practices.csv.gz’ already there; not retrieving.\n",
      "\n",
      "File ‘./dw-data/chem.csv.gz’ already there; not retrieving.\n",
      "\n"
     ]
    }
   ],
   "source": [
    "!mkdir dw-data\n",
    "!wget http://dataincubator-wqu.s3.amazonaws.com/dwdata/201701scripts_sample.csv.gz -nc -P ./dw-data/\n",
    "!wget http://dataincubator-wqu.s3.amazonaws.com/dwdata/201606scripts_sample.csv.gz -nc -P ./dw-data/\n",
    "!wget http://dataincubator-wqu.s3.amazonaws.com/dwdata/practices.csv.gz -nc -P ./dw-data/\n",
    "!wget http://dataincubator-wqu.s3.amazonaws.com/dwdata/chem.csv.gz -nc -P ./dw-data/"
   ]
  },
  {
   "cell_type": "markdown",
   "metadata": {},
   "source": [
    "## Loading the data\n",
    "\n",
    "Similar to the `PW` miniproject, the first step is to read in the data. The data files are stored as compressed CSV files. You can load the data into a Pandas DataFrame by making use of the `gzip` package to decompress the files and Panda's `read_csv` methods to parse the data into a DataFrame. You may want to check the Pandas documentation for parsing [CSV](http://pandas.pydata.org/pandas-docs/stable/generated/pandas.read_csv.html) files for reference.\n",
    "\n",
    "For a description of the data set please, refer to the [PW miniproject](./pw.ipynb). **Note that all questions make use of the 2017 data only, except for Question 5 which makes use of both the 2017 and 2016 data.**"
   ]
  },
  {
   "cell_type": "code",
   "execution_count": 6,
   "metadata": {},
   "outputs": [],
   "source": [
    "import pandas as pd\n",
    "import numpy as np\n",
    "import gzip"
   ]
  },
  {
   "cell_type": "code",
   "execution_count": 7,
   "metadata": {},
   "outputs": [
    {
     "name": "stdout",
     "output_type": "stream",
     "text": [
      "Shape of scripts (973193, 7)\n"
     ]
    },
    {
     "data": {
      "text/html": [
       "<div>\n",
       "<style scoped>\n",
       "    .dataframe tbody tr th:only-of-type {\n",
       "        vertical-align: middle;\n",
       "    }\n",
       "\n",
       "    .dataframe tbody tr th {\n",
       "        vertical-align: top;\n",
       "    }\n",
       "\n",
       "    .dataframe thead th {\n",
       "        text-align: right;\n",
       "    }\n",
       "</style>\n",
       "<table border=\"1\" class=\"dataframe\">\n",
       "  <thead>\n",
       "    <tr style=\"text-align: right;\">\n",
       "      <th></th>\n",
       "      <th>practice</th>\n",
       "      <th>bnf_code</th>\n",
       "      <th>bnf_name</th>\n",
       "      <th>items</th>\n",
       "      <th>nic</th>\n",
       "      <th>act_cost</th>\n",
       "      <th>quantity</th>\n",
       "    </tr>\n",
       "  </thead>\n",
       "  <tbody>\n",
       "    <tr>\n",
       "      <th>0</th>\n",
       "      <td>N85639</td>\n",
       "      <td>0106020C0</td>\n",
       "      <td>Bisacodyl_Tab E/C 5mg</td>\n",
       "      <td>1</td>\n",
       "      <td>0.39</td>\n",
       "      <td>0.47</td>\n",
       "      <td>12</td>\n",
       "    </tr>\n",
       "    <tr>\n",
       "      <th>1</th>\n",
       "      <td>N85639</td>\n",
       "      <td>0106040M0</td>\n",
       "      <td>Movicol Plain_Paed Pdr Sach 6.9g</td>\n",
       "      <td>1</td>\n",
       "      <td>4.38</td>\n",
       "      <td>4.07</td>\n",
       "      <td>30</td>\n",
       "    </tr>\n",
       "    <tr>\n",
       "      <th>2</th>\n",
       "      <td>N85639</td>\n",
       "      <td>0301011R0</td>\n",
       "      <td>Salbutamol_Inha 100mcg (200 D) CFF</td>\n",
       "      <td>1</td>\n",
       "      <td>1.50</td>\n",
       "      <td>1.40</td>\n",
       "      <td>1</td>\n",
       "    </tr>\n",
       "    <tr>\n",
       "      <th>3</th>\n",
       "      <td>N85639</td>\n",
       "      <td>0304010G0</td>\n",
       "      <td>Chlorphenamine Mal_Oral Soln 2mg/5ml</td>\n",
       "      <td>1</td>\n",
       "      <td>2.62</td>\n",
       "      <td>2.44</td>\n",
       "      <td>150</td>\n",
       "    </tr>\n",
       "    <tr>\n",
       "      <th>4</th>\n",
       "      <td>N85639</td>\n",
       "      <td>0401020K0</td>\n",
       "      <td>Diazepam_Tab 2mg</td>\n",
       "      <td>1</td>\n",
       "      <td>0.16</td>\n",
       "      <td>0.26</td>\n",
       "      <td>6</td>\n",
       "    </tr>\n",
       "  </tbody>\n",
       "</table>\n",
       "</div>"
      ],
      "text/plain": [
       "  practice   bnf_code                              bnf_name  items   nic  \\\n",
       "0   N85639  0106020C0                 Bisacodyl_Tab E/C 5mg      1  0.39   \n",
       "1   N85639  0106040M0      Movicol Plain_Paed Pdr Sach 6.9g      1  4.38   \n",
       "2   N85639  0301011R0    Salbutamol_Inha 100mcg (200 D) CFF      1  1.50   \n",
       "3   N85639  0304010G0  Chlorphenamine Mal_Oral Soln 2mg/5ml      1  2.62   \n",
       "4   N85639  0401020K0                      Diazepam_Tab 2mg      1  0.16   \n",
       "\n",
       "   act_cost  quantity  \n",
       "0      0.47        12  \n",
       "1      4.07        30  \n",
       "2      1.40         1  \n",
       "3      2.44       150  \n",
       "4      0.26         6  "
      ]
     },
     "execution_count": 7,
     "metadata": {},
     "output_type": "execute_result"
    }
   ],
   "source": [
    "# load the 2017 data\n",
    "with gzip.open('./dw-data/201701scripts_sample.csv.gz', 'rb') as f:\n",
    "    scripts = pd.read_csv(f)\n",
    "\n",
    "print('Shape of scripts', scripts.shape)\n",
    "scripts.head()"
   ]
  },
  {
   "cell_type": "code",
   "execution_count": 8,
   "metadata": {},
   "outputs": [
    {
     "name": "stdout",
     "output_type": "stream",
     "text": [
      "Shape of practices: (12019, 7)\n"
     ]
    },
    {
     "data": {
      "text/html": [
       "<div>\n",
       "<style scoped>\n",
       "    .dataframe tbody tr th:only-of-type {\n",
       "        vertical-align: middle;\n",
       "    }\n",
       "\n",
       "    .dataframe tbody tr th {\n",
       "        vertical-align: top;\n",
       "    }\n",
       "\n",
       "    .dataframe thead th {\n",
       "        text-align: right;\n",
       "    }\n",
       "</style>\n",
       "<table border=\"1\" class=\"dataframe\">\n",
       "  <thead>\n",
       "    <tr style=\"text-align: right;\">\n",
       "      <th></th>\n",
       "      <th>A81001</th>\n",
       "      <th>THE DENSHAM SURGERY</th>\n",
       "      <th>THE HEALTH CENTRE</th>\n",
       "      <th>LAWSON STREET</th>\n",
       "      <th>STOCKTON ON TEES</th>\n",
       "      <th>CLEVELAND</th>\n",
       "      <th>TS18 1HU</th>\n",
       "    </tr>\n",
       "  </thead>\n",
       "  <tbody>\n",
       "    <tr>\n",
       "      <th>0</th>\n",
       "      <td>A81002</td>\n",
       "      <td>QUEENS PARK MEDICAL CENTRE</td>\n",
       "      <td>QUEENS PARK MEDICAL CTR</td>\n",
       "      <td>FARRER STREET</td>\n",
       "      <td>STOCKTON ON TEES</td>\n",
       "      <td>CLEVELAND</td>\n",
       "      <td>TS18 2AW</td>\n",
       "    </tr>\n",
       "    <tr>\n",
       "      <th>1</th>\n",
       "      <td>A81003</td>\n",
       "      <td>VICTORIA MEDICAL PRACTICE</td>\n",
       "      <td>THE HEALTH CENTRE</td>\n",
       "      <td>VICTORIA ROAD</td>\n",
       "      <td>HARTLEPOOL</td>\n",
       "      <td>CLEVELAND</td>\n",
       "      <td>TS26 8DB</td>\n",
       "    </tr>\n",
       "    <tr>\n",
       "      <th>2</th>\n",
       "      <td>A81004</td>\n",
       "      <td>WOODLANDS ROAD SURGERY</td>\n",
       "      <td>6 WOODLANDS ROAD</td>\n",
       "      <td>NaN</td>\n",
       "      <td>MIDDLESBROUGH</td>\n",
       "      <td>CLEVELAND</td>\n",
       "      <td>TS1 3BE</td>\n",
       "    </tr>\n",
       "    <tr>\n",
       "      <th>3</th>\n",
       "      <td>A81005</td>\n",
       "      <td>SPRINGWOOD SURGERY</td>\n",
       "      <td>SPRINGWOOD SURGERY</td>\n",
       "      <td>RECTORY LANE</td>\n",
       "      <td>GUISBOROUGH</td>\n",
       "      <td>NaN</td>\n",
       "      <td>TS14 7DJ</td>\n",
       "    </tr>\n",
       "    <tr>\n",
       "      <th>4</th>\n",
       "      <td>A81006</td>\n",
       "      <td>TENNANT STREET MEDICAL PRACTICE</td>\n",
       "      <td>TENNANT ST MED PRACT</td>\n",
       "      <td>FARRER STREET</td>\n",
       "      <td>STOCKTON ON TEES</td>\n",
       "      <td>CLEVELAND</td>\n",
       "      <td>TS18 2AT</td>\n",
       "    </tr>\n",
       "  </tbody>\n",
       "</table>\n",
       "</div>"
      ],
      "text/plain": [
       "   A81001              THE DENSHAM SURGERY        THE HEALTH CENTRE  \\\n",
       "0  A81002       QUEENS PARK MEDICAL CENTRE  QUEENS PARK MEDICAL CTR   \n",
       "1  A81003        VICTORIA MEDICAL PRACTICE        THE HEALTH CENTRE   \n",
       "2  A81004           WOODLANDS ROAD SURGERY         6 WOODLANDS ROAD   \n",
       "3  A81005               SPRINGWOOD SURGERY       SPRINGWOOD SURGERY   \n",
       "4  A81006  TENNANT STREET MEDICAL PRACTICE     TENNANT ST MED PRACT   \n",
       "\n",
       "   LAWSON STREET  STOCKTON ON TEES  CLEVELAND  TS18 1HU  \n",
       "0  FARRER STREET  STOCKTON ON TEES  CLEVELAND  TS18 2AW  \n",
       "1  VICTORIA ROAD        HARTLEPOOL  CLEVELAND  TS26 8DB  \n",
       "2            NaN     MIDDLESBROUGH  CLEVELAND   TS1 3BE  \n",
       "3   RECTORY LANE       GUISBOROUGH        NaN  TS14 7DJ  \n",
       "4  FARRER STREET  STOCKTON ON TEES  CLEVELAND  TS18 2AT  "
      ]
     },
     "execution_count": 8,
     "metadata": {},
     "output_type": "execute_result"
    }
   ],
   "source": [
    "with gzip.open('./dw-data/practices.csv.gz', 'rb') as f:\n",
    "    practices_0 = pd.read_csv(f)\n",
    "    \n",
    "print('Shape of practices:', practices_0.shape)\n",
    "practices_0.head()"
   ]
  },
  {
   "cell_type": "code",
   "execution_count": 9,
   "metadata": {},
   "outputs": [
    {
     "name": "stdout",
     "output_type": "stream",
     "text": [
      "(12019, 7)\n"
     ]
    },
    {
     "data": {
      "text/html": [
       "<div>\n",
       "<style scoped>\n",
       "    .dataframe tbody tr th:only-of-type {\n",
       "        vertical-align: middle;\n",
       "    }\n",
       "\n",
       "    .dataframe tbody tr th {\n",
       "        vertical-align: top;\n",
       "    }\n",
       "\n",
       "    .dataframe thead th {\n",
       "        text-align: right;\n",
       "    }\n",
       "</style>\n",
       "<table border=\"1\" class=\"dataframe\">\n",
       "  <thead>\n",
       "    <tr style=\"text-align: right;\">\n",
       "      <th></th>\n",
       "      <th>code</th>\n",
       "      <th>name</th>\n",
       "      <th>addr_1</th>\n",
       "      <th>addr_2</th>\n",
       "      <th>borough</th>\n",
       "      <th>village</th>\n",
       "      <th>post_code</th>\n",
       "    </tr>\n",
       "  </thead>\n",
       "  <tbody>\n",
       "    <tr>\n",
       "      <th>0</th>\n",
       "      <td>A81002</td>\n",
       "      <td>QUEENS PARK MEDICAL CENTRE</td>\n",
       "      <td>QUEENS PARK MEDICAL CTR</td>\n",
       "      <td>FARRER STREET</td>\n",
       "      <td>STOCKTON ON TEES</td>\n",
       "      <td>CLEVELAND</td>\n",
       "      <td>TS18 2AW</td>\n",
       "    </tr>\n",
       "    <tr>\n",
       "      <th>1</th>\n",
       "      <td>A81003</td>\n",
       "      <td>VICTORIA MEDICAL PRACTICE</td>\n",
       "      <td>THE HEALTH CENTRE</td>\n",
       "      <td>VICTORIA ROAD</td>\n",
       "      <td>HARTLEPOOL</td>\n",
       "      <td>CLEVELAND</td>\n",
       "      <td>TS26 8DB</td>\n",
       "    </tr>\n",
       "    <tr>\n",
       "      <th>2</th>\n",
       "      <td>A81004</td>\n",
       "      <td>WOODLANDS ROAD SURGERY</td>\n",
       "      <td>6 WOODLANDS ROAD</td>\n",
       "      <td>NaN</td>\n",
       "      <td>MIDDLESBROUGH</td>\n",
       "      <td>CLEVELAND</td>\n",
       "      <td>TS1 3BE</td>\n",
       "    </tr>\n",
       "    <tr>\n",
       "      <th>3</th>\n",
       "      <td>A81005</td>\n",
       "      <td>SPRINGWOOD SURGERY</td>\n",
       "      <td>SPRINGWOOD SURGERY</td>\n",
       "      <td>RECTORY LANE</td>\n",
       "      <td>GUISBOROUGH</td>\n",
       "      <td>NaN</td>\n",
       "      <td>TS14 7DJ</td>\n",
       "    </tr>\n",
       "    <tr>\n",
       "      <th>4</th>\n",
       "      <td>A81006</td>\n",
       "      <td>TENNANT STREET MEDICAL PRACTICE</td>\n",
       "      <td>TENNANT ST MED PRACT</td>\n",
       "      <td>FARRER STREET</td>\n",
       "      <td>STOCKTON ON TEES</td>\n",
       "      <td>CLEVELAND</td>\n",
       "      <td>TS18 2AT</td>\n",
       "    </tr>\n",
       "  </tbody>\n",
       "</table>\n",
       "</div>"
      ],
      "text/plain": [
       "     code                             name                   addr_1  \\\n",
       "0  A81002       QUEENS PARK MEDICAL CENTRE  QUEENS PARK MEDICAL CTR   \n",
       "1  A81003        VICTORIA MEDICAL PRACTICE        THE HEALTH CENTRE   \n",
       "2  A81004           WOODLANDS ROAD SURGERY         6 WOODLANDS ROAD   \n",
       "3  A81005               SPRINGWOOD SURGERY       SPRINGWOOD SURGERY   \n",
       "4  A81006  TENNANT STREET MEDICAL PRACTICE     TENNANT ST MED PRACT   \n",
       "\n",
       "          addr_2           borough    village post_code  \n",
       "0  FARRER STREET  STOCKTON ON TEES  CLEVELAND  TS18 2AW  \n",
       "1  VICTORIA ROAD        HARTLEPOOL  CLEVELAND  TS26 8DB  \n",
       "2            NaN     MIDDLESBROUGH  CLEVELAND   TS1 3BE  \n",
       "3   RECTORY LANE       GUISBOROUGH        NaN  TS14 7DJ  \n",
       "4  FARRER STREET  STOCKTON ON TEES  CLEVELAND  TS18 2AT  "
      ]
     },
     "execution_count": 9,
     "metadata": {},
     "output_type": "execute_result"
    }
   ],
   "source": [
    "col_names=[ 'code', 'name', 'addr_1', 'addr_2', 'borough', 'village', 'post_code']\n",
    "practices = practices_0.rename({practices_0.columns[i]: col_names[i] for i in np.arange(len(col_names))}, axis = 1)\n",
    "print(practices.shape)\n",
    "practices.head()"
   ]
  },
  {
   "cell_type": "code",
   "execution_count": 10,
   "metadata": {},
   "outputs": [
    {
     "name": "stdout",
     "output_type": "stream",
     "text": [
      "Shape of chem:  (3487, 2)\n"
     ]
    },
    {
     "data": {
      "text/html": [
       "<div>\n",
       "<style scoped>\n",
       "    .dataframe tbody tr th:only-of-type {\n",
       "        vertical-align: middle;\n",
       "    }\n",
       "\n",
       "    .dataframe tbody tr th {\n",
       "        vertical-align: top;\n",
       "    }\n",
       "\n",
       "    .dataframe thead th {\n",
       "        text-align: right;\n",
       "    }\n",
       "</style>\n",
       "<table border=\"1\" class=\"dataframe\">\n",
       "  <thead>\n",
       "    <tr style=\"text-align: right;\">\n",
       "      <th></th>\n",
       "      <th>CHEM SUB</th>\n",
       "      <th>NAME</th>\n",
       "    </tr>\n",
       "  </thead>\n",
       "  <tbody>\n",
       "    <tr>\n",
       "      <th>0</th>\n",
       "      <td>0101010A0</td>\n",
       "      <td>Alexitol Sodium</td>\n",
       "    </tr>\n",
       "    <tr>\n",
       "      <th>1</th>\n",
       "      <td>0101010B0</td>\n",
       "      <td>Almasilate</td>\n",
       "    </tr>\n",
       "    <tr>\n",
       "      <th>2</th>\n",
       "      <td>0101010C0</td>\n",
       "      <td>Aluminium Hydroxide</td>\n",
       "    </tr>\n",
       "    <tr>\n",
       "      <th>3</th>\n",
       "      <td>0101010D0</td>\n",
       "      <td>Aluminium Hydroxide With Magnesium</td>\n",
       "    </tr>\n",
       "    <tr>\n",
       "      <th>4</th>\n",
       "      <td>0101010E0</td>\n",
       "      <td>Hydrotalcite</td>\n",
       "    </tr>\n",
       "  </tbody>\n",
       "</table>\n",
       "</div>"
      ],
      "text/plain": [
       "    CHEM SUB                                NAME\n",
       "0  0101010A0                     Alexitol Sodium\n",
       "1  0101010B0                          Almasilate\n",
       "2  0101010C0                 Aluminium Hydroxide\n",
       "3  0101010D0  Aluminium Hydroxide With Magnesium\n",
       "4  0101010E0                        Hydrotalcite"
      ]
     },
     "execution_count": 10,
     "metadata": {},
     "output_type": "execute_result"
    }
   ],
   "source": [
    "with gzip.open('./dw-data/chem.csv.gz', 'rb') as f:\n",
    "    chem = pd.read_csv(f)\n",
    "print('Shape of chem: ', chem.shape)\n",
    "chem.head()"
   ]
  },
  {
   "cell_type": "markdown",
   "metadata": {},
   "source": [
    "Now that we've loaded in the data, let's first replicate our results from the `PW` miniproject. Note that we are now working with a larger data set so the answers will be different than in the `PW` miniproject even if the analysis is the same."
   ]
  },
  {
   "cell_type": "markdown",
   "metadata": {},
   "source": [
    "## Question 1: summary_statistics\n",
    "\n",
    "In the `PW` miniproject we first calculated the total, mean, standard deviation, and quartile statistics of the `'items'`, `'quantity'`', `'nic'`, and `'act_cost'` fields. To do this we had to write some functions to calculate the statistics and apply the functions to our data structure. The DataFrame has a `describe` method that will calculate most (not all) of these things for us.\n",
    "\n",
    "Submit the summary statistics to the grader as a list of tuples: [('act_cost', (total, mean, std, q25, median, q75)), ...]"
   ]
  },
  {
   "cell_type": "code",
   "execution_count": 11,
   "metadata": {},
   "outputs": [
    {
     "data": {
      "text/html": [
       "<div>\n",
       "<style scoped>\n",
       "    .dataframe tbody tr th:only-of-type {\n",
       "        vertical-align: middle;\n",
       "    }\n",
       "\n",
       "    .dataframe tbody tr th {\n",
       "        vertical-align: top;\n",
       "    }\n",
       "\n",
       "    .dataframe thead th {\n",
       "        text-align: right;\n",
       "    }\n",
       "</style>\n",
       "<table border=\"1\" class=\"dataframe\">\n",
       "  <thead>\n",
       "    <tr style=\"text-align: right;\">\n",
       "      <th></th>\n",
       "      <th>practice</th>\n",
       "      <th>bnf_code</th>\n",
       "      <th>bnf_name</th>\n",
       "      <th>items</th>\n",
       "      <th>nic</th>\n",
       "      <th>act_cost</th>\n",
       "      <th>quantity</th>\n",
       "    </tr>\n",
       "  </thead>\n",
       "  <tbody>\n",
       "    <tr>\n",
       "      <th>0</th>\n",
       "      <td>N85639</td>\n",
       "      <td>0106020C0</td>\n",
       "      <td>Bisacodyl_Tab E/C 5mg</td>\n",
       "      <td>1</td>\n",
       "      <td>0.39</td>\n",
       "      <td>0.47</td>\n",
       "      <td>12</td>\n",
       "    </tr>\n",
       "    <tr>\n",
       "      <th>1</th>\n",
       "      <td>N85639</td>\n",
       "      <td>0106040M0</td>\n",
       "      <td>Movicol Plain_Paed Pdr Sach 6.9g</td>\n",
       "      <td>1</td>\n",
       "      <td>4.38</td>\n",
       "      <td>4.07</td>\n",
       "      <td>30</td>\n",
       "    </tr>\n",
       "    <tr>\n",
       "      <th>2</th>\n",
       "      <td>N85639</td>\n",
       "      <td>0301011R0</td>\n",
       "      <td>Salbutamol_Inha 100mcg (200 D) CFF</td>\n",
       "      <td>1</td>\n",
       "      <td>1.50</td>\n",
       "      <td>1.40</td>\n",
       "      <td>1</td>\n",
       "    </tr>\n",
       "    <tr>\n",
       "      <th>3</th>\n",
       "      <td>N85639</td>\n",
       "      <td>0304010G0</td>\n",
       "      <td>Chlorphenamine Mal_Oral Soln 2mg/5ml</td>\n",
       "      <td>1</td>\n",
       "      <td>2.62</td>\n",
       "      <td>2.44</td>\n",
       "      <td>150</td>\n",
       "    </tr>\n",
       "    <tr>\n",
       "      <th>4</th>\n",
       "      <td>N85639</td>\n",
       "      <td>0401020K0</td>\n",
       "      <td>Diazepam_Tab 2mg</td>\n",
       "      <td>1</td>\n",
       "      <td>0.16</td>\n",
       "      <td>0.26</td>\n",
       "      <td>6</td>\n",
       "    </tr>\n",
       "  </tbody>\n",
       "</table>\n",
       "</div>"
      ],
      "text/plain": [
       "  practice   bnf_code                              bnf_name  items   nic  \\\n",
       "0   N85639  0106020C0                 Bisacodyl_Tab E/C 5mg      1  0.39   \n",
       "1   N85639  0106040M0      Movicol Plain_Paed Pdr Sach 6.9g      1  4.38   \n",
       "2   N85639  0301011R0    Salbutamol_Inha 100mcg (200 D) CFF      1  1.50   \n",
       "3   N85639  0304010G0  Chlorphenamine Mal_Oral Soln 2mg/5ml      1  2.62   \n",
       "4   N85639  0401020K0                      Diazepam_Tab 2mg      1  0.16   \n",
       "\n",
       "   act_cost  quantity  \n",
       "0      0.47        12  \n",
       "1      4.07        30  \n",
       "2      1.40         1  \n",
       "3      2.44       150  \n",
       "4      0.26         6  "
      ]
     },
     "execution_count": 11,
     "metadata": {},
     "output_type": "execute_result"
    }
   ],
   "source": [
    "scripts.head()"
   ]
  },
  {
   "cell_type": "code",
   "execution_count": 12,
   "metadata": {},
   "outputs": [
    {
     "data": {
      "text/plain": [
       "2.0"
      ]
     },
     "execution_count": 12,
     "metadata": {},
     "output_type": "execute_result"
    }
   ],
   "source": [
    "scripts['items'].median()"
   ]
  },
  {
   "cell_type": "code",
   "execution_count": 13,
   "metadata": {},
   "outputs": [],
   "source": [
    "def describe(df, key):\n",
    "    total = df[key].sum()\n",
    "    mean = df[key].mean()\n",
    "    s = df[key].std()\n",
    "    q25 = df[key].quantile(0.25)\n",
    "    med = df[key].median()\n",
    "    q75 = df[key].quantile(0.75)\n",
    "    \n",
    "    return (total, mean, s, q25, med, q75)"
   ]
  },
  {
   "cell_type": "code",
   "execution_count": 14,
   "metadata": {},
   "outputs": [],
   "source": [
    "summary_stats = [('items', describe(scripts,'items')), ('quantity', describe(scripts,'quantity')), ('nic', describe(scripts,'nic')), ('act_cost', describe(scripts,'act_cost'))]"
   ]
  },
  {
   "cell_type": "code",
   "execution_count": 15,
   "metadata": {},
   "outputs": [
    {
     "name": "stdout",
     "output_type": "stream",
     "text": [
      "==================\n",
      "Your score:  1.0\n",
      "==================\n"
     ]
    }
   ],
   "source": [
    "grader.score.dw__summary_statistics(summary_stats)"
   ]
  },
  {
   "cell_type": "markdown",
   "metadata": {},
   "source": [
    "## Question 2: most_common_item\n",
    "\n",
    "We can also easily compute summary statistics on groups within the data. In the `pw` miniproject we had to explicitly construct the groups based on the values of a particular field. Pandas will handle that for us via the `groupby` method. This process is [detailed in the Pandas documentation](https://pandas.pydata.org/pandas-docs/stable/groupby.html).\n",
    "\n",
    "Use `groupby` to calculate the total number of items dispensed for each `'bnf_name'`. Find the item with the highest total and return the result as `[(bnf_name, total)]`."
   ]
  },
  {
   "cell_type": "code",
   "execution_count": 16,
   "metadata": {},
   "outputs": [
    {
     "name": "stdout",
     "output_type": "stream",
     "text": [
      "bnf_name\n",
      "365 Film 10cm x 12cm VP Adh Film Dress       2\n",
      "365 Non Adherent 10cm x 10cm Pfa Plas Fa     3\n",
      "365 Non Adherent 10cm x 20cm Pfa Plas Fa     1\n",
      "365 Non Woven Island 8cm x 10cm Adh Dres     1\n",
      "365 Transpt Island 5cm x 7.2cm VP Adh Fi     2\n",
      "                                            ..\n",
      "nSpire PiKo-1 Stnd Range Peak Flow Meter     1\n",
      "nSpire Pocket Peak Low Range Peak Flow M     4\n",
      "nSpire Pocket Peak Stnd Range Peak Flow      8\n",
      "oraNurse_Toothpaste Orig (1450ppm)           4\n",
      "palmdoc (Reagent)_Strips                    59\n",
      "Name: items, Length: 13471, dtype: int64\n"
     ]
    }
   ],
   "source": [
    "sum_items = scripts.groupby('bnf_name')['items'].sum()\n",
    "print(sum_items)"
   ]
  },
  {
   "cell_type": "code",
   "execution_count": 17,
   "metadata": {},
   "outputs": [],
   "source": [
    "most_common_item = [(sum_items.idxmax(), sum_items.max())]"
   ]
  },
  {
   "cell_type": "code",
   "execution_count": 18,
   "metadata": {},
   "outputs": [
    {
     "name": "stdout",
     "output_type": "stream",
     "text": [
      "==================\n",
      "Your score:  1.0\n",
      "==================\n"
     ]
    }
   ],
   "source": [
    "grader.score.dw__most_common_item(most_common_item)"
   ]
  },
  {
   "cell_type": "markdown",
   "metadata": {},
   "source": [
    "## Question 3: items_by_region\n",
    "\n",
    "Now let's find the most common item by post code. The post code information is in the `practices` DataFrame, and we'll need to `merge` it into the `scripts` DataFrame. Pandas provides [extensive documentation](https://pandas.pydata.org/pandas-docs/stable/merging.html) with diagrammed examples on different methods and approaches for joining data. The `merge` method is only one of many possible options.\n",
    "\n",
    "Return your results as a list of tuples `(post code, item name, amount dispensed as % of total)`. Sort your results ascending alphabetically by post code and take only results from the first 100 post codes.\n",
    "\n",
    "**NOTE:** Some practices have multiple postal codes associated with them. Use the alphabetically first postal code. Note some postal codes may have multiple `'bnf_name'` with the same prescription rate for the maximum. In this case, take the alphabetically first `'bnf_name'` (as in the PW miniproject)."
   ]
  },
  {
   "cell_type": "code",
   "execution_count": 19,
   "metadata": {},
   "outputs": [
    {
     "data": {
      "text/html": [
       "<div>\n",
       "<style scoped>\n",
       "    .dataframe tbody tr th:only-of-type {\n",
       "        vertical-align: middle;\n",
       "    }\n",
       "\n",
       "    .dataframe tbody tr th {\n",
       "        vertical-align: top;\n",
       "    }\n",
       "\n",
       "    .dataframe thead th {\n",
       "        text-align: right;\n",
       "    }\n",
       "</style>\n",
       "<table border=\"1\" class=\"dataframe\">\n",
       "  <thead>\n",
       "    <tr style=\"text-align: right;\">\n",
       "      <th></th>\n",
       "      <th>code</th>\n",
       "      <th>bnf_code</th>\n",
       "      <th>bnf_name</th>\n",
       "      <th>items</th>\n",
       "      <th>nic</th>\n",
       "      <th>act_cost</th>\n",
       "      <th>quantity</th>\n",
       "    </tr>\n",
       "  </thead>\n",
       "  <tbody>\n",
       "    <tr>\n",
       "      <th>0</th>\n",
       "      <td>N85639</td>\n",
       "      <td>0106020C0</td>\n",
       "      <td>Bisacodyl_Tab E/C 5mg</td>\n",
       "      <td>1</td>\n",
       "      <td>0.39</td>\n",
       "      <td>0.47</td>\n",
       "      <td>12</td>\n",
       "    </tr>\n",
       "    <tr>\n",
       "      <th>1</th>\n",
       "      <td>N85639</td>\n",
       "      <td>0106040M0</td>\n",
       "      <td>Movicol Plain_Paed Pdr Sach 6.9g</td>\n",
       "      <td>1</td>\n",
       "      <td>4.38</td>\n",
       "      <td>4.07</td>\n",
       "      <td>30</td>\n",
       "    </tr>\n",
       "    <tr>\n",
       "      <th>2</th>\n",
       "      <td>N85639</td>\n",
       "      <td>0301011R0</td>\n",
       "      <td>Salbutamol_Inha 100mcg (200 D) CFF</td>\n",
       "      <td>1</td>\n",
       "      <td>1.50</td>\n",
       "      <td>1.40</td>\n",
       "      <td>1</td>\n",
       "    </tr>\n",
       "    <tr>\n",
       "      <th>3</th>\n",
       "      <td>N85639</td>\n",
       "      <td>0304010G0</td>\n",
       "      <td>Chlorphenamine Mal_Oral Soln 2mg/5ml</td>\n",
       "      <td>1</td>\n",
       "      <td>2.62</td>\n",
       "      <td>2.44</td>\n",
       "      <td>150</td>\n",
       "    </tr>\n",
       "    <tr>\n",
       "      <th>4</th>\n",
       "      <td>N85639</td>\n",
       "      <td>0401020K0</td>\n",
       "      <td>Diazepam_Tab 2mg</td>\n",
       "      <td>1</td>\n",
       "      <td>0.16</td>\n",
       "      <td>0.26</td>\n",
       "      <td>6</td>\n",
       "    </tr>\n",
       "  </tbody>\n",
       "</table>\n",
       "</div>"
      ],
      "text/plain": [
       "     code   bnf_code                              bnf_name  items   nic  \\\n",
       "0  N85639  0106020C0                 Bisacodyl_Tab E/C 5mg      1  0.39   \n",
       "1  N85639  0106040M0      Movicol Plain_Paed Pdr Sach 6.9g      1  4.38   \n",
       "2  N85639  0301011R0    Salbutamol_Inha 100mcg (200 D) CFF      1  1.50   \n",
       "3  N85639  0304010G0  Chlorphenamine Mal_Oral Soln 2mg/5ml      1  2.62   \n",
       "4  N85639  0401020K0                      Diazepam_Tab 2mg      1  0.16   \n",
       "\n",
       "   act_cost  quantity  \n",
       "0      0.47        12  \n",
       "1      4.07        30  \n",
       "2      1.40         1  \n",
       "3      2.44       150  \n",
       "4      0.26         6  "
      ]
     },
     "execution_count": 19,
     "metadata": {},
     "output_type": "execute_result"
    }
   ],
   "source": [
    "# change the 'practice' column name to 'code'\n",
    "scripts = scripts.rename({'practice': 'code'}, axis = 1)\n",
    "scripts.head()"
   ]
  },
  {
   "cell_type": "code",
   "execution_count": 20,
   "metadata": {},
   "outputs": [],
   "source": [
    "# merge two data frames: \"scripts\" and \"practices\"\n",
    "merged_df = pd.merge(scripts, practices, on = ['code'])"
   ]
  },
  {
   "cell_type": "code",
   "execution_count": 21,
   "metadata": {},
   "outputs": [
    {
     "name": "stdout",
     "output_type": "stream",
     "text": [
      "(1134693, 13)\n"
     ]
    },
    {
     "data": {
      "text/html": [
       "<div>\n",
       "<style scoped>\n",
       "    .dataframe tbody tr th:only-of-type {\n",
       "        vertical-align: middle;\n",
       "    }\n",
       "\n",
       "    .dataframe tbody tr th {\n",
       "        vertical-align: top;\n",
       "    }\n",
       "\n",
       "    .dataframe thead th {\n",
       "        text-align: right;\n",
       "    }\n",
       "</style>\n",
       "<table border=\"1\" class=\"dataframe\">\n",
       "  <thead>\n",
       "    <tr style=\"text-align: right;\">\n",
       "      <th></th>\n",
       "      <th>code</th>\n",
       "      <th>bnf_code</th>\n",
       "      <th>bnf_name</th>\n",
       "      <th>items</th>\n",
       "      <th>nic</th>\n",
       "      <th>act_cost</th>\n",
       "      <th>quantity</th>\n",
       "      <th>name</th>\n",
       "      <th>addr_1</th>\n",
       "      <th>addr_2</th>\n",
       "      <th>borough</th>\n",
       "      <th>village</th>\n",
       "      <th>post_code</th>\n",
       "    </tr>\n",
       "  </thead>\n",
       "  <tbody>\n",
       "    <tr>\n",
       "      <th>0</th>\n",
       "      <td>N85639</td>\n",
       "      <td>0106020C0</td>\n",
       "      <td>Bisacodyl_Tab E/C 5mg</td>\n",
       "      <td>1</td>\n",
       "      <td>0.39</td>\n",
       "      <td>0.47</td>\n",
       "      <td>12</td>\n",
       "      <td>GP OOH VCH</td>\n",
       "      <td>VICTORIA CENTRAL HOSPITAL</td>\n",
       "      <td>MILL LANE</td>\n",
       "      <td>WALLASEY</td>\n",
       "      <td>NaN</td>\n",
       "      <td>CH44 5UF</td>\n",
       "    </tr>\n",
       "    <tr>\n",
       "      <th>1</th>\n",
       "      <td>N85639</td>\n",
       "      <td>0106040M0</td>\n",
       "      <td>Movicol Plain_Paed Pdr Sach 6.9g</td>\n",
       "      <td>1</td>\n",
       "      <td>4.38</td>\n",
       "      <td>4.07</td>\n",
       "      <td>30</td>\n",
       "      <td>GP OOH VCH</td>\n",
       "      <td>VICTORIA CENTRAL HOSPITAL</td>\n",
       "      <td>MILL LANE</td>\n",
       "      <td>WALLASEY</td>\n",
       "      <td>NaN</td>\n",
       "      <td>CH44 5UF</td>\n",
       "    </tr>\n",
       "    <tr>\n",
       "      <th>2</th>\n",
       "      <td>N85639</td>\n",
       "      <td>0301011R0</td>\n",
       "      <td>Salbutamol_Inha 100mcg (200 D) CFF</td>\n",
       "      <td>1</td>\n",
       "      <td>1.50</td>\n",
       "      <td>1.40</td>\n",
       "      <td>1</td>\n",
       "      <td>GP OOH VCH</td>\n",
       "      <td>VICTORIA CENTRAL HOSPITAL</td>\n",
       "      <td>MILL LANE</td>\n",
       "      <td>WALLASEY</td>\n",
       "      <td>NaN</td>\n",
       "      <td>CH44 5UF</td>\n",
       "    </tr>\n",
       "    <tr>\n",
       "      <th>3</th>\n",
       "      <td>N85639</td>\n",
       "      <td>0304010G0</td>\n",
       "      <td>Chlorphenamine Mal_Oral Soln 2mg/5ml</td>\n",
       "      <td>1</td>\n",
       "      <td>2.62</td>\n",
       "      <td>2.44</td>\n",
       "      <td>150</td>\n",
       "      <td>GP OOH VCH</td>\n",
       "      <td>VICTORIA CENTRAL HOSPITAL</td>\n",
       "      <td>MILL LANE</td>\n",
       "      <td>WALLASEY</td>\n",
       "      <td>NaN</td>\n",
       "      <td>CH44 5UF</td>\n",
       "    </tr>\n",
       "    <tr>\n",
       "      <th>4</th>\n",
       "      <td>N85639</td>\n",
       "      <td>0401020K0</td>\n",
       "      <td>Diazepam_Tab 2mg</td>\n",
       "      <td>1</td>\n",
       "      <td>0.16</td>\n",
       "      <td>0.26</td>\n",
       "      <td>6</td>\n",
       "      <td>GP OOH VCH</td>\n",
       "      <td>VICTORIA CENTRAL HOSPITAL</td>\n",
       "      <td>MILL LANE</td>\n",
       "      <td>WALLASEY</td>\n",
       "      <td>NaN</td>\n",
       "      <td>CH44 5UF</td>\n",
       "    </tr>\n",
       "  </tbody>\n",
       "</table>\n",
       "</div>"
      ],
      "text/plain": [
       "     code   bnf_code                              bnf_name  items   nic  \\\n",
       "0  N85639  0106020C0                 Bisacodyl_Tab E/C 5mg      1  0.39   \n",
       "1  N85639  0106040M0      Movicol Plain_Paed Pdr Sach 6.9g      1  4.38   \n",
       "2  N85639  0301011R0    Salbutamol_Inha 100mcg (200 D) CFF      1  1.50   \n",
       "3  N85639  0304010G0  Chlorphenamine Mal_Oral Soln 2mg/5ml      1  2.62   \n",
       "4  N85639  0401020K0                      Diazepam_Tab 2mg      1  0.16   \n",
       "\n",
       "   act_cost  quantity        name                     addr_1     addr_2  \\\n",
       "0      0.47        12  GP OOH VCH  VICTORIA CENTRAL HOSPITAL  MILL LANE   \n",
       "1      4.07        30  GP OOH VCH  VICTORIA CENTRAL HOSPITAL  MILL LANE   \n",
       "2      1.40         1  GP OOH VCH  VICTORIA CENTRAL HOSPITAL  MILL LANE   \n",
       "3      2.44       150  GP OOH VCH  VICTORIA CENTRAL HOSPITAL  MILL LANE   \n",
       "4      0.26         6  GP OOH VCH  VICTORIA CENTRAL HOSPITAL  MILL LANE   \n",
       "\n",
       "    borough village post_code  \n",
       "0  WALLASEY     NaN  CH44 5UF  \n",
       "1  WALLASEY     NaN  CH44 5UF  \n",
       "2  WALLASEY     NaN  CH44 5UF  \n",
       "3  WALLASEY     NaN  CH44 5UF  \n",
       "4  WALLASEY     NaN  CH44 5UF  "
      ]
     },
     "execution_count": 21,
     "metadata": {},
     "output_type": "execute_result"
    }
   ],
   "source": [
    "print(merged_df.shape)\n",
    "merged_df.head()"
   ]
  },
  {
   "cell_type": "code",
   "execution_count": 22,
   "metadata": {},
   "outputs": [],
   "source": [
    "# Group by postal code and bnf_name and calculate the sum of items: \n",
    "sum_items = merged_df.groupby(['post_code', 'bnf_name'])['items'].sum()"
   ]
  },
  {
   "cell_type": "code",
   "execution_count": 23,
   "metadata": {},
   "outputs": [
    {
     "data": {
      "text/html": [
       "<div>\n",
       "<style scoped>\n",
       "    .dataframe tbody tr th:only-of-type {\n",
       "        vertical-align: middle;\n",
       "    }\n",
       "\n",
       "    .dataframe tbody tr th {\n",
       "        vertical-align: top;\n",
       "    }\n",
       "\n",
       "    .dataframe thead th {\n",
       "        text-align: right;\n",
       "    }\n",
       "</style>\n",
       "<table border=\"1\" class=\"dataframe\">\n",
       "  <thead>\n",
       "    <tr style=\"text-align: right;\">\n",
       "      <th></th>\n",
       "      <th></th>\n",
       "      <th>items</th>\n",
       "    </tr>\n",
       "    <tr>\n",
       "      <th>post_code</th>\n",
       "      <th>bnf_name</th>\n",
       "      <th></th>\n",
       "    </tr>\n",
       "  </thead>\n",
       "  <tbody>\n",
       "    <tr>\n",
       "      <th rowspan=\"5\" valign=\"top\">B11 4BW</th>\n",
       "      <th>3m Health Care_Cavilon Durable Barrier C</th>\n",
       "      <td>7</td>\n",
       "    </tr>\n",
       "    <tr>\n",
       "      <th>3m Health Care_Cavilon No Sting Barrier</th>\n",
       "      <td>2</td>\n",
       "    </tr>\n",
       "    <tr>\n",
       "      <th>Abasaglar KwikPen_100u/ml 3ml Pf Pen</th>\n",
       "      <td>2</td>\n",
       "    </tr>\n",
       "    <tr>\n",
       "      <th>Abidec_Dps</th>\n",
       "      <td>63</td>\n",
       "    </tr>\n",
       "    <tr>\n",
       "      <th>Able Spacer + Sml/Med Mask</th>\n",
       "      <td>1</td>\n",
       "    </tr>\n",
       "  </tbody>\n",
       "</table>\n",
       "</div>"
      ],
      "text/plain": [
       "                                                    items\n",
       "post_code bnf_name                                       \n",
       "B11 4BW   3m Health Care_Cavilon Durable Barrier C      7\n",
       "          3m Health Care_Cavilon No Sting Barrier       2\n",
       "          Abasaglar KwikPen_100u/ml 3ml Pf Pen          2\n",
       "          Abidec_Dps                                   63\n",
       "          Able Spacer + Sml/Med Mask                    1"
      ]
     },
     "execution_count": 23,
     "metadata": {},
     "output_type": "execute_result"
    }
   ],
   "source": [
    "sum_items_df = sum_items.to_frame()\n",
    "sum_items_df.head()"
   ]
  },
  {
   "cell_type": "code",
   "execution_count": 24,
   "metadata": {},
   "outputs": [],
   "source": [
    "# Calculate the total of items for each postal code: \n",
    "total_items_per_postcode = sum_items.groupby(level = 'post_code').sum()"
   ]
  },
  {
   "cell_type": "code",
   "execution_count": 25,
   "metadata": {},
   "outputs": [
    {
     "data": {
      "text/plain": [
       "post_code\n",
       "B11 4BW     22731\n",
       "B12 9LP     23236\n",
       "B18 7AL     20508\n",
       "B21 9RY     31027\n",
       "B23 6DJ     28011\n",
       "            ...  \n",
       "WS7 0EW     14122\n",
       "WS9 8AJ     24483\n",
       "WV13 2DR    36381\n",
       "YO11 1UB    28507\n",
       "YO16 4LZ    53847\n",
       "Name: items, Length: 289, dtype: int64"
      ]
     },
     "execution_count": 25,
     "metadata": {},
     "output_type": "execute_result"
    }
   ],
   "source": [
    "total_items_per_postcode"
   ]
  },
  {
   "cell_type": "code",
   "execution_count": 26,
   "metadata": {},
   "outputs": [
    {
     "data": {
      "text/plain": [
       "pandas.core.series.Series"
      ]
     },
     "execution_count": 26,
     "metadata": {},
     "output_type": "execute_result"
    }
   ],
   "source": [
    "type(total_items_per_postcode)"
   ]
  },
  {
   "cell_type": "code",
   "execution_count": 27,
   "metadata": {},
   "outputs": [],
   "source": [
    "total_items_per_postcode_df = total_items_per_postcode.to_frame()"
   ]
  },
  {
   "cell_type": "code",
   "execution_count": 28,
   "metadata": {},
   "outputs": [
    {
     "data": {
      "text/html": [
       "<div>\n",
       "<style scoped>\n",
       "    .dataframe tbody tr th:only-of-type {\n",
       "        vertical-align: middle;\n",
       "    }\n",
       "\n",
       "    .dataframe tbody tr th {\n",
       "        vertical-align: top;\n",
       "    }\n",
       "\n",
       "    .dataframe thead th {\n",
       "        text-align: right;\n",
       "    }\n",
       "</style>\n",
       "<table border=\"1\" class=\"dataframe\">\n",
       "  <thead>\n",
       "    <tr style=\"text-align: right;\">\n",
       "      <th></th>\n",
       "      <th>total per post code</th>\n",
       "    </tr>\n",
       "    <tr>\n",
       "      <th>post_code</th>\n",
       "      <th></th>\n",
       "    </tr>\n",
       "  </thead>\n",
       "  <tbody>\n",
       "    <tr>\n",
       "      <th>B11 4BW</th>\n",
       "      <td>22731</td>\n",
       "    </tr>\n",
       "    <tr>\n",
       "      <th>B12 9LP</th>\n",
       "      <td>23236</td>\n",
       "    </tr>\n",
       "    <tr>\n",
       "      <th>B18 7AL</th>\n",
       "      <td>20508</td>\n",
       "    </tr>\n",
       "    <tr>\n",
       "      <th>B21 9RY</th>\n",
       "      <td>31027</td>\n",
       "    </tr>\n",
       "    <tr>\n",
       "      <th>B23 6DJ</th>\n",
       "      <td>28011</td>\n",
       "    </tr>\n",
       "  </tbody>\n",
       "</table>\n",
       "</div>"
      ],
      "text/plain": [
       "           total per post code\n",
       "post_code                     \n",
       "B11 4BW                  22731\n",
       "B12 9LP                  23236\n",
       "B18 7AL                  20508\n",
       "B21 9RY                  31027\n",
       "B23 6DJ                  28011"
      ]
     },
     "execution_count": 28,
     "metadata": {},
     "output_type": "execute_result"
    }
   ],
   "source": [
    "total_items_per_postcode_df = total_items_per_postcode_df.rename({'items': 'total per post code'}, axis = 1)\n",
    "total_items_per_postcode_df.head()"
   ]
  },
  {
   "cell_type": "code",
   "execution_count": 29,
   "metadata": {},
   "outputs": [],
   "source": [
    "# merge the dataframe 'total_items_per_postcode_df' to 'sum_items_df'\n",
    "sum_items_df_merge = sum_items_df.merge(total_items_per_postcode_df, on = ['post_code'], how = 'left')"
   ]
  },
  {
   "cell_type": "code",
   "execution_count": 30,
   "metadata": {},
   "outputs": [
    {
     "data": {
      "text/html": [
       "<div>\n",
       "<style scoped>\n",
       "    .dataframe tbody tr th:only-of-type {\n",
       "        vertical-align: middle;\n",
       "    }\n",
       "\n",
       "    .dataframe tbody tr th {\n",
       "        vertical-align: top;\n",
       "    }\n",
       "\n",
       "    .dataframe thead th {\n",
       "        text-align: right;\n",
       "    }\n",
       "</style>\n",
       "<table border=\"1\" class=\"dataframe\">\n",
       "  <thead>\n",
       "    <tr style=\"text-align: right;\">\n",
       "      <th></th>\n",
       "      <th>items</th>\n",
       "      <th>total per post code</th>\n",
       "    </tr>\n",
       "    <tr>\n",
       "      <th>post_code</th>\n",
       "      <th></th>\n",
       "      <th></th>\n",
       "    </tr>\n",
       "  </thead>\n",
       "  <tbody>\n",
       "    <tr>\n",
       "      <th>B11 4BW</th>\n",
       "      <td>7</td>\n",
       "      <td>22731</td>\n",
       "    </tr>\n",
       "    <tr>\n",
       "      <th>B11 4BW</th>\n",
       "      <td>2</td>\n",
       "      <td>22731</td>\n",
       "    </tr>\n",
       "    <tr>\n",
       "      <th>B11 4BW</th>\n",
       "      <td>2</td>\n",
       "      <td>22731</td>\n",
       "    </tr>\n",
       "    <tr>\n",
       "      <th>B11 4BW</th>\n",
       "      <td>63</td>\n",
       "      <td>22731</td>\n",
       "    </tr>\n",
       "    <tr>\n",
       "      <th>B11 4BW</th>\n",
       "      <td>1</td>\n",
       "      <td>22731</td>\n",
       "    </tr>\n",
       "  </tbody>\n",
       "</table>\n",
       "</div>"
      ],
      "text/plain": [
       "           items  total per post code\n",
       "post_code                            \n",
       "B11 4BW        7                22731\n",
       "B11 4BW        2                22731\n",
       "B11 4BW        2                22731\n",
       "B11 4BW       63                22731\n",
       "B11 4BW        1                22731"
      ]
     },
     "execution_count": 30,
     "metadata": {},
     "output_type": "execute_result"
    }
   ],
   "source": [
    "sum_items_df_merge.head()"
   ]
  },
  {
   "cell_type": "code",
   "execution_count": 31,
   "metadata": {},
   "outputs": [],
   "source": [
    "# add column 'total per post code' to the dataframe \"sum_items_df\"\n",
    "sum_items_df['total per post code'] = list(sum_items_df_merge['total per post code'])"
   ]
  },
  {
   "cell_type": "code",
   "execution_count": 32,
   "metadata": {},
   "outputs": [
    {
     "data": {
      "text/html": [
       "<div>\n",
       "<style scoped>\n",
       "    .dataframe tbody tr th:only-of-type {\n",
       "        vertical-align: middle;\n",
       "    }\n",
       "\n",
       "    .dataframe tbody tr th {\n",
       "        vertical-align: top;\n",
       "    }\n",
       "\n",
       "    .dataframe thead th {\n",
       "        text-align: right;\n",
       "    }\n",
       "</style>\n",
       "<table border=\"1\" class=\"dataframe\">\n",
       "  <thead>\n",
       "    <tr style=\"text-align: right;\">\n",
       "      <th></th>\n",
       "      <th></th>\n",
       "      <th>items</th>\n",
       "      <th>total per post code</th>\n",
       "    </tr>\n",
       "    <tr>\n",
       "      <th>post_code</th>\n",
       "      <th>bnf_name</th>\n",
       "      <th></th>\n",
       "      <th></th>\n",
       "    </tr>\n",
       "  </thead>\n",
       "  <tbody>\n",
       "    <tr>\n",
       "      <th rowspan=\"5\" valign=\"top\">B11 4BW</th>\n",
       "      <th>3m Health Care_Cavilon Durable Barrier C</th>\n",
       "      <td>7</td>\n",
       "      <td>22731</td>\n",
       "    </tr>\n",
       "    <tr>\n",
       "      <th>3m Health Care_Cavilon No Sting Barrier</th>\n",
       "      <td>2</td>\n",
       "      <td>22731</td>\n",
       "    </tr>\n",
       "    <tr>\n",
       "      <th>Abasaglar KwikPen_100u/ml 3ml Pf Pen</th>\n",
       "      <td>2</td>\n",
       "      <td>22731</td>\n",
       "    </tr>\n",
       "    <tr>\n",
       "      <th>Abidec_Dps</th>\n",
       "      <td>63</td>\n",
       "      <td>22731</td>\n",
       "    </tr>\n",
       "    <tr>\n",
       "      <th>Able Spacer + Sml/Med Mask</th>\n",
       "      <td>1</td>\n",
       "      <td>22731</td>\n",
       "    </tr>\n",
       "  </tbody>\n",
       "</table>\n",
       "</div>"
      ],
      "text/plain": [
       "                                                    items  total per post code\n",
       "post_code bnf_name                                                            \n",
       "B11 4BW   3m Health Care_Cavilon Durable Barrier C      7                22731\n",
       "          3m Health Care_Cavilon No Sting Barrier       2                22731\n",
       "          Abasaglar KwikPen_100u/ml 3ml Pf Pen          2                22731\n",
       "          Abidec_Dps                                   63                22731\n",
       "          Able Spacer + Sml/Med Mask                    1                22731"
      ]
     },
     "execution_count": 32,
     "metadata": {},
     "output_type": "execute_result"
    }
   ],
   "source": [
    "sum_items_df.head()"
   ]
  },
  {
   "cell_type": "code",
   "execution_count": 33,
   "metadata": {},
   "outputs": [],
   "source": [
    "# calculate the ratio of items by 'bnf_name'\n",
    "sum_items_df['ratio of items'] = sum_items_df['items']/sum_items_df['total per post code']"
   ]
  },
  {
   "cell_type": "code",
   "execution_count": 34,
   "metadata": {},
   "outputs": [
    {
     "data": {
      "text/html": [
       "<div>\n",
       "<style scoped>\n",
       "    .dataframe tbody tr th:only-of-type {\n",
       "        vertical-align: middle;\n",
       "    }\n",
       "\n",
       "    .dataframe tbody tr th {\n",
       "        vertical-align: top;\n",
       "    }\n",
       "\n",
       "    .dataframe thead th {\n",
       "        text-align: right;\n",
       "    }\n",
       "</style>\n",
       "<table border=\"1\" class=\"dataframe\">\n",
       "  <thead>\n",
       "    <tr style=\"text-align: right;\">\n",
       "      <th></th>\n",
       "      <th></th>\n",
       "      <th>items</th>\n",
       "      <th>total per post code</th>\n",
       "      <th>ratio of items</th>\n",
       "    </tr>\n",
       "    <tr>\n",
       "      <th>post_code</th>\n",
       "      <th>bnf_name</th>\n",
       "      <th></th>\n",
       "      <th></th>\n",
       "      <th></th>\n",
       "    </tr>\n",
       "  </thead>\n",
       "  <tbody>\n",
       "    <tr>\n",
       "      <th rowspan=\"5\" valign=\"top\">B11 4BW</th>\n",
       "      <th>3m Health Care_Cavilon Durable Barrier C</th>\n",
       "      <td>7</td>\n",
       "      <td>22731</td>\n",
       "      <td>0.000308</td>\n",
       "    </tr>\n",
       "    <tr>\n",
       "      <th>3m Health Care_Cavilon No Sting Barrier</th>\n",
       "      <td>2</td>\n",
       "      <td>22731</td>\n",
       "      <td>0.000088</td>\n",
       "    </tr>\n",
       "    <tr>\n",
       "      <th>Abasaglar KwikPen_100u/ml 3ml Pf Pen</th>\n",
       "      <td>2</td>\n",
       "      <td>22731</td>\n",
       "      <td>0.000088</td>\n",
       "    </tr>\n",
       "    <tr>\n",
       "      <th>Abidec_Dps</th>\n",
       "      <td>63</td>\n",
       "      <td>22731</td>\n",
       "      <td>0.002772</td>\n",
       "    </tr>\n",
       "    <tr>\n",
       "      <th>Able Spacer + Sml/Med Mask</th>\n",
       "      <td>1</td>\n",
       "      <td>22731</td>\n",
       "      <td>0.000044</td>\n",
       "    </tr>\n",
       "  </tbody>\n",
       "</table>\n",
       "</div>"
      ],
      "text/plain": [
       "                                                    items  \\\n",
       "post_code bnf_name                                          \n",
       "B11 4BW   3m Health Care_Cavilon Durable Barrier C      7   \n",
       "          3m Health Care_Cavilon No Sting Barrier       2   \n",
       "          Abasaglar KwikPen_100u/ml 3ml Pf Pen          2   \n",
       "          Abidec_Dps                                   63   \n",
       "          Able Spacer + Sml/Med Mask                    1   \n",
       "\n",
       "                                                    total per post code  \\\n",
       "post_code bnf_name                                                        \n",
       "B11 4BW   3m Health Care_Cavilon Durable Barrier C                22731   \n",
       "          3m Health Care_Cavilon No Sting Barrier                 22731   \n",
       "          Abasaglar KwikPen_100u/ml 3ml Pf Pen                    22731   \n",
       "          Abidec_Dps                                              22731   \n",
       "          Able Spacer + Sml/Med Mask                              22731   \n",
       "\n",
       "                                                    ratio of items  \n",
       "post_code bnf_name                                                  \n",
       "B11 4BW   3m Health Care_Cavilon Durable Barrier C        0.000308  \n",
       "          3m Health Care_Cavilon No Sting Barrier         0.000088  \n",
       "          Abasaglar KwikPen_100u/ml 3ml Pf Pen            0.000088  \n",
       "          Abidec_Dps                                      0.002772  \n",
       "          Able Spacer + Sml/Med Mask                      0.000044  "
      ]
     },
     "execution_count": 34,
     "metadata": {},
     "output_type": "execute_result"
    }
   ],
   "source": [
    "sum_items_df.head()"
   ]
  },
  {
   "cell_type": "code",
   "execution_count": 35,
   "metadata": {},
   "outputs": [],
   "source": [
    "ranged_df = sum_items_df.sort_values(['post_code', 'ratio of items', 'bnf_name'], ascending = [True, False, True])"
   ]
  },
  {
   "cell_type": "code",
   "execution_count": 36,
   "metadata": {},
   "outputs": [
    {
     "data": {
      "text/html": [
       "<div>\n",
       "<style scoped>\n",
       "    .dataframe tbody tr th:only-of-type {\n",
       "        vertical-align: middle;\n",
       "    }\n",
       "\n",
       "    .dataframe tbody tr th {\n",
       "        vertical-align: top;\n",
       "    }\n",
       "\n",
       "    .dataframe thead th {\n",
       "        text-align: right;\n",
       "    }\n",
       "</style>\n",
       "<table border=\"1\" class=\"dataframe\">\n",
       "  <thead>\n",
       "    <tr style=\"text-align: right;\">\n",
       "      <th></th>\n",
       "      <th></th>\n",
       "      <th>items</th>\n",
       "      <th>total per post code</th>\n",
       "      <th>ratio of items</th>\n",
       "    </tr>\n",
       "    <tr>\n",
       "      <th>post_code</th>\n",
       "      <th>bnf_name</th>\n",
       "      <th></th>\n",
       "      <th></th>\n",
       "      <th></th>\n",
       "    </tr>\n",
       "  </thead>\n",
       "  <tbody>\n",
       "    <tr>\n",
       "      <th rowspan=\"5\" valign=\"top\">B11 4BW</th>\n",
       "      <th>Salbutamol_Inha 100mcg (200 D) CFF</th>\n",
       "      <td>706</td>\n",
       "      <td>22731</td>\n",
       "      <td>0.031059</td>\n",
       "    </tr>\n",
       "    <tr>\n",
       "      <th>Paracet_Tab 500mg</th>\n",
       "      <td>451</td>\n",
       "      <td>22731</td>\n",
       "      <td>0.019841</td>\n",
       "    </tr>\n",
       "    <tr>\n",
       "      <th>Metformin HCl_Tab 500mg</th>\n",
       "      <td>387</td>\n",
       "      <td>22731</td>\n",
       "      <td>0.017025</td>\n",
       "    </tr>\n",
       "    <tr>\n",
       "      <th>Lansoprazole_Cap 30mg (E/C Gran)</th>\n",
       "      <td>385</td>\n",
       "      <td>22731</td>\n",
       "      <td>0.016937</td>\n",
       "    </tr>\n",
       "    <tr>\n",
       "      <th>Amoxicillin_Cap 500mg</th>\n",
       "      <td>350</td>\n",
       "      <td>22731</td>\n",
       "      <td>0.015397</td>\n",
       "    </tr>\n",
       "  </tbody>\n",
       "</table>\n",
       "</div>"
      ],
      "text/plain": [
       "                                              items  total per post code  \\\n",
       "post_code bnf_name                                                         \n",
       "B11 4BW   Salbutamol_Inha 100mcg (200 D) CFF    706                22731   \n",
       "          Paracet_Tab 500mg                     451                22731   \n",
       "          Metformin HCl_Tab 500mg               387                22731   \n",
       "          Lansoprazole_Cap 30mg (E/C Gran)      385                22731   \n",
       "          Amoxicillin_Cap 500mg                 350                22731   \n",
       "\n",
       "                                              ratio of items  \n",
       "post_code bnf_name                                            \n",
       "B11 4BW   Salbutamol_Inha 100mcg (200 D) CFF        0.031059  \n",
       "          Paracet_Tab 500mg                         0.019841  \n",
       "          Metformin HCl_Tab 500mg                   0.017025  \n",
       "          Lansoprazole_Cap 30mg (E/C Gran)          0.016937  \n",
       "          Amoxicillin_Cap 500mg                     0.015397  "
      ]
     },
     "execution_count": 36,
     "metadata": {},
     "output_type": "execute_result"
    }
   ],
   "source": [
    "ranged_df.head()"
   ]
  },
  {
   "cell_type": "code",
   "execution_count": 37,
   "metadata": {},
   "outputs": [],
   "source": [
    "# reset index for 'ranged_df'\n",
    "ranged_df_rs = ranged_df.reset_index()"
   ]
  },
  {
   "cell_type": "code",
   "execution_count": 38,
   "metadata": {},
   "outputs": [
    {
     "data": {
      "text/html": [
       "<div>\n",
       "<style scoped>\n",
       "    .dataframe tbody tr th:only-of-type {\n",
       "        vertical-align: middle;\n",
       "    }\n",
       "\n",
       "    .dataframe tbody tr th {\n",
       "        vertical-align: top;\n",
       "    }\n",
       "\n",
       "    .dataframe thead th {\n",
       "        text-align: right;\n",
       "    }\n",
       "</style>\n",
       "<table border=\"1\" class=\"dataframe\">\n",
       "  <thead>\n",
       "    <tr style=\"text-align: right;\">\n",
       "      <th></th>\n",
       "      <th>post_code</th>\n",
       "      <th>bnf_name</th>\n",
       "      <th>items</th>\n",
       "      <th>total per post code</th>\n",
       "      <th>ratio of items</th>\n",
       "    </tr>\n",
       "  </thead>\n",
       "  <tbody>\n",
       "    <tr>\n",
       "      <th>0</th>\n",
       "      <td>B11 4BW</td>\n",
       "      <td>Salbutamol_Inha 100mcg (200 D) CFF</td>\n",
       "      <td>706</td>\n",
       "      <td>22731</td>\n",
       "      <td>0.031059</td>\n",
       "    </tr>\n",
       "    <tr>\n",
       "      <th>1</th>\n",
       "      <td>B11 4BW</td>\n",
       "      <td>Paracet_Tab 500mg</td>\n",
       "      <td>451</td>\n",
       "      <td>22731</td>\n",
       "      <td>0.019841</td>\n",
       "    </tr>\n",
       "    <tr>\n",
       "      <th>2</th>\n",
       "      <td>B11 4BW</td>\n",
       "      <td>Metformin HCl_Tab 500mg</td>\n",
       "      <td>387</td>\n",
       "      <td>22731</td>\n",
       "      <td>0.017025</td>\n",
       "    </tr>\n",
       "    <tr>\n",
       "      <th>3</th>\n",
       "      <td>B11 4BW</td>\n",
       "      <td>Lansoprazole_Cap 30mg (E/C Gran)</td>\n",
       "      <td>385</td>\n",
       "      <td>22731</td>\n",
       "      <td>0.016937</td>\n",
       "    </tr>\n",
       "    <tr>\n",
       "      <th>4</th>\n",
       "      <td>B11 4BW</td>\n",
       "      <td>Amoxicillin_Cap 500mg</td>\n",
       "      <td>350</td>\n",
       "      <td>22731</td>\n",
       "      <td>0.015397</td>\n",
       "    </tr>\n",
       "  </tbody>\n",
       "</table>\n",
       "</div>"
      ],
      "text/plain": [
       "  post_code                            bnf_name  items  total per post code  \\\n",
       "0   B11 4BW  Salbutamol_Inha 100mcg (200 D) CFF    706                22731   \n",
       "1   B11 4BW                   Paracet_Tab 500mg    451                22731   \n",
       "2   B11 4BW             Metformin HCl_Tab 500mg    387                22731   \n",
       "3   B11 4BW    Lansoprazole_Cap 30mg (E/C Gran)    385                22731   \n",
       "4   B11 4BW               Amoxicillin_Cap 500mg    350                22731   \n",
       "\n",
       "   ratio of items  \n",
       "0        0.031059  \n",
       "1        0.019841  \n",
       "2        0.017025  \n",
       "3        0.016937  \n",
       "4        0.015397  "
      ]
     },
     "execution_count": 38,
     "metadata": {},
     "output_type": "execute_result"
    }
   ],
   "source": [
    "ranged_df_rs.head()"
   ]
  },
  {
   "cell_type": "code",
   "execution_count": 39,
   "metadata": {},
   "outputs": [
    {
     "data": {
      "text/plain": [
       "289"
      ]
     },
     "execution_count": 39,
     "metadata": {},
     "output_type": "execute_result"
    }
   ],
   "source": [
    "# number of postal codes\n",
    "len(set(ranged_df_rs['post_code']))"
   ]
  },
  {
   "cell_type": "code",
   "execution_count": 40,
   "metadata": {},
   "outputs": [],
   "source": [
    "# set of all postal codes\n",
    "s = set(ranged_df_rs['post_code'])"
   ]
  },
  {
   "cell_type": "code",
   "execution_count": 41,
   "metadata": {},
   "outputs": [],
   "source": [
    "list_s = ['B11 4BW',\n",
    " 'B12 9LP',\n",
    " 'B18 7AL',\n",
    " 'B21 9RY',\n",
    " 'B23 6DJ',\n",
    " 'B26 1TH',\n",
    " 'B61 0AZ',\n",
    " 'B70 7AW',\n",
    " 'B72 1RL',\n",
    " 'B8 1RZ',\n",
    " 'B9 5PU',\n",
    " 'B90 3LX',\n",
    " 'BA5 1XJ',\n",
    " 'BB11 2DL',\n",
    " 'BB12 8BS',\n",
    " 'BB2 1AX',\n",
    " 'BB3 1PY',\n",
    " 'BB4 5SL',\n",
    " 'BB4 7PL',\n",
    " 'BB7 2JG',\n",
    " 'BB8 0JZ',\n",
    " 'BB9 7SR',\n",
    " 'BD16 4RP',\n",
    " 'BD19 5AP',\n",
    " 'BD3 8QH',\n",
    " 'BD4 7SS',\n",
    " 'BH14 0DJ',\n",
    " 'BH14 9ET',\n",
    " 'BH18 8EE',\n",
    " 'BH23 3AF',\n",
    " 'BL1 3RG',\n",
    " 'BL1 8TU',\n",
    " 'BL2 6NT',\n",
    " 'BL3 5HP',\n",
    " 'BL9 0NJ',\n",
    " 'BL9 0SN',\n",
    " 'BN1 6AG',\n",
    " 'BN1 8DD',\n",
    " 'BN9 9PW',\n",
    " 'BR2 9GT',\n",
    " 'BR3 3FD',\n",
    " 'BS16 3TD',\n",
    " 'BS23 3HQ',\n",
    " 'BS4 1WH',\n",
    " 'BS4 4HU',\n",
    " 'BS48 2XX',\n",
    " 'BS48 3HA',\n",
    " 'CA11 8HW',\n",
    " 'CB22 3HU',\n",
    " 'CB9 8HF',\n",
    " 'CH1 4DS',\n",
    " 'CH41 8DB',\n",
    " 'CH44 5UF',\n",
    " 'CH62 5HS',\n",
    " 'CH62 6EE',\n",
    " 'CH65 6TG',\n",
    " 'CH66 3PB',\n",
    " 'CM18 6LY',\n",
    " 'CR0 0JA',\n",
    " 'CT11 8AD',\n",
    " 'CV1 4FS',\n",
    " 'CV12 8NQ',\n",
    " 'CV21 2DN',\n",
    " 'CV6 2FL',\n",
    " 'CV6 6DR',\n",
    " 'CW1 3AW',\n",
    " 'CW5 5NX',\n",
    " 'CW7 1AT',\n",
    " 'DA1 2HA',\n",
    " 'DA11 8BZ',\n",
    " 'DN16 2AB',\n",
    " 'DN22 7XF',\n",
    " 'DN31 3AE',\n",
    " 'DN34 4GB',\n",
    " 'DN36 4QG',\n",
    " 'DN6 0HZ',\n",
    " 'DN8 4BQ',\n",
    " 'DY11 6SF',\n",
    " 'E15 4ES',\n",
    " 'E7 0EP',\n",
    " 'FY2 0JG',\n",
    " 'FY4 1TJ',\n",
    " 'FY5 2TZ',\n",
    " 'FY5 3LF',\n",
    " 'FY7 8GU',\n",
    " 'FY8 5DZ',\n",
    " 'GL1 3PX',\n",
    " 'GL20 5GJ',\n",
    " 'GL20 5QQ',\n",
    " 'GL20 5RY',\n",
    " 'GL50 4DP',\n",
    " 'GU9 9QS',\n",
    " 'HA0 4UZ',\n",
    " 'HA3 7LT',\n",
    " 'HD6 1AT',\n",
    " 'HG1 5AR',\n",
    " 'HR1 2JB',\n",
    " 'HR6 8HD',\n",
    " 'HU7 4DW',\n",
    " 'HU9 2LJ',\n",
    " 'IG7 4DF',\n",
    " 'IP22 4WG',\n",
    " 'KT12 3LB',\n",
    " 'KT14 6DH',\n",
    " 'KT16 8HZ',\n",
    " 'KT6 6EZ',\n",
    " 'KT6 7QU',\n",
    " 'L31 0DJ',\n",
    " 'L31 8BP',\n",
    " 'L31 8BR',\n",
    " 'L34 1ND',\n",
    " 'L36 0UB',\n",
    " 'L36 5TH',\n",
    " 'L36 7XY',\n",
    " 'L5 0QW',\n",
    " 'L7 6HD',\n",
    " 'L8 6QP',\n",
    " 'L9 1AD',\n",
    " 'LA1 1PN',\n",
    " 'LA1 2LG',\n",
    " 'LA1 4JS',\n",
    " 'LE10 1DS',\n",
    " 'LE18 2EW',\n",
    " 'LE2 9BU',\n",
    " 'LE5 3GH',\n",
    " 'LE7 2EQ',\n",
    " 'LN1 2NU',\n",
    " 'LN2 2JP',\n",
    " 'LN6 0QQ',\n",
    " 'LN7 6NX',\n",
    " 'LS9 9EF',\n",
    " 'M11 4EJ',\n",
    " 'M13 9UJ',\n",
    " 'M22 5RX',\n",
    " 'M22 9UH',\n",
    " 'M26 2SP',\n",
    " 'M28 3AT',\n",
    " 'M30 0NU',\n",
    " 'M34 2AJ',\n",
    " 'M34 3RA',\n",
    " 'M35 0AD',\n",
    " 'M7 1RD',\n",
    " 'ME12 1UP',\n",
    " 'ME12 3LT',\n",
    " 'ME8 8AA',\n",
    " 'N12 9SS',\n",
    " 'N15 4JR',\n",
    " 'N9 0TW',\n",
    " 'N9 7HD',\n",
    " 'NE10 9QG',\n",
    " 'NE20 9SD',\n",
    " 'NE24 1DX',\n",
    " 'NE24 1HD',\n",
    " 'NE27 0HJ',\n",
    " 'NE29 0SF',\n",
    " 'NE31 1NU',\n",
    " 'NE33 4JP',\n",
    " 'NE37 2PU',\n",
    " 'NE38 7NQ',\n",
    " 'NE38 8JF',\n",
    " 'NG10 1RY',\n",
    " 'NG2 7SD',\n",
    " 'NG6 8QJ',\n",
    " 'NG7 3GW',\n",
    " 'NG7 5HY',\n",
    " 'NG8 6AS',\n",
    " 'NN16 8DN',\n",
    " 'NN3 8DW',\n",
    " 'NR28 0BQ',\n",
    " 'NW10 8RY',\n",
    " 'OL1 1NL',\n",
    " 'OL11 1DN',\n",
    " 'OL2 6QW',\n",
    " 'OL4 1YN',\n",
    " 'OL6 6HD',\n",
    " 'OL6 7SR',\n",
    " 'OL9 0LH',\n",
    " 'OL9 7AY',\n",
    " 'OX12 9BN',\n",
    " 'OX16 9AD',\n",
    " 'PE1 2QP',\n",
    " 'PE21 8EG',\n",
    " 'PL7 1AD',\n",
    " 'PO11 9AP',\n",
    " 'PR25 1HR',\n",
    " 'PR3 1PB',\n",
    " 'RM3 9SU',\n",
    " 'S6 4JQ',\n",
    " 'S63 9EH',\n",
    " 'S65 1DA',\n",
    " 'S70 1QE',\n",
    " 'S74 9AF',\n",
    " 'SE1 6JP',\n",
    " 'SE15 5LJ',\n",
    " 'SE15 6DB',\n",
    " 'SE17 3BD',\n",
    " 'SE25 5NT',\n",
    " 'SE8 4BG',\n",
    " 'SG8 8HY',\n",
    " 'SK11 6JL',\n",
    " 'SK6 1ND',\n",
    " 'SK8 3JD',\n",
    " 'SK8 6LU',\n",
    " 'SL9 9SA',\n",
    " 'SM3 8EP',\n",
    " 'SM6 0HY',\n",
    " 'SR4 7XF',\n",
    " 'SR4 9AS',\n",
    " 'SR5 2LT',\n",
    " 'SR7 7JE',\n",
    " 'SR8 2RT',\n",
    " 'SS0 7AF',\n",
    " 'SS13 3HQ',\n",
    " 'SS4 1AY',\n",
    " 'SS7 4EA',\n",
    " 'SS8 0JA',\n",
    " 'SS9 5UU',\n",
    " 'ST1 4PB',\n",
    " 'ST3 1EQ',\n",
    " 'ST3 5DQ',\n",
    " 'ST3 6AB',\n",
    " 'ST7 2LU',\n",
    " 'ST7 4AY',\n",
    " 'ST8 6AG',\n",
    " 'TF3 2JZ',\n",
    " 'TF4 2LL',\n",
    " 'TN24 0GP',\n",
    " 'TN34 1BA',\n",
    " 'TQ2 6HW',\n",
    " 'TQ2 8JG',\n",
    " 'TR1 2JA',\n",
    " 'TR1 3ER',\n",
    " 'TS1 2NX',\n",
    " 'TS10 4NW',\n",
    " 'TS14 7DJ',\n",
    " 'TS17 0EE',\n",
    " 'TS23 2DG',\n",
    " 'TS24 7PW',\n",
    " 'TS3 6AL',\n",
    " 'TS6 6TD',\n",
    " 'TS8 0TL',\n",
    " 'TW13 4GU',\n",
    " 'TW3 2DY',\n",
    " 'TW3 3LN',\n",
    " 'TW5 9ER',\n",
    " 'TW8 8DS',\n",
    " 'UB5 6WL',\n",
    " 'W10 6DZ',\n",
    " 'W12 7FG',\n",
    " 'W4 1RX',\n",
    " 'WA1 3RB',\n",
    " 'WA10 2DJ',\n",
    " 'WA11 0JN',\n",
    " 'WA11 0NA',\n",
    " 'WA15 6PH',\n",
    " 'WA3 3GS',\n",
    " 'WA6 6RX',\n",
    " 'WA7 1AB',\n",
    " 'WA7 2UT',\n",
    " 'WA9 1LN',\n",
    " 'WD18 0JP',\n",
    " 'WD18 7QR',\n",
    " 'WD23 2NN',\n",
    " 'WD3 7DJ',\n",
    " 'WF13 1HN',\n",
    " 'WF16 0HH',\n",
    " 'WF5 8DF',\n",
    " 'WF9 3AP',\n",
    " 'WN2 5NG',\n",
    " 'WN3 5HL',\n",
    " 'WN5 9QX',\n",
    " 'WN7 1HR',\n",
    " 'WN7 2PE',\n",
    " 'WR11 4BS',\n",
    " 'WR14 2GP',\n",
    " 'WR9 8RD',\n",
    " 'WS1 3PS',\n",
    " 'WS10 8SY',\n",
    " 'WS11 9SE',\n",
    " 'WS13 6JL',\n",
    " 'WS13 7HT',\n",
    " 'WS2 0BA',\n",
    " 'WS3 1ET',\n",
    " 'WS3 3JP',\n",
    " 'WS7 0EW',\n",
    " 'WS9 8AJ',\n",
    " 'WV13 2DR',\n",
    " 'YO11 1UB',\n",
    " 'YO16 4LZ']"
   ]
  },
  {
   "cell_type": "code",
   "execution_count": 42,
   "metadata": {},
   "outputs": [
    {
     "name": "stdout",
     "output_type": "stream",
     "text": [
      "(612859, 3)\n"
     ]
    },
    {
     "data": {
      "text/html": [
       "<div>\n",
       "<style scoped>\n",
       "    .dataframe tbody tr th:only-of-type {\n",
       "        vertical-align: middle;\n",
       "    }\n",
       "\n",
       "    .dataframe tbody tr th {\n",
       "        vertical-align: top;\n",
       "    }\n",
       "\n",
       "    .dataframe thead th {\n",
       "        text-align: right;\n",
       "    }\n",
       "</style>\n",
       "<table border=\"1\" class=\"dataframe\">\n",
       "  <thead>\n",
       "    <tr style=\"text-align: right;\">\n",
       "      <th></th>\n",
       "      <th>post_code</th>\n",
       "      <th>bnf_name</th>\n",
       "      <th>ratio of items</th>\n",
       "    </tr>\n",
       "  </thead>\n",
       "  <tbody>\n",
       "    <tr>\n",
       "      <th>0</th>\n",
       "      <td>B11 4BW</td>\n",
       "      <td>Salbutamol_Inha 100mcg (200 D) CFF</td>\n",
       "      <td>0.031059</td>\n",
       "    </tr>\n",
       "    <tr>\n",
       "      <th>1</th>\n",
       "      <td>B11 4BW</td>\n",
       "      <td>Paracet_Tab 500mg</td>\n",
       "      <td>0.019841</td>\n",
       "    </tr>\n",
       "    <tr>\n",
       "      <th>2</th>\n",
       "      <td>B11 4BW</td>\n",
       "      <td>Metformin HCl_Tab 500mg</td>\n",
       "      <td>0.017025</td>\n",
       "    </tr>\n",
       "    <tr>\n",
       "      <th>3</th>\n",
       "      <td>B11 4BW</td>\n",
       "      <td>Lansoprazole_Cap 30mg (E/C Gran)</td>\n",
       "      <td>0.016937</td>\n",
       "    </tr>\n",
       "    <tr>\n",
       "      <th>4</th>\n",
       "      <td>B11 4BW</td>\n",
       "      <td>Amoxicillin_Cap 500mg</td>\n",
       "      <td>0.015397</td>\n",
       "    </tr>\n",
       "  </tbody>\n",
       "</table>\n",
       "</div>"
      ],
      "text/plain": [
       "  post_code                            bnf_name  ratio of items\n",
       "0   B11 4BW  Salbutamol_Inha 100mcg (200 D) CFF        0.031059\n",
       "1   B11 4BW                   Paracet_Tab 500mg        0.019841\n",
       "2   B11 4BW             Metformin HCl_Tab 500mg        0.017025\n",
       "3   B11 4BW    Lansoprazole_Cap 30mg (E/C Gran)        0.016937\n",
       "4   B11 4BW               Amoxicillin_Cap 500mg        0.015397"
      ]
     },
     "execution_count": 42,
     "metadata": {},
     "output_type": "execute_result"
    }
   ],
   "source": [
    "ranged_df_rs_new = ranged_df_rs[['post_code', 'bnf_name', 'ratio of items']]\n",
    "print(ranged_df_rs_new.shape)\n",
    "ranged_df_rs_new.head()"
   ]
  },
  {
   "cell_type": "code",
   "execution_count": 43,
   "metadata": {},
   "outputs": [],
   "source": [
    "items_by_region = []\n",
    "for i in np.arange(0,100):\n",
    "    sub_df = ranged_df_rs_new[ranged_df_rs_new['post_code']==list_s[i]]\n",
    "    items_by_region.append(tuple(sub_df.iloc[0]))"
   ]
  },
  {
   "cell_type": "code",
   "execution_count": 44,
   "metadata": {},
   "outputs": [
    {
     "name": "stdout",
     "output_type": "stream",
     "text": [
      "100\n"
     ]
    }
   ],
   "source": [
    "print(len(items_by_region))\n",
    "#print(items_by_region)"
   ]
  },
  {
   "cell_type": "code",
   "execution_count": 45,
   "metadata": {},
   "outputs": [],
   "source": [
    "#items_by_region = [(\"B11 4BW\", \"Salbutamol_Inha 100mcg (200 D) CFF\", 0.0310589063)] * 100"
   ]
  },
  {
   "cell_type": "code",
   "execution_count": 46,
   "metadata": {},
   "outputs": [
    {
     "name": "stdout",
     "output_type": "stream",
     "text": [
      "==================\n",
      "Your score:  0.8600000000000005\n",
      "==================\n"
     ]
    }
   ],
   "source": [
    "grader.score.dw__items_by_region(items_by_region) "
   ]
  },
  {
   "cell_type": "markdown",
   "metadata": {},
   "source": [
    "## Question 4: script_anomalies\n",
    "\n",
    "Drug abuse is a source of human and monetary costs in health care. A first step in identifying practitioners that enable drug abuse is to look for practices where commonly abused drugs are prescribed unusually often. Let's try to find practices that prescribe an unusually high amount of opioids. The opioids we'll look for are given in the list below."
   ]
  },
  {
   "cell_type": "code",
   "execution_count": 47,
   "metadata": {},
   "outputs": [],
   "source": [
    "opioids = ['morphine', 'oxycodone', 'methadone', 'fentanyl', 'pethidine', 'buprenorphine', 'propoxyphene', 'codeine']"
   ]
  },
  {
   "cell_type": "markdown",
   "metadata": {},
   "source": [
    "These are generic names for drugs, not brand names. Generic drug names can be found using the `'bnf_code'` field in `scripts` along with the `chem` table.. Use the list of opioids provided above along with these fields to make a new field in the `scripts` data that flags whether the row corresponds with a opioid prescription."
   ]
  },
  {
   "cell_type": "code",
   "execution_count": 48,
   "metadata": {},
   "outputs": [
    {
     "data": {
      "text/plain": [
       "'morphine|oxycodone|methadone|fentanyl|pethidine|buprenorphine|propoxyphene|codeine'"
      ]
     },
     "execution_count": 48,
     "metadata": {},
     "output_type": "execute_result"
    }
   ],
   "source": [
    "opioids_join = '|'.join(opioids)\n",
    "opioids_join"
   ]
  },
  {
   "cell_type": "code",
   "execution_count": 49,
   "metadata": {},
   "outputs": [
    {
     "data": {
      "text/plain": [
       "35"
      ]
     },
     "execution_count": 49,
     "metadata": {},
     "output_type": "execute_result"
    }
   ],
   "source": [
    "opioid_codes = chem.loc[chem['NAME'].str.contains(opioids_join, case=False)]['CHEM SUB'].tolist()\n",
    "len(opioid_codes)"
   ]
  },
  {
   "cell_type": "code",
   "execution_count": 50,
   "metadata": {},
   "outputs": [
    {
     "data": {
      "text/html": [
       "<div>\n",
       "<style scoped>\n",
       "    .dataframe tbody tr th:only-of-type {\n",
       "        vertical-align: middle;\n",
       "    }\n",
       "\n",
       "    .dataframe tbody tr th {\n",
       "        vertical-align: top;\n",
       "    }\n",
       "\n",
       "    .dataframe thead th {\n",
       "        text-align: right;\n",
       "    }\n",
       "</style>\n",
       "<table border=\"1\" class=\"dataframe\">\n",
       "  <thead>\n",
       "    <tr style=\"text-align: right;\">\n",
       "      <th></th>\n",
       "      <th>bnf_code</th>\n",
       "      <th>chem_name</th>\n",
       "    </tr>\n",
       "  </thead>\n",
       "  <tbody>\n",
       "    <tr>\n",
       "      <th>0</th>\n",
       "      <td>0101010A0</td>\n",
       "      <td>Alexitol Sodium</td>\n",
       "    </tr>\n",
       "    <tr>\n",
       "      <th>1</th>\n",
       "      <td>0101010B0</td>\n",
       "      <td>Almasilate</td>\n",
       "    </tr>\n",
       "    <tr>\n",
       "      <th>2</th>\n",
       "      <td>0101010C0</td>\n",
       "      <td>Aluminium Hydroxide</td>\n",
       "    </tr>\n",
       "    <tr>\n",
       "      <th>3</th>\n",
       "      <td>0101010D0</td>\n",
       "      <td>Aluminium Hydroxide With Magnesium</td>\n",
       "    </tr>\n",
       "    <tr>\n",
       "      <th>4</th>\n",
       "      <td>0101010E0</td>\n",
       "      <td>Hydrotalcite</td>\n",
       "    </tr>\n",
       "  </tbody>\n",
       "</table>\n",
       "</div>"
      ],
      "text/plain": [
       "    bnf_code                           chem_name\n",
       "0  0101010A0                     Alexitol Sodium\n",
       "1  0101010B0                          Almasilate\n",
       "2  0101010C0                 Aluminium Hydroxide\n",
       "3  0101010D0  Aluminium Hydroxide With Magnesium\n",
       "4  0101010E0                        Hydrotalcite"
      ]
     },
     "execution_count": 50,
     "metadata": {},
     "output_type": "execute_result"
    }
   ],
   "source": [
    "chem_new = chem\n",
    "chem_new.columns = ['bnf_code','chem_name']\n",
    "chem_new.head()"
   ]
  },
  {
   "cell_type": "code",
   "execution_count": 51,
   "metadata": {},
   "outputs": [
    {
     "data": {
      "text/html": [
       "<div>\n",
       "<style scoped>\n",
       "    .dataframe tbody tr th:only-of-type {\n",
       "        vertical-align: middle;\n",
       "    }\n",
       "\n",
       "    .dataframe tbody tr th {\n",
       "        vertical-align: top;\n",
       "    }\n",
       "\n",
       "    .dataframe thead th {\n",
       "        text-align: right;\n",
       "    }\n",
       "</style>\n",
       "<table border=\"1\" class=\"dataframe\">\n",
       "  <thead>\n",
       "    <tr style=\"text-align: right;\">\n",
       "      <th></th>\n",
       "      <th>code</th>\n",
       "      <th>bnf_code</th>\n",
       "      <th>bnf_name</th>\n",
       "      <th>items</th>\n",
       "      <th>nic</th>\n",
       "      <th>act_cost</th>\n",
       "      <th>quantity</th>\n",
       "    </tr>\n",
       "  </thead>\n",
       "  <tbody>\n",
       "    <tr>\n",
       "      <th>0</th>\n",
       "      <td>N85639</td>\n",
       "      <td>0106020C0</td>\n",
       "      <td>Bisacodyl_Tab E/C 5mg</td>\n",
       "      <td>1</td>\n",
       "      <td>0.39</td>\n",
       "      <td>0.47</td>\n",
       "      <td>12</td>\n",
       "    </tr>\n",
       "    <tr>\n",
       "      <th>1</th>\n",
       "      <td>N85639</td>\n",
       "      <td>0106040M0</td>\n",
       "      <td>Movicol Plain_Paed Pdr Sach 6.9g</td>\n",
       "      <td>1</td>\n",
       "      <td>4.38</td>\n",
       "      <td>4.07</td>\n",
       "      <td>30</td>\n",
       "    </tr>\n",
       "    <tr>\n",
       "      <th>2</th>\n",
       "      <td>N85639</td>\n",
       "      <td>0301011R0</td>\n",
       "      <td>Salbutamol_Inha 100mcg (200 D) CFF</td>\n",
       "      <td>1</td>\n",
       "      <td>1.50</td>\n",
       "      <td>1.40</td>\n",
       "      <td>1</td>\n",
       "    </tr>\n",
       "    <tr>\n",
       "      <th>3</th>\n",
       "      <td>N85639</td>\n",
       "      <td>0304010G0</td>\n",
       "      <td>Chlorphenamine Mal_Oral Soln 2mg/5ml</td>\n",
       "      <td>1</td>\n",
       "      <td>2.62</td>\n",
       "      <td>2.44</td>\n",
       "      <td>150</td>\n",
       "    </tr>\n",
       "    <tr>\n",
       "      <th>4</th>\n",
       "      <td>N85639</td>\n",
       "      <td>0401020K0</td>\n",
       "      <td>Diazepam_Tab 2mg</td>\n",
       "      <td>1</td>\n",
       "      <td>0.16</td>\n",
       "      <td>0.26</td>\n",
       "      <td>6</td>\n",
       "    </tr>\n",
       "  </tbody>\n",
       "</table>\n",
       "</div>"
      ],
      "text/plain": [
       "     code   bnf_code                              bnf_name  items   nic  \\\n",
       "0  N85639  0106020C0                 Bisacodyl_Tab E/C 5mg      1  0.39   \n",
       "1  N85639  0106040M0      Movicol Plain_Paed Pdr Sach 6.9g      1  4.38   \n",
       "2  N85639  0301011R0    Salbutamol_Inha 100mcg (200 D) CFF      1  1.50   \n",
       "3  N85639  0304010G0  Chlorphenamine Mal_Oral Soln 2mg/5ml      1  2.62   \n",
       "4  N85639  0401020K0                      Diazepam_Tab 2mg      1  0.16   \n",
       "\n",
       "   act_cost  quantity  \n",
       "0      0.47        12  \n",
       "1      4.07        30  \n",
       "2      1.40         1  \n",
       "3      2.44       150  \n",
       "4      0.26         6  "
      ]
     },
     "execution_count": 51,
     "metadata": {},
     "output_type": "execute_result"
    }
   ],
   "source": [
    "scripts.head()"
   ]
  },
  {
   "cell_type": "code",
   "execution_count": 52,
   "metadata": {},
   "outputs": [],
   "source": [
    "scripts['opioid_prescription'] = scripts['bnf_code'].isin(opioid_codes)"
   ]
  },
  {
   "cell_type": "code",
   "execution_count": 53,
   "metadata": {},
   "outputs": [],
   "source": [
    "scripts = scripts.rename({'code':'practice'}, axis = 1)"
   ]
  },
  {
   "cell_type": "code",
   "execution_count": 54,
   "metadata": {},
   "outputs": [
    {
     "data": {
      "text/html": [
       "<div>\n",
       "<style scoped>\n",
       "    .dataframe tbody tr th:only-of-type {\n",
       "        vertical-align: middle;\n",
       "    }\n",
       "\n",
       "    .dataframe tbody tr th {\n",
       "        vertical-align: top;\n",
       "    }\n",
       "\n",
       "    .dataframe thead th {\n",
       "        text-align: right;\n",
       "    }\n",
       "</style>\n",
       "<table border=\"1\" class=\"dataframe\">\n",
       "  <thead>\n",
       "    <tr style=\"text-align: right;\">\n",
       "      <th></th>\n",
       "      <th>practice</th>\n",
       "      <th>bnf_code</th>\n",
       "      <th>bnf_name</th>\n",
       "      <th>items</th>\n",
       "      <th>nic</th>\n",
       "      <th>act_cost</th>\n",
       "      <th>quantity</th>\n",
       "      <th>opioid_prescription</th>\n",
       "    </tr>\n",
       "  </thead>\n",
       "  <tbody>\n",
       "    <tr>\n",
       "      <th>0</th>\n",
       "      <td>N85639</td>\n",
       "      <td>0106020C0</td>\n",
       "      <td>Bisacodyl_Tab E/C 5mg</td>\n",
       "      <td>1</td>\n",
       "      <td>0.39</td>\n",
       "      <td>0.47</td>\n",
       "      <td>12</td>\n",
       "      <td>False</td>\n",
       "    </tr>\n",
       "    <tr>\n",
       "      <th>1</th>\n",
       "      <td>N85639</td>\n",
       "      <td>0106040M0</td>\n",
       "      <td>Movicol Plain_Paed Pdr Sach 6.9g</td>\n",
       "      <td>1</td>\n",
       "      <td>4.38</td>\n",
       "      <td>4.07</td>\n",
       "      <td>30</td>\n",
       "      <td>False</td>\n",
       "    </tr>\n",
       "    <tr>\n",
       "      <th>2</th>\n",
       "      <td>N85639</td>\n",
       "      <td>0301011R0</td>\n",
       "      <td>Salbutamol_Inha 100mcg (200 D) CFF</td>\n",
       "      <td>1</td>\n",
       "      <td>1.50</td>\n",
       "      <td>1.40</td>\n",
       "      <td>1</td>\n",
       "      <td>False</td>\n",
       "    </tr>\n",
       "    <tr>\n",
       "      <th>3</th>\n",
       "      <td>N85639</td>\n",
       "      <td>0304010G0</td>\n",
       "      <td>Chlorphenamine Mal_Oral Soln 2mg/5ml</td>\n",
       "      <td>1</td>\n",
       "      <td>2.62</td>\n",
       "      <td>2.44</td>\n",
       "      <td>150</td>\n",
       "      <td>False</td>\n",
       "    </tr>\n",
       "    <tr>\n",
       "      <th>4</th>\n",
       "      <td>N85639</td>\n",
       "      <td>0401020K0</td>\n",
       "      <td>Diazepam_Tab 2mg</td>\n",
       "      <td>1</td>\n",
       "      <td>0.16</td>\n",
       "      <td>0.26</td>\n",
       "      <td>6</td>\n",
       "      <td>False</td>\n",
       "    </tr>\n",
       "  </tbody>\n",
       "</table>\n",
       "</div>"
      ],
      "text/plain": [
       "  practice   bnf_code                              bnf_name  items   nic  \\\n",
       "0   N85639  0106020C0                 Bisacodyl_Tab E/C 5mg      1  0.39   \n",
       "1   N85639  0106040M0      Movicol Plain_Paed Pdr Sach 6.9g      1  4.38   \n",
       "2   N85639  0301011R0    Salbutamol_Inha 100mcg (200 D) CFF      1  1.50   \n",
       "3   N85639  0304010G0  Chlorphenamine Mal_Oral Soln 2mg/5ml      1  2.62   \n",
       "4   N85639  0401020K0                      Diazepam_Tab 2mg      1  0.16   \n",
       "\n",
       "   act_cost  quantity  opioid_prescription  \n",
       "0      0.47        12                False  \n",
       "1      4.07        30                False  \n",
       "2      1.40         1                False  \n",
       "3      2.44       150                False  \n",
       "4      0.26         6                False  "
      ]
     },
     "execution_count": 54,
     "metadata": {},
     "output_type": "execute_result"
    }
   ],
   "source": [
    "scripts.head()"
   ]
  },
  {
   "cell_type": "code",
   "execution_count": 55,
   "metadata": {},
   "outputs": [
    {
     "data": {
      "text/plain": [
       "{False, True}"
      ]
     },
     "execution_count": 55,
     "metadata": {},
     "output_type": "execute_result"
    }
   ],
   "source": [
    "set(scripts.opioid_prescription)"
   ]
  },
  {
   "cell_type": "code",
   "execution_count": 56,
   "metadata": {},
   "outputs": [
    {
     "data": {
      "text/html": [
       "<div>\n",
       "<style scoped>\n",
       "    .dataframe tbody tr th:only-of-type {\n",
       "        vertical-align: middle;\n",
       "    }\n",
       "\n",
       "    .dataframe tbody tr th {\n",
       "        vertical-align: top;\n",
       "    }\n",
       "\n",
       "    .dataframe thead th {\n",
       "        text-align: right;\n",
       "    }\n",
       "</style>\n",
       "<table border=\"1\" class=\"dataframe\">\n",
       "  <thead>\n",
       "    <tr style=\"text-align: right;\">\n",
       "      <th></th>\n",
       "      <th>code</th>\n",
       "      <th>name</th>\n",
       "      <th>addr_1</th>\n",
       "      <th>addr_2</th>\n",
       "      <th>borough</th>\n",
       "      <th>village</th>\n",
       "      <th>post_code</th>\n",
       "    </tr>\n",
       "  </thead>\n",
       "  <tbody>\n",
       "    <tr>\n",
       "      <th>0</th>\n",
       "      <td>A81002</td>\n",
       "      <td>QUEENS PARK MEDICAL CENTRE</td>\n",
       "      <td>QUEENS PARK MEDICAL CTR</td>\n",
       "      <td>FARRER STREET</td>\n",
       "      <td>STOCKTON ON TEES</td>\n",
       "      <td>CLEVELAND</td>\n",
       "      <td>TS18 2AW</td>\n",
       "    </tr>\n",
       "    <tr>\n",
       "      <th>1</th>\n",
       "      <td>A81003</td>\n",
       "      <td>VICTORIA MEDICAL PRACTICE</td>\n",
       "      <td>THE HEALTH CENTRE</td>\n",
       "      <td>VICTORIA ROAD</td>\n",
       "      <td>HARTLEPOOL</td>\n",
       "      <td>CLEVELAND</td>\n",
       "      <td>TS26 8DB</td>\n",
       "    </tr>\n",
       "    <tr>\n",
       "      <th>2</th>\n",
       "      <td>A81004</td>\n",
       "      <td>WOODLANDS ROAD SURGERY</td>\n",
       "      <td>6 WOODLANDS ROAD</td>\n",
       "      <td>NaN</td>\n",
       "      <td>MIDDLESBROUGH</td>\n",
       "      <td>CLEVELAND</td>\n",
       "      <td>TS1 3BE</td>\n",
       "    </tr>\n",
       "    <tr>\n",
       "      <th>3</th>\n",
       "      <td>A81005</td>\n",
       "      <td>SPRINGWOOD SURGERY</td>\n",
       "      <td>SPRINGWOOD SURGERY</td>\n",
       "      <td>RECTORY LANE</td>\n",
       "      <td>GUISBOROUGH</td>\n",
       "      <td>NaN</td>\n",
       "      <td>TS14 7DJ</td>\n",
       "    </tr>\n",
       "    <tr>\n",
       "      <th>4</th>\n",
       "      <td>A81006</td>\n",
       "      <td>TENNANT STREET MEDICAL PRACTICE</td>\n",
       "      <td>TENNANT ST MED PRACT</td>\n",
       "      <td>FARRER STREET</td>\n",
       "      <td>STOCKTON ON TEES</td>\n",
       "      <td>CLEVELAND</td>\n",
       "      <td>TS18 2AT</td>\n",
       "    </tr>\n",
       "  </tbody>\n",
       "</table>\n",
       "</div>"
      ],
      "text/plain": [
       "     code                             name                   addr_1  \\\n",
       "0  A81002       QUEENS PARK MEDICAL CENTRE  QUEENS PARK MEDICAL CTR   \n",
       "1  A81003        VICTORIA MEDICAL PRACTICE        THE HEALTH CENTRE   \n",
       "2  A81004           WOODLANDS ROAD SURGERY         6 WOODLANDS ROAD   \n",
       "3  A81005               SPRINGWOOD SURGERY       SPRINGWOOD SURGERY   \n",
       "4  A81006  TENNANT STREET MEDICAL PRACTICE     TENNANT ST MED PRACT   \n",
       "\n",
       "          addr_2           borough    village post_code  \n",
       "0  FARRER STREET  STOCKTON ON TEES  CLEVELAND  TS18 2AW  \n",
       "1  VICTORIA ROAD        HARTLEPOOL  CLEVELAND  TS26 8DB  \n",
       "2            NaN     MIDDLESBROUGH  CLEVELAND   TS1 3BE  \n",
       "3   RECTORY LANE       GUISBOROUGH        NaN  TS14 7DJ  \n",
       "4  FARRER STREET  STOCKTON ON TEES  CLEVELAND  TS18 2AT  "
      ]
     },
     "execution_count": 56,
     "metadata": {},
     "output_type": "execute_result"
    }
   ],
   "source": [
    "practices.head()"
   ]
  },
  {
   "cell_type": "code",
   "execution_count": 57,
   "metadata": {},
   "outputs": [
    {
     "data": {
      "text/html": [
       "<div>\n",
       "<style scoped>\n",
       "    .dataframe tbody tr th:only-of-type {\n",
       "        vertical-align: middle;\n",
       "    }\n",
       "\n",
       "    .dataframe tbody tr th {\n",
       "        vertical-align: top;\n",
       "    }\n",
       "\n",
       "    .dataframe thead th {\n",
       "        text-align: right;\n",
       "    }\n",
       "</style>\n",
       "<table border=\"1\" class=\"dataframe\">\n",
       "  <thead>\n",
       "    <tr style=\"text-align: right;\">\n",
       "      <th></th>\n",
       "      <th>practice</th>\n",
       "      <th>name</th>\n",
       "    </tr>\n",
       "  </thead>\n",
       "  <tbody>\n",
       "    <tr>\n",
       "      <th>0</th>\n",
       "      <td>A81002</td>\n",
       "      <td>QUEENS PARK MEDICAL CENTRE</td>\n",
       "    </tr>\n",
       "    <tr>\n",
       "      <th>1</th>\n",
       "      <td>A81003</td>\n",
       "      <td>VICTORIA MEDICAL PRACTICE</td>\n",
       "    </tr>\n",
       "    <tr>\n",
       "      <th>2</th>\n",
       "      <td>A81004</td>\n",
       "      <td>WOODLANDS ROAD SURGERY</td>\n",
       "    </tr>\n",
       "    <tr>\n",
       "      <th>3</th>\n",
       "      <td>A81005</td>\n",
       "      <td>SPRINGWOOD SURGERY</td>\n",
       "    </tr>\n",
       "    <tr>\n",
       "      <th>4</th>\n",
       "      <td>A81006</td>\n",
       "      <td>TENNANT STREET MEDICAL PRACTICE</td>\n",
       "    </tr>\n",
       "  </tbody>\n",
       "</table>\n",
       "</div>"
      ],
      "text/plain": [
       "  practice                             name\n",
       "0   A81002       QUEENS PARK MEDICAL CENTRE\n",
       "1   A81003        VICTORIA MEDICAL PRACTICE\n",
       "2   A81004           WOODLANDS ROAD SURGERY\n",
       "3   A81005               SPRINGWOOD SURGERY\n",
       "4   A81006  TENNANT STREET MEDICAL PRACTICE"
      ]
     },
     "execution_count": 57,
     "metadata": {},
     "output_type": "execute_result"
    }
   ],
   "source": [
    "pract = practices[['code', 'name']]\n",
    "pract.columns = ['practice', 'name']\n",
    "pract.head()"
   ]
  },
  {
   "cell_type": "code",
   "execution_count": 58,
   "metadata": {},
   "outputs": [
    {
     "data": {
      "text/plain": [
       "practice\n",
       "A81005    0.033179\n",
       "A81007    0.043329\n",
       "A81011    0.046556\n",
       "A81012    0.042793\n",
       "A81017    0.038140\n",
       "Name: frac, dtype: float64"
      ]
     },
     "execution_count": 58,
     "metadata": {},
     "output_type": "execute_result"
    }
   ],
   "source": [
    "opioids_per_practice = scripts.groupby('practice')['opioid_prescription'].mean().rename('frac')\n",
    "opioids_per_practice.head()"
   ]
  },
  {
   "cell_type": "code",
   "execution_count": 59,
   "metadata": {},
   "outputs": [
    {
     "data": {
      "text/plain": [
       "practice\n",
       "A81005    0.179162\n",
       "A81007    0.203666\n",
       "A81011    0.210753\n",
       "A81012    0.202466\n",
       "A81017    0.191578\n",
       "Name: frac_std, dtype: float64"
      ]
     },
     "execution_count": 59,
     "metadata": {},
     "output_type": "execute_result"
    }
   ],
   "source": [
    "opioids_per_practice_std = scripts.groupby('practice')['opioid_prescription'].std().rename('frac_std')\n",
    "opioids_per_practice_std.head()"
   ]
  },
  {
   "cell_type": "code",
   "execution_count": 60,
   "metadata": {},
   "outputs": [
    {
     "data": {
      "text/plain": [
       "0.03580276471367961"
      ]
     },
     "execution_count": 60,
     "metadata": {},
     "output_type": "execute_result"
    }
   ],
   "source": [
    "overall_rate = scripts['opioid_prescription'].mean()\n",
    "overall_rate"
   ]
  },
  {
   "cell_type": "code",
   "execution_count": 61,
   "metadata": {},
   "outputs": [
    {
     "data": {
      "text/plain": [
       "0.18579817605238425"
      ]
     },
     "execution_count": 61,
     "metadata": {},
     "output_type": "execute_result"
    }
   ],
   "source": [
    "overall_rate_std = scripts['opioid_prescription'].std()\n",
    "overall_rate_std"
   ]
  },
  {
   "cell_type": "code",
   "execution_count": 62,
   "metadata": {},
   "outputs": [
    {
     "data": {
      "text/plain": [
       "practice\n",
       "A81005   -0.002624\n",
       "A81007    0.007526\n",
       "A81011    0.010753\n",
       "A81012    0.006990\n",
       "A81017    0.002337\n",
       "Name: relative, dtype: float64"
      ]
     },
     "execution_count": 62,
     "metadata": {},
     "output_type": "execute_result"
    }
   ],
   "source": [
    "relative_opioids_per_practice = (opioids_per_practice - overall_rate).rename('relative')\n",
    "relative_opioids_per_practice.head()"
   ]
  },
  {
   "cell_type": "code",
   "execution_count": 63,
   "metadata": {},
   "outputs": [
    {
     "data": {
      "text/plain": [
       "practice\n",
       "A81005    50.0\n",
       "A81007    63.0\n",
       "A81011    73.0\n",
       "A81012    57.0\n",
       "A81017    82.0\n",
       "Name: opioid, dtype: float64"
      ]
     },
     "execution_count": 63,
     "metadata": {},
     "output_type": "execute_result"
    }
   ],
   "source": [
    "opioid = scripts.groupby('practice')['opioid_prescription'].sum().rename('opioid')\n",
    "opioid.head()"
   ]
  },
  {
   "cell_type": "code",
   "execution_count": 64,
   "metadata": {},
   "outputs": [
    {
     "data": {
      "text/plain": [
       "practice\n",
       "A81005    1507\n",
       "A81007    1454\n",
       "A81011    1568\n",
       "A81012    1332\n",
       "A81017    2150\n",
       "Name: total, dtype: int64"
      ]
     },
     "execution_count": 64,
     "metadata": {},
     "output_type": "execute_result"
    }
   ],
   "source": [
    "total = scripts.groupby('practice')['bnf_code'].count().rename('total')\n",
    "total.head()"
   ]
  },
  {
   "cell_type": "code",
   "execution_count": 65,
   "metadata": {},
   "outputs": [
    {
     "data": {
      "text/plain": [
       "practice\n",
       "A81005    0.004786\n",
       "A81007    0.004873\n",
       "A81011    0.004692\n",
       "A81012    0.005091\n",
       "A81017    0.004007\n",
       "Name: std_err, dtype: float64"
      ]
     },
     "execution_count": 65,
     "metadata": {},
     "output_type": "execute_result"
    }
   ],
   "source": [
    "standard_error_per_practice = (overall_rate_std/(total**0.5)).rename('std_err')\n",
    "standard_error_per_practice.head()"
   ]
  },
  {
   "cell_type": "markdown",
   "metadata": {},
   "source": [
    "Now that we know the difference between each practice's opioid prescription rate and the overall rate, we can identify which practices prescribe opioids at above average or below average rates. However, are the differences from the overall rate important or just random deviations? In other words, are the differences from the overall rate big or small?\n",
    "\n",
    "To answer this question we have to quantify the difference we would typically expect between a given practice's opioid prescription rate and the overall rate. This quantity is called the **standard error**, and is related to the **standard deviation**, $\\sigma$. The standard error in this case is\n",
    "\n",
    "$$ \\frac{\\sigma}{\\sqrt{n}} $$\n",
    "\n",
    "where $n$ is the number of prescriptions each practice made. Calculate the standard error for each practice. Then divide `relative_opioids_per_practice` by the standard errors. We'll call the final result `opioid_scores`.\n",
    "\n",
    "The quantity we have calculated in `opioid_scores` is called a **z-score**:\n",
    "\n",
    "$$ \\frac{\\bar{X} - \\mu}{\\sqrt{\\sigma^2/n}} $$\n",
    "\n",
    "Here $\\bar{X}$ corresponds with the proportion for each practice, $\\mu$ corresponds with the proportion across all practices, $\\sigma^2$ corresponds with the variance of the proportion across all practices, and $n$ is the number of prescriptions made by each practice. Notice $\\bar{X}$ and $n$ will be different for each practice, while $\\mu$ and $\\sigma$ are determined across all prescriptions, and so are the same for every z-score. The z-score is a useful statistical tool used for hypothesis testing, finding outliers, and comparing data about different types of objects or events.\n",
    "\n",
    "Now that we've calculated this statistic, take the 100 practices with the largest z-score. Return your result as a list of tuples in the form `(practice_name, z-score, number_of_scripts)`. Sort your tuples by z-score in descending order. Note that some practice codes will correspond with multiple names. In this case, use the first match when sorting names alphabetically."
   ]
  },
  {
   "cell_type": "code",
   "execution_count": 66,
   "metadata": {
    "scrolled": true
   },
   "outputs": [
    {
     "data": {
      "text/plain": [
       "practice\n",
       "A81005   -0.548306\n",
       "A81007    1.544557\n",
       "A81011    2.291795\n",
       "A81012    1.373060\n",
       "A81017    0.583168\n",
       "Name: opioid_scores, dtype: float64"
      ]
     },
     "execution_count": 66,
     "metadata": {},
     "output_type": "execute_result"
    }
   ],
   "source": [
    "opioid_scores = (relative_opioids_per_practice/standard_error_per_practice).rename('opioid_scores')\n",
    "opioid_scores.head()"
   ]
  },
  {
   "cell_type": "code",
   "execution_count": 67,
   "metadata": {},
   "outputs": [],
   "source": [
    "merged = pd.concat([opioid, total, opioids_per_practice, relative_opioids_per_practice, standard_error_per_practice,opioid_scores], axis=1)"
   ]
  },
  {
   "cell_type": "code",
   "execution_count": 68,
   "metadata": {},
   "outputs": [],
   "source": [
    "merged = merged.reset_index()"
   ]
  },
  {
   "cell_type": "code",
   "execution_count": 69,
   "metadata": {},
   "outputs": [
    {
     "data": {
      "text/html": [
       "<div>\n",
       "<style scoped>\n",
       "    .dataframe tbody tr th:only-of-type {\n",
       "        vertical-align: middle;\n",
       "    }\n",
       "\n",
       "    .dataframe tbody tr th {\n",
       "        vertical-align: top;\n",
       "    }\n",
       "\n",
       "    .dataframe thead th {\n",
       "        text-align: right;\n",
       "    }\n",
       "</style>\n",
       "<table border=\"1\" class=\"dataframe\">\n",
       "  <thead>\n",
       "    <tr style=\"text-align: right;\">\n",
       "      <th></th>\n",
       "      <th>practice</th>\n",
       "      <th>opioid</th>\n",
       "      <th>total</th>\n",
       "      <th>frac</th>\n",
       "      <th>relative</th>\n",
       "      <th>std_err</th>\n",
       "      <th>opioid_scores</th>\n",
       "    </tr>\n",
       "  </thead>\n",
       "  <tbody>\n",
       "    <tr>\n",
       "      <th>0</th>\n",
       "      <td>A81005</td>\n",
       "      <td>50.0</td>\n",
       "      <td>1507</td>\n",
       "      <td>0.033179</td>\n",
       "      <td>-0.002624</td>\n",
       "      <td>0.004786</td>\n",
       "      <td>-0.548306</td>\n",
       "    </tr>\n",
       "    <tr>\n",
       "      <th>1</th>\n",
       "      <td>A81007</td>\n",
       "      <td>63.0</td>\n",
       "      <td>1454</td>\n",
       "      <td>0.043329</td>\n",
       "      <td>0.007526</td>\n",
       "      <td>0.004873</td>\n",
       "      <td>1.544557</td>\n",
       "    </tr>\n",
       "    <tr>\n",
       "      <th>2</th>\n",
       "      <td>A81011</td>\n",
       "      <td>73.0</td>\n",
       "      <td>1568</td>\n",
       "      <td>0.046556</td>\n",
       "      <td>0.010753</td>\n",
       "      <td>0.004692</td>\n",
       "      <td>2.291795</td>\n",
       "    </tr>\n",
       "    <tr>\n",
       "      <th>3</th>\n",
       "      <td>A81012</td>\n",
       "      <td>57.0</td>\n",
       "      <td>1332</td>\n",
       "      <td>0.042793</td>\n",
       "      <td>0.006990</td>\n",
       "      <td>0.005091</td>\n",
       "      <td>1.373060</td>\n",
       "    </tr>\n",
       "    <tr>\n",
       "      <th>4</th>\n",
       "      <td>A81017</td>\n",
       "      <td>82.0</td>\n",
       "      <td>2150</td>\n",
       "      <td>0.038140</td>\n",
       "      <td>0.002337</td>\n",
       "      <td>0.004007</td>\n",
       "      <td>0.583168</td>\n",
       "    </tr>\n",
       "  </tbody>\n",
       "</table>\n",
       "</div>"
      ],
      "text/plain": [
       "  practice  opioid  total      frac  relative   std_err  opioid_scores\n",
       "0   A81005    50.0   1507  0.033179 -0.002624  0.004786      -0.548306\n",
       "1   A81007    63.0   1454  0.043329  0.007526  0.004873       1.544557\n",
       "2   A81011    73.0   1568  0.046556  0.010753  0.004692       2.291795\n",
       "3   A81012    57.0   1332  0.042793  0.006990  0.005091       1.373060\n",
       "4   A81017    82.0   2150  0.038140  0.002337  0.004007       0.583168"
      ]
     },
     "execution_count": 69,
     "metadata": {},
     "output_type": "execute_result"
    }
   ],
   "source": [
    "merged.head()"
   ]
  },
  {
   "cell_type": "code",
   "execution_count": 70,
   "metadata": {},
   "outputs": [],
   "source": [
    "final_df = merged.merge(pract, on='practice', how='left')"
   ]
  },
  {
   "cell_type": "code",
   "execution_count": 71,
   "metadata": {},
   "outputs": [
    {
     "data": {
      "text/html": [
       "<div>\n",
       "<style scoped>\n",
       "    .dataframe tbody tr th:only-of-type {\n",
       "        vertical-align: middle;\n",
       "    }\n",
       "\n",
       "    .dataframe tbody tr th {\n",
       "        vertical-align: top;\n",
       "    }\n",
       "\n",
       "    .dataframe thead th {\n",
       "        text-align: right;\n",
       "    }\n",
       "</style>\n",
       "<table border=\"1\" class=\"dataframe\">\n",
       "  <thead>\n",
       "    <tr style=\"text-align: right;\">\n",
       "      <th></th>\n",
       "      <th>practice</th>\n",
       "      <th>opioid</th>\n",
       "      <th>total</th>\n",
       "      <th>frac</th>\n",
       "      <th>relative</th>\n",
       "      <th>std_err</th>\n",
       "      <th>opioid_scores</th>\n",
       "      <th>name</th>\n",
       "    </tr>\n",
       "  </thead>\n",
       "  <tbody>\n",
       "    <tr>\n",
       "      <th>0</th>\n",
       "      <td>A81005</td>\n",
       "      <td>50.0</td>\n",
       "      <td>1507</td>\n",
       "      <td>0.033179</td>\n",
       "      <td>-0.002624</td>\n",
       "      <td>0.004786</td>\n",
       "      <td>-0.548306</td>\n",
       "      <td>SPRINGWOOD SURGERY</td>\n",
       "    </tr>\n",
       "    <tr>\n",
       "      <th>1</th>\n",
       "      <td>A81007</td>\n",
       "      <td>63.0</td>\n",
       "      <td>1454</td>\n",
       "      <td>0.043329</td>\n",
       "      <td>0.007526</td>\n",
       "      <td>0.004873</td>\n",
       "      <td>1.544557</td>\n",
       "      <td>BANKHOUSE SURGERY</td>\n",
       "    </tr>\n",
       "    <tr>\n",
       "      <th>2</th>\n",
       "      <td>A81011</td>\n",
       "      <td>73.0</td>\n",
       "      <td>1568</td>\n",
       "      <td>0.046556</td>\n",
       "      <td>0.010753</td>\n",
       "      <td>0.004692</td>\n",
       "      <td>2.291795</td>\n",
       "      <td>CHADWICK PRACTICE</td>\n",
       "    </tr>\n",
       "    <tr>\n",
       "      <th>3</th>\n",
       "      <td>A81012</td>\n",
       "      <td>57.0</td>\n",
       "      <td>1332</td>\n",
       "      <td>0.042793</td>\n",
       "      <td>0.006990</td>\n",
       "      <td>0.005091</td>\n",
       "      <td>1.373060</td>\n",
       "      <td>WESTBOURNE MEDICAL CENTRE</td>\n",
       "    </tr>\n",
       "    <tr>\n",
       "      <th>4</th>\n",
       "      <td>A81017</td>\n",
       "      <td>82.0</td>\n",
       "      <td>2150</td>\n",
       "      <td>0.038140</td>\n",
       "      <td>0.002337</td>\n",
       "      <td>0.004007</td>\n",
       "      <td>0.583168</td>\n",
       "      <td>WOODBRIDGE PRACTICE</td>\n",
       "    </tr>\n",
       "  </tbody>\n",
       "</table>\n",
       "</div>"
      ],
      "text/plain": [
       "  practice  opioid  total      frac  relative   std_err  opioid_scores  \\\n",
       "0   A81005    50.0   1507  0.033179 -0.002624  0.004786      -0.548306   \n",
       "1   A81007    63.0   1454  0.043329  0.007526  0.004873       1.544557   \n",
       "2   A81011    73.0   1568  0.046556  0.010753  0.004692       2.291795   \n",
       "3   A81012    57.0   1332  0.042793  0.006990  0.005091       1.373060   \n",
       "4   A81017    82.0   2150  0.038140  0.002337  0.004007       0.583168   \n",
       "\n",
       "                        name  \n",
       "0         SPRINGWOOD SURGERY  \n",
       "1          BANKHOUSE SURGERY  \n",
       "2          CHADWICK PRACTICE  \n",
       "3  WESTBOURNE MEDICAL CENTRE  \n",
       "4        WOODBRIDGE PRACTICE  "
      ]
     },
     "execution_count": 71,
     "metadata": {},
     "output_type": "execute_result"
    }
   ],
   "source": [
    "final_df.head()"
   ]
  },
  {
   "cell_type": "code",
   "execution_count": 72,
   "metadata": {},
   "outputs": [],
   "source": [
    "final_df.sort_values('opioid_scores', ascending = False , inplace=True)"
   ]
  },
  {
   "cell_type": "code",
   "execution_count": 73,
   "metadata": {},
   "outputs": [
    {
     "data": {
      "text/html": [
       "<div>\n",
       "<style scoped>\n",
       "    .dataframe tbody tr th:only-of-type {\n",
       "        vertical-align: middle;\n",
       "    }\n",
       "\n",
       "    .dataframe tbody tr th {\n",
       "        vertical-align: top;\n",
       "    }\n",
       "\n",
       "    .dataframe thead th {\n",
       "        text-align: right;\n",
       "    }\n",
       "</style>\n",
       "<table border=\"1\" class=\"dataframe\">\n",
       "  <thead>\n",
       "    <tr style=\"text-align: right;\">\n",
       "      <th></th>\n",
       "      <th>practice</th>\n",
       "      <th>opioid</th>\n",
       "      <th>total</th>\n",
       "      <th>frac</th>\n",
       "      <th>relative</th>\n",
       "      <th>std_err</th>\n",
       "      <th>opioid_scores</th>\n",
       "      <th>name</th>\n",
       "    </tr>\n",
       "  </thead>\n",
       "  <tbody>\n",
       "    <tr>\n",
       "      <th>829</th>\n",
       "      <td>Y01852</td>\n",
       "      <td>6.0</td>\n",
       "      <td>7</td>\n",
       "      <td>0.857143</td>\n",
       "      <td>0.821340</td>\n",
       "      <td>0.070225</td>\n",
       "      <td>11.695818</td>\n",
       "      <td>NATIONAL ENHANCED SERVICE</td>\n",
       "    </tr>\n",
       "    <tr>\n",
       "      <th>874</th>\n",
       "      <td>Y03006</td>\n",
       "      <td>2.0</td>\n",
       "      <td>2</td>\n",
       "      <td>1.000000</td>\n",
       "      <td>0.964197</td>\n",
       "      <td>0.131379</td>\n",
       "      <td>7.339043</td>\n",
       "      <td>OUTREACH SERVICE NH / RH</td>\n",
       "    </tr>\n",
       "    <tr>\n",
       "      <th>895</th>\n",
       "      <td>Y03668</td>\n",
       "      <td>11.0</td>\n",
       "      <td>60</td>\n",
       "      <td>0.183333</td>\n",
       "      <td>0.147531</td>\n",
       "      <td>0.023986</td>\n",
       "      <td>6.150582</td>\n",
       "      <td>BRISDOC HEALTHCARE SERVICES OOH</td>\n",
       "    </tr>\n",
       "    <tr>\n",
       "      <th>296</th>\n",
       "      <td>G81703</td>\n",
       "      <td>7.0</td>\n",
       "      <td>36</td>\n",
       "      <td>0.194444</td>\n",
       "      <td>0.158642</td>\n",
       "      <td>0.030966</td>\n",
       "      <td>5.123032</td>\n",
       "      <td>H&amp;R P C SPECIAL SCHEME</td>\n",
       "    </tr>\n",
       "    <tr>\n",
       "      <th>948</th>\n",
       "      <td>Y04997</td>\n",
       "      <td>28.0</td>\n",
       "      <td>321</td>\n",
       "      <td>0.087227</td>\n",
       "      <td>0.051425</td>\n",
       "      <td>0.010370</td>\n",
       "      <td>4.958866</td>\n",
       "      <td>HMR BARDOC OOH</td>\n",
       "    </tr>\n",
       "  </tbody>\n",
       "</table>\n",
       "</div>"
      ],
      "text/plain": [
       "    practice  opioid  total      frac  relative   std_err  opioid_scores  \\\n",
       "829   Y01852     6.0      7  0.857143  0.821340  0.070225      11.695818   \n",
       "874   Y03006     2.0      2  1.000000  0.964197  0.131379       7.339043   \n",
       "895   Y03668    11.0     60  0.183333  0.147531  0.023986       6.150582   \n",
       "296   G81703     7.0     36  0.194444  0.158642  0.030966       5.123032   \n",
       "948   Y04997    28.0    321  0.087227  0.051425  0.010370       4.958866   \n",
       "\n",
       "                                name  \n",
       "829        NATIONAL ENHANCED SERVICE  \n",
       "874         OUTREACH SERVICE NH / RH  \n",
       "895  BRISDOC HEALTHCARE SERVICES OOH  \n",
       "296           H&R P C SPECIAL SCHEME  \n",
       "948                   HMR BARDOC OOH  "
      ]
     },
     "execution_count": 73,
     "metadata": {},
     "output_type": "execute_result"
    }
   ],
   "source": [
    "final_df.head()"
   ]
  },
  {
   "cell_type": "code",
   "execution_count": 74,
   "metadata": {},
   "outputs": [
    {
     "data": {
      "text/html": [
       "<div>\n",
       "<style scoped>\n",
       "    .dataframe tbody tr th:only-of-type {\n",
       "        vertical-align: middle;\n",
       "    }\n",
       "\n",
       "    .dataframe tbody tr th {\n",
       "        vertical-align: top;\n",
       "    }\n",
       "\n",
       "    .dataframe thead th {\n",
       "        text-align: right;\n",
       "    }\n",
       "</style>\n",
       "<table border=\"1\" class=\"dataframe\">\n",
       "  <thead>\n",
       "    <tr style=\"text-align: right;\">\n",
       "      <th></th>\n",
       "      <th>practice</th>\n",
       "      <th>opioid</th>\n",
       "      <th>total</th>\n",
       "      <th>frac</th>\n",
       "      <th>relative</th>\n",
       "      <th>std_err</th>\n",
       "      <th>opioid_scores</th>\n",
       "      <th>name</th>\n",
       "    </tr>\n",
       "  </thead>\n",
       "  <tbody>\n",
       "    <tr>\n",
       "      <th>829</th>\n",
       "      <td>Y01852</td>\n",
       "      <td>6.0</td>\n",
       "      <td>7</td>\n",
       "      <td>0.857143</td>\n",
       "      <td>0.821340</td>\n",
       "      <td>0.070225</td>\n",
       "      <td>11.695818</td>\n",
       "      <td>NATIONAL ENHANCED SERVICE</td>\n",
       "    </tr>\n",
       "    <tr>\n",
       "      <th>874</th>\n",
       "      <td>Y03006</td>\n",
       "      <td>2.0</td>\n",
       "      <td>2</td>\n",
       "      <td>1.000000</td>\n",
       "      <td>0.964197</td>\n",
       "      <td>0.131379</td>\n",
       "      <td>7.339043</td>\n",
       "      <td>OUTREACH SERVICE NH / RH</td>\n",
       "    </tr>\n",
       "    <tr>\n",
       "      <th>895</th>\n",
       "      <td>Y03668</td>\n",
       "      <td>11.0</td>\n",
       "      <td>60</td>\n",
       "      <td>0.183333</td>\n",
       "      <td>0.147531</td>\n",
       "      <td>0.023986</td>\n",
       "      <td>6.150582</td>\n",
       "      <td>BRISDOC HEALTHCARE SERVICES OOH</td>\n",
       "    </tr>\n",
       "    <tr>\n",
       "      <th>296</th>\n",
       "      <td>G81703</td>\n",
       "      <td>7.0</td>\n",
       "      <td>36</td>\n",
       "      <td>0.194444</td>\n",
       "      <td>0.158642</td>\n",
       "      <td>0.030966</td>\n",
       "      <td>5.123032</td>\n",
       "      <td>H&amp;R P C SPECIAL SCHEME</td>\n",
       "    </tr>\n",
       "    <tr>\n",
       "      <th>948</th>\n",
       "      <td>Y04997</td>\n",
       "      <td>28.0</td>\n",
       "      <td>321</td>\n",
       "      <td>0.087227</td>\n",
       "      <td>0.051425</td>\n",
       "      <td>0.010370</td>\n",
       "      <td>4.958866</td>\n",
       "      <td>HMR BARDOC OOH</td>\n",
       "    </tr>\n",
       "  </tbody>\n",
       "</table>\n",
       "</div>"
      ],
      "text/plain": [
       "    practice  opioid  total      frac  relative   std_err  opioid_scores  \\\n",
       "829   Y01852     6.0      7  0.857143  0.821340  0.070225      11.695818   \n",
       "874   Y03006     2.0      2  1.000000  0.964197  0.131379       7.339043   \n",
       "895   Y03668    11.0     60  0.183333  0.147531  0.023986       6.150582   \n",
       "296   G81703     7.0     36  0.194444  0.158642  0.030966       5.123032   \n",
       "948   Y04997    28.0    321  0.087227  0.051425  0.010370       4.958866   \n",
       "\n",
       "                                name  \n",
       "829        NATIONAL ENHANCED SERVICE  \n",
       "874         OUTREACH SERVICE NH / RH  \n",
       "895  BRISDOC HEALTHCARE SERVICES OOH  \n",
       "296           H&R P C SPECIAL SCHEME  \n",
       "948                   HMR BARDOC OOH  "
      ]
     },
     "execution_count": 74,
     "metadata": {},
     "output_type": "execute_result"
    }
   ],
   "source": [
    "final = final_df.drop_duplicates('name')\n",
    "final.head()"
   ]
  },
  {
   "cell_type": "code",
   "execution_count": 75,
   "metadata": {},
   "outputs": [
    {
     "data": {
      "text/html": [
       "<div>\n",
       "<style scoped>\n",
       "    .dataframe tbody tr th:only-of-type {\n",
       "        vertical-align: middle;\n",
       "    }\n",
       "\n",
       "    .dataframe tbody tr th {\n",
       "        vertical-align: top;\n",
       "    }\n",
       "\n",
       "    .dataframe thead th {\n",
       "        text-align: right;\n",
       "    }\n",
       "</style>\n",
       "<table border=\"1\" class=\"dataframe\">\n",
       "  <thead>\n",
       "    <tr style=\"text-align: right;\">\n",
       "      <th></th>\n",
       "      <th>name</th>\n",
       "      <th>opioid_scores</th>\n",
       "      <th>total</th>\n",
       "    </tr>\n",
       "  </thead>\n",
       "  <tbody>\n",
       "    <tr>\n",
       "      <th>829</th>\n",
       "      <td>NATIONAL ENHANCED SERVICE</td>\n",
       "      <td>11.695818</td>\n",
       "      <td>7</td>\n",
       "    </tr>\n",
       "    <tr>\n",
       "      <th>874</th>\n",
       "      <td>OUTREACH SERVICE NH / RH</td>\n",
       "      <td>7.339043</td>\n",
       "      <td>2</td>\n",
       "    </tr>\n",
       "    <tr>\n",
       "      <th>895</th>\n",
       "      <td>BRISDOC HEALTHCARE SERVICES OOH</td>\n",
       "      <td>6.150582</td>\n",
       "      <td>60</td>\n",
       "    </tr>\n",
       "    <tr>\n",
       "      <th>296</th>\n",
       "      <td>H&amp;R P C SPECIAL SCHEME</td>\n",
       "      <td>5.123032</td>\n",
       "      <td>36</td>\n",
       "    </tr>\n",
       "    <tr>\n",
       "      <th>948</th>\n",
       "      <td>HMR BARDOC OOH</td>\n",
       "      <td>4.958866</td>\n",
       "      <td>321</td>\n",
       "    </tr>\n",
       "  </tbody>\n",
       "</table>\n",
       "</div>"
      ],
      "text/plain": [
       "                                name  opioid_scores  total\n",
       "829        NATIONAL ENHANCED SERVICE      11.695818      7\n",
       "874         OUTREACH SERVICE NH / RH       7.339043      2\n",
       "895  BRISDOC HEALTHCARE SERVICES OOH       6.150582     60\n",
       "296           H&R P C SPECIAL SCHEME       5.123032     36\n",
       "948                   HMR BARDOC OOH       4.958866    321"
      ]
     },
     "execution_count": 75,
     "metadata": {},
     "output_type": "execute_result"
    }
   ],
   "source": [
    "result = final[['name','opioid_scores','total']]\n",
    "result.head()"
   ]
  },
  {
   "cell_type": "code",
   "execution_count": 76,
   "metadata": {},
   "outputs": [],
   "source": [
    "anomalies = result.head(100)"
   ]
  },
  {
   "cell_type": "code",
   "execution_count": 77,
   "metadata": {},
   "outputs": [],
   "source": [
    "anomalies = anomalies.values.tolist()"
   ]
  },
  {
   "cell_type": "code",
   "execution_count": 78,
   "metadata": {},
   "outputs": [
    {
     "data": {
      "text/plain": [
       "[['NATIONAL ENHANCED SERVICE', 11.695817862936027, 7],\n",
       " ['OUTREACH SERVICE NH / RH', 7.339043019238823, 2],\n",
       " ['BRISDOC HEALTHCARE SERVICES OOH', 6.1505817490838295, 60],\n",
       " ['H&R P C SPECIAL SCHEME', 5.123032414033079, 36],\n",
       " ['HMR BARDOC OOH', 4.958866438487605, 321],\n",
       " ['INTEGRATED CARE 24 LTD (CWSX OOH)', 4.8888781604828235, 426],\n",
       " ['DARWEN HEALTHCARE', 4.8391589686363385, 1917],\n",
       " ['THE LIMES MEDICAL PRACTICE', 4.546841872334426, 1321],\n",
       " ['IC24 LTD (BRIGHTON & HOVE OOH)', 4.335047010605197, 357],\n",
       " ['OLDHAM 7 DAY ACCESS HUB2 OOH', 4.31178403661019, 56],\n",
       " ['IC24 LTD (NORFOLK & WISBECH OOH)', 4.2575005924727645, 489],\n",
       " ['ROSSENDALE MIU & OOH', 4.256827446322491, 18],\n",
       " ['BURY WALK-IN CENTRE', 4.150589122881536, 138],\n",
       " ['IC24 LTD (HORSHAM & MID SUSSEX OOH)', 3.7816207038443523, 215],\n",
       " ['LCW HOUNSLOW CCG OOH', 3.582848546206269, 69],\n",
       " ['WEEKEND WORKING EASINGTON NORTH', 3.565938771129764, 278],\n",
       " ['COMPASS ENFIELD', 3.5587202651067935, 7],\n",
       " ['BASSETLAW DRUG & ALCOHOL SERVICE', 3.5332641025115423, 2],\n",
       " ['THE PARK SURGERY', 3.511114736389202, 969],\n",
       " ['CHAPEL STREET SURGERY', 3.4907459502707447, 1504],\n",
       " ['BEECHWOOD MEDICAL PRACTICE', 3.4747953064338977, 1552],\n",
       " ['BASSETLAW HOSPICE OF THE GOOD SHEPHERD', 3.454423428527398, 46],\n",
       " ['CARDEN SURGERY', 3.4503113243413193, 1375],\n",
       " ['GP IN A&E (WIC)', 3.3959177486386096, 87],\n",
       " ['NORTHAMPTONSHIRE OUT OF HOURS SERVICE', 3.39355927807245, 382],\n",
       " ['NORTHAMPTONSHIRE OOH SERVICE', 3.39355927807245, 382],\n",
       " ['WORDEN MEDICAL CENTRE', 3.341328344384246, 1898],\n",
       " ['BURY OOH', 3.321529559970347, 292],\n",
       " ['IC24 SOUTHEND/CP&R CCG OOH', 3.2211153199464, 336],\n",
       " ['SOUTH ESSEX OOH', 3.2211153199464, 336],\n",
       " ['IC24 LTD (CRAWLEY OOH)', 3.1942640976202856, 173],\n",
       " ['EASTBOURNE  HAILSHAM & SEAFORD OOH', 2.9896925335154507, 255],\n",
       " ['THE ROSEBERRY PRACTICE', 2.9803589486570257, 1450],\n",
       " ['SHAFTESBURY MEDICAL CTR.', 2.904593003935284, 2126],\n",
       " ['THE RICHMOND HILL PRACTICE', 2.8601891978583245, 1729],\n",
       " ['DGS OOH (INTEGRATED CARE 24 LTD)', 2.795651191074179, 325],\n",
       " ['THE LAKESIDE PRACTICE', 2.7801243484267157, 1554],\n",
       " ['DEWSBURY MSK SERVICE', 2.7736443521856917, 3],\n",
       " ['HALLIWELL SURGERY 1', 2.6902312553464682, 1124],\n",
       " ['THE ROYTON & CROMPTON FAMILY PRACTICE', 2.6674099502870625, 2054],\n",
       " ['PRACTICE 3  MEDICAL CENTRE  BRIDLINGTON', 2.6526642039852844, 1936],\n",
       " ['LCWUCC - IUC NCL', 2.5927932420214392, 443],\n",
       " ['DR MOKASHI', 2.496887689055938, 1341],\n",
       " ['THE CREST FAMILY PRACTICE', 2.494358442548829, 1294],\n",
       " ['PERKINS PRACTICE', 2.479571342887134, 899],\n",
       " ['DARLASTON HEALTH CENTRE', 2.4456345065842653, 996],\n",
       " [\"DR MA SIMS' PRACTICE\", 2.4372766106456107, 1857],\n",
       " ['1/LOWER BROUGHTON MEDICAL PRACTICE', 2.435636753514273, 1044],\n",
       " ['CORNWALLIS PLAZA SURGERY', 2.424202462055629, 2326],\n",
       " ['FAIRMORE MEDICAL PRACTICE', 2.382408598971051, 1288],\n",
       " ['LAWLEY MEDICAL PRACTICE', 2.373577973078906, 1409],\n",
       " [\"PEEL GP'S\", 2.3535943384931546, 1557],\n",
       " ['PEEL GPS DR JACKSON', 2.3535943384931546, 1557],\n",
       " ['PEEL GPS', 2.3535943384931546, 1557],\n",
       " ['EASTLANDS MEDICAL CENTRE', 2.325396683274206, 1369],\n",
       " ['MAGHULL HEALTH CENTRE (DR SAPRE)', 2.3194074094375097, 1322],\n",
       " ['INTEGRATED CARE 24 LIMITED OOH', 2.3106497615538943, 511],\n",
       " ['WILLOW BANK SURGERY', 2.295642132037915, 1934],\n",
       " ['IC24 LTD (HWLH OOH)', 2.2949004338925127, 216],\n",
       " ['CHADWICK PRACTICE', 2.2917945205697308, 1568],\n",
       " ['C&WPT OOH SERVICE', 2.270852401273787, 341],\n",
       " ['THE MERRYWOOD PRACTICE', 2.270550955639659, 1234],\n",
       " ['LEYLAND SURGERY', 2.251774286539937, 1213],\n",
       " ['WALKDEN MEDICAL PRACTICE', 2.2415736140706994, 1577],\n",
       " ['RADCLIFFE MEDICAL PRACTICE', 2.239607033459532, 1553],\n",
       " ['RIBBLESDALE GP-DR SUBBIAH', 2.209745891261483, 1100],\n",
       " ['TOWNSIDE SURGERY', 2.209745891261483, 1100],\n",
       " ['THE MAZHARI & KHAN PRACTICE', 2.2006627122644895, 912],\n",
       " ['ST ANDREWS - BRANSHOLME', 2.1967025909056024, 1634],\n",
       " ['JAMES ALEXANDER FAMILY PRACTICE', 2.1967025909056024, 1634],\n",
       " ['B&H INTERMEDIATE CARE SERVICE', 2.1862131918267544, 456],\n",
       " ['HARDEN SURGERY', 2.155495816284959, 1228],\n",
       " ['THE GATEWAY MEDICAL PRACTICE', 2.154423496545371, 1349],\n",
       " ['QUAYSIDE MEDICAL PRACTICE', 2.1535448371359025, 1422],\n",
       " ['HASTINGS AND ROTHER OOH', 2.076490970994684, 291],\n",
       " ['FISHPONDS FAMILY PRACTICE', 2.0743592136603786, 1632],\n",
       " ['DRS CLOAK  CHOI AND MILLIGAN', 2.0511156727220916, 1661],\n",
       " [\"ST MARY'S SURGERY\", 2.041026500575296, 981],\n",
       " ['THE THORNTON PRACTICE', 1.9970130183083867, 1970],\n",
       " ['IC24 LTD (EAST SURREY OOH)', 1.9530599800408153, 194],\n",
       " ['CORNISHWAY GROUP PRACTICE', 1.9529030654485127, 1506],\n",
       " ['PREMIER HEALTH TEAM', 1.9342677920567377, 876],\n",
       " ['CONCORD MEDICAL PRACTICE', 1.9339605744520654, 1386],\n",
       " ['COULBY MEDICAL PRACTICE', 1.9268085445885355, 1585],\n",
       " ['PARKSIDE MEDICAL CENTRE', 1.9235518278308144, 1314],\n",
       " ['THE DISCOVERY PRACTICE', 1.9047661015943373, 1268],\n",
       " ['ANCORA MEDICAL PRACTICE', 1.8854159223309173, 2347],\n",
       " ['DARWEN HEALTHLINK', 1.8822754121466374, 2019],\n",
       " ['JALAL PRACTICE', 1.8661104279692897, 885],\n",
       " ['ROOLEY LANE MED. CENTRE', 1.8635817801511316, 1522],\n",
       " ['GREAT HOMER STREET MEDICAL CENTRE', 1.813002119840964, 1062],\n",
       " ['NORTHPOINT', 1.8024326949572382, 1137],\n",
       " ['THE CRESCENT SURGERY', 1.7989165864147443, 1734],\n",
       " ['BROOKVALE PRACTICE', 1.7979440966591638, 1484],\n",
       " ['LEIGH NHS WIC', 1.7760099128664422, 162],\n",
       " ['DR SP SINGH AND PARTNERS', 1.7720416435781805, 1840],\n",
       " ['BELGRAVE SURGERY', 1.7643723369327995, 1291],\n",
       " ['THE PARKS MEDICAL PRACTICE', 1.7589687048174791, 1466],\n",
       " ['THE ROSS PRACTICE', 1.7231557395207378, 1648],\n",
       " ['THOMAS WALKER', 1.69692378556541, 1377]]"
      ]
     },
     "execution_count": 78,
     "metadata": {},
     "output_type": "execute_result"
    }
   ],
   "source": [
    "anomalies"
   ]
  },
  {
   "cell_type": "code",
   "execution_count": 79,
   "metadata": {},
   "outputs": [
    {
     "name": "stdout",
     "output_type": "stream",
     "text": [
      "==================\n",
      "Error!\n",
      "You have been rate limited for exceeding the limit of 3 per 1 minute.\n",
      "Please slow down your submission rate.\n",
      "==================\n"
     ]
    }
   ],
   "source": [
    "grader.score.dw__script_anomalies(anomalies)"
   ]
  },
  {
   "cell_type": "markdown",
   "metadata": {},
   "source": [
    "## Question 5: script_growth\n",
    "\n",
    "Another way to identify anomalies is by comparing current data to historical data. In the case of identifying sites of drug abuse, we might compare a practice's current rate of opioid prescription to their rate 5 or 10 years ago. Unless the nature of the practice has changed, the profile of drugs they prescribe should be relatively stable. We might also want to identify trends through time for business reasons, identifying drugs that are gaining market share. That's what we'll do in this question.\n",
    "\n",
    "We'll load in beneficiary data from 6 months earlier, June 2016, and calculate the percent growth in prescription rate from June 2016 to January 2017 for each `bnf_name`. We'll return the 50 items with largest growth and the 50 items with the largest shrinkage (i.e. negative percent growth) as a list of tuples sorted by growth rate in descending order in the format `(script_name, growth_rate, raw_2016_count)`. You'll notice that many of the 50 fastest growing items have low counts of prescriptions in 2016. Filter out any items that were prescribed less than 50 times."
   ]
  },
  {
   "cell_type": "code",
   "execution_count": 80,
   "metadata": {},
   "outputs": [],
   "source": [
    "scripts16 = pd.read_csv('./dw-data/201606scripts_sample.csv.gz')"
   ]
  },
  {
   "cell_type": "code",
   "execution_count": 81,
   "metadata": {},
   "outputs": [
    {
     "data": {
      "text/html": [
       "<div>\n",
       "<style scoped>\n",
       "    .dataframe tbody tr th:only-of-type {\n",
       "        vertical-align: middle;\n",
       "    }\n",
       "\n",
       "    .dataframe tbody tr th {\n",
       "        vertical-align: top;\n",
       "    }\n",
       "\n",
       "    .dataframe thead th {\n",
       "        text-align: right;\n",
       "    }\n",
       "</style>\n",
       "<table border=\"1\" class=\"dataframe\">\n",
       "  <thead>\n",
       "    <tr style=\"text-align: right;\">\n",
       "      <th></th>\n",
       "      <th>practice</th>\n",
       "      <th>bnf_code</th>\n",
       "      <th>bnf_name</th>\n",
       "      <th>items</th>\n",
       "      <th>nic</th>\n",
       "      <th>act_cost</th>\n",
       "      <th>quantity</th>\n",
       "    </tr>\n",
       "  </thead>\n",
       "  <tbody>\n",
       "    <tr>\n",
       "      <th>0</th>\n",
       "      <td>N85638</td>\n",
       "      <td>0301011R0</td>\n",
       "      <td>Salamol_Inha 100mcg (200 D) CFF (Teva)</td>\n",
       "      <td>2</td>\n",
       "      <td>2.92</td>\n",
       "      <td>2.73</td>\n",
       "      <td>2</td>\n",
       "    </tr>\n",
       "    <tr>\n",
       "      <th>1</th>\n",
       "      <td>N85638</td>\n",
       "      <td>0301011R0</td>\n",
       "      <td>Easyhaler_Salbutamol Sulf 200mcg (200D)</td>\n",
       "      <td>1</td>\n",
       "      <td>6.63</td>\n",
       "      <td>6.15</td>\n",
       "      <td>1</td>\n",
       "    </tr>\n",
       "    <tr>\n",
       "      <th>2</th>\n",
       "      <td>N85638</td>\n",
       "      <td>0301020I0</td>\n",
       "      <td>Ipratrop Brom_Inh Soln 500mcg/2ml Ud</td>\n",
       "      <td>1</td>\n",
       "      <td>1.77</td>\n",
       "      <td>1.75</td>\n",
       "      <td>12</td>\n",
       "    </tr>\n",
       "    <tr>\n",
       "      <th>3</th>\n",
       "      <td>N85638</td>\n",
       "      <td>0301020I0</td>\n",
       "      <td>Ipratrop Brom_Inh Soln 250mcg/1ml Ud</td>\n",
       "      <td>1</td>\n",
       "      <td>4.47</td>\n",
       "      <td>4.15</td>\n",
       "      <td>20</td>\n",
       "    </tr>\n",
       "    <tr>\n",
       "      <th>4</th>\n",
       "      <td>N85638</td>\n",
       "      <td>0302000C0</td>\n",
       "      <td>Clenil Modulite_Inha 50mcg (200D)</td>\n",
       "      <td>1</td>\n",
       "      <td>3.70</td>\n",
       "      <td>3.44</td>\n",
       "      <td>1</td>\n",
       "    </tr>\n",
       "  </tbody>\n",
       "</table>\n",
       "</div>"
      ],
      "text/plain": [
       "  practice   bnf_code                                 bnf_name  items   nic  \\\n",
       "0   N85638  0301011R0   Salamol_Inha 100mcg (200 D) CFF (Teva)      2  2.92   \n",
       "1   N85638  0301011R0  Easyhaler_Salbutamol Sulf 200mcg (200D)      1  6.63   \n",
       "2   N85638  0301020I0     Ipratrop Brom_Inh Soln 500mcg/2ml Ud      1  1.77   \n",
       "3   N85638  0301020I0     Ipratrop Brom_Inh Soln 250mcg/1ml Ud      1  4.47   \n",
       "4   N85638  0302000C0        Clenil Modulite_Inha 50mcg (200D)      1  3.70   \n",
       "\n",
       "   act_cost  quantity  \n",
       "0      2.73         2  \n",
       "1      6.15         1  \n",
       "2      1.75        12  \n",
       "3      4.15        20  \n",
       "4      3.44         1  "
      ]
     },
     "execution_count": 81,
     "metadata": {},
     "output_type": "execute_result"
    }
   ],
   "source": [
    "scripts16.head()"
   ]
  },
  {
   "cell_type": "code",
   "execution_count": 82,
   "metadata": {},
   "outputs": [
    {
     "name": "stdout",
     "output_type": "stream",
     "text": [
      "(973193, 7)\n"
     ]
    }
   ],
   "source": [
    "print(scripts16.shape)"
   ]
  },
  {
   "cell_type": "code",
   "execution_count": 83,
   "metadata": {},
   "outputs": [
    {
     "data": {
      "text/html": [
       "<div>\n",
       "<style scoped>\n",
       "    .dataframe tbody tr th:only-of-type {\n",
       "        vertical-align: middle;\n",
       "    }\n",
       "\n",
       "    .dataframe tbody tr th {\n",
       "        vertical-align: top;\n",
       "    }\n",
       "\n",
       "    .dataframe thead th {\n",
       "        text-align: right;\n",
       "    }\n",
       "</style>\n",
       "<table border=\"1\" class=\"dataframe\">\n",
       "  <thead>\n",
       "    <tr style=\"text-align: right;\">\n",
       "      <th></th>\n",
       "      <th>practice</th>\n",
       "      <th>bnf_code</th>\n",
       "      <th>bnf_name</th>\n",
       "      <th>items</th>\n",
       "      <th>nic</th>\n",
       "      <th>act_cost</th>\n",
       "      <th>quantity</th>\n",
       "      <th>opioid_prescription</th>\n",
       "    </tr>\n",
       "  </thead>\n",
       "  <tbody>\n",
       "    <tr>\n",
       "      <th>0</th>\n",
       "      <td>N85639</td>\n",
       "      <td>0106020C0</td>\n",
       "      <td>Bisacodyl_Tab E/C 5mg</td>\n",
       "      <td>1</td>\n",
       "      <td>0.39</td>\n",
       "      <td>0.47</td>\n",
       "      <td>12</td>\n",
       "      <td>False</td>\n",
       "    </tr>\n",
       "    <tr>\n",
       "      <th>1</th>\n",
       "      <td>N85639</td>\n",
       "      <td>0106040M0</td>\n",
       "      <td>Movicol Plain_Paed Pdr Sach 6.9g</td>\n",
       "      <td>1</td>\n",
       "      <td>4.38</td>\n",
       "      <td>4.07</td>\n",
       "      <td>30</td>\n",
       "      <td>False</td>\n",
       "    </tr>\n",
       "    <tr>\n",
       "      <th>2</th>\n",
       "      <td>N85639</td>\n",
       "      <td>0301011R0</td>\n",
       "      <td>Salbutamol_Inha 100mcg (200 D) CFF</td>\n",
       "      <td>1</td>\n",
       "      <td>1.50</td>\n",
       "      <td>1.40</td>\n",
       "      <td>1</td>\n",
       "      <td>False</td>\n",
       "    </tr>\n",
       "    <tr>\n",
       "      <th>3</th>\n",
       "      <td>N85639</td>\n",
       "      <td>0304010G0</td>\n",
       "      <td>Chlorphenamine Mal_Oral Soln 2mg/5ml</td>\n",
       "      <td>1</td>\n",
       "      <td>2.62</td>\n",
       "      <td>2.44</td>\n",
       "      <td>150</td>\n",
       "      <td>False</td>\n",
       "    </tr>\n",
       "    <tr>\n",
       "      <th>4</th>\n",
       "      <td>N85639</td>\n",
       "      <td>0401020K0</td>\n",
       "      <td>Diazepam_Tab 2mg</td>\n",
       "      <td>1</td>\n",
       "      <td>0.16</td>\n",
       "      <td>0.26</td>\n",
       "      <td>6</td>\n",
       "      <td>False</td>\n",
       "    </tr>\n",
       "  </tbody>\n",
       "</table>\n",
       "</div>"
      ],
      "text/plain": [
       "  practice   bnf_code                              bnf_name  items   nic  \\\n",
       "0   N85639  0106020C0                 Bisacodyl_Tab E/C 5mg      1  0.39   \n",
       "1   N85639  0106040M0      Movicol Plain_Paed Pdr Sach 6.9g      1  4.38   \n",
       "2   N85639  0301011R0    Salbutamol_Inha 100mcg (200 D) CFF      1  1.50   \n",
       "3   N85639  0304010G0  Chlorphenamine Mal_Oral Soln 2mg/5ml      1  2.62   \n",
       "4   N85639  0401020K0                      Diazepam_Tab 2mg      1  0.16   \n",
       "\n",
       "   act_cost  quantity  opioid_prescription  \n",
       "0      0.47        12                False  \n",
       "1      4.07        30                False  \n",
       "2      1.40         1                False  \n",
       "3      2.44       150                False  \n",
       "4      0.26         6                False  "
      ]
     },
     "execution_count": 83,
     "metadata": {},
     "output_type": "execute_result"
    }
   ],
   "source": [
    "scripts.head()"
   ]
  },
  {
   "cell_type": "code",
   "execution_count": 84,
   "metadata": {},
   "outputs": [],
   "source": [
    "# calculate the growth rate\n",
    "growth = (scripts.bnf_name.value_counts() - scripts16.bnf_name.value_counts())/scripts16.bnf_name.value_counts()"
   ]
  },
  {
   "cell_type": "code",
   "execution_count": 85,
   "metadata": {},
   "outputs": [
    {
     "data": {
      "text/plain": [
       "365 Film 10cm x 12cm VP Adh Film Dress           NaN\n",
       "365 Film 15cm x 20cm VP Adh Film Dress           NaN\n",
       "365 Film 4cm x 5cm VP Adh Film Dress             NaN\n",
       "365 Non Adherent 10cm x 10cm Pfa Plas Fa    0.000000\n",
       "365 Non Adherent 10cm x 20cm Pfa Plas Fa         NaN\n",
       "                                              ...   \n",
       "nSpire PiKo-1 Stnd Range Peak Flow Meter   -0.500000\n",
       "nSpire Pocket Peak Low Range Peak Flow M    1.000000\n",
       "nSpire Pocket Peak Stnd Range Peak Flow     1.500000\n",
       "oraNurse_Toothpaste Orig (1450ppm)          1.000000\n",
       "palmdoc (Reagent)_Strips                    0.666667\n",
       "Name: bnf_name, Length: 15424, dtype: float64"
      ]
     },
     "execution_count": 85,
     "metadata": {},
     "output_type": "execute_result"
    }
   ],
   "source": [
    "growth"
   ]
  },
  {
   "cell_type": "code",
   "execution_count": 86,
   "metadata": {},
   "outputs": [],
   "source": [
    "df = pd.DataFrame(dict(growth = growth, item16 = scripts16.bnf_name.value_counts())).reset_index()"
   ]
  },
  {
   "cell_type": "code",
   "execution_count": 87,
   "metadata": {},
   "outputs": [
    {
     "data": {
      "text/html": [
       "<div>\n",
       "<style scoped>\n",
       "    .dataframe tbody tr th:only-of-type {\n",
       "        vertical-align: middle;\n",
       "    }\n",
       "\n",
       "    .dataframe tbody tr th {\n",
       "        vertical-align: top;\n",
       "    }\n",
       "\n",
       "    .dataframe thead th {\n",
       "        text-align: right;\n",
       "    }\n",
       "</style>\n",
       "<table border=\"1\" class=\"dataframe\">\n",
       "  <thead>\n",
       "    <tr style=\"text-align: right;\">\n",
       "      <th></th>\n",
       "      <th>index</th>\n",
       "      <th>growth</th>\n",
       "      <th>item16</th>\n",
       "    </tr>\n",
       "  </thead>\n",
       "  <tbody>\n",
       "    <tr>\n",
       "      <th>0</th>\n",
       "      <td>365 Film 10cm x 12cm VP Adh Film Dress</td>\n",
       "      <td>NaN</td>\n",
       "      <td>NaN</td>\n",
       "    </tr>\n",
       "    <tr>\n",
       "      <th>1</th>\n",
       "      <td>365 Film 15cm x 20cm VP Adh Film Dress</td>\n",
       "      <td>NaN</td>\n",
       "      <td>1.0</td>\n",
       "    </tr>\n",
       "    <tr>\n",
       "      <th>2</th>\n",
       "      <td>365 Film 4cm x 5cm VP Adh Film Dress</td>\n",
       "      <td>NaN</td>\n",
       "      <td>1.0</td>\n",
       "    </tr>\n",
       "    <tr>\n",
       "      <th>3</th>\n",
       "      <td>365 Non Adherent 10cm x 10cm Pfa Plas Fa</td>\n",
       "      <td>0.0</td>\n",
       "      <td>3.0</td>\n",
       "    </tr>\n",
       "    <tr>\n",
       "      <th>4</th>\n",
       "      <td>365 Non Adherent 10cm x 20cm Pfa Plas Fa</td>\n",
       "      <td>NaN</td>\n",
       "      <td>NaN</td>\n",
       "    </tr>\n",
       "  </tbody>\n",
       "</table>\n",
       "</div>"
      ],
      "text/plain": [
       "                                      index  growth  item16\n",
       "0    365 Film 10cm x 12cm VP Adh Film Dress     NaN     NaN\n",
       "1    365 Film 15cm x 20cm VP Adh Film Dress     NaN     1.0\n",
       "2      365 Film 4cm x 5cm VP Adh Film Dress     NaN     1.0\n",
       "3  365 Non Adherent 10cm x 10cm Pfa Plas Fa     0.0     3.0\n",
       "4  365 Non Adherent 10cm x 20cm Pfa Plas Fa     NaN     NaN"
      ]
     },
     "execution_count": 87,
     "metadata": {},
     "output_type": "execute_result"
    }
   ],
   "source": [
    "df.head()"
   ]
  },
  {
   "cell_type": "code",
   "execution_count": 88,
   "metadata": {},
   "outputs": [],
   "source": [
    "df.fillna(0, inplace = True)"
   ]
  },
  {
   "cell_type": "code",
   "execution_count": 89,
   "metadata": {},
   "outputs": [
    {
     "data": {
      "text/html": [
       "<div>\n",
       "<style scoped>\n",
       "    .dataframe tbody tr th:only-of-type {\n",
       "        vertical-align: middle;\n",
       "    }\n",
       "\n",
       "    .dataframe tbody tr th {\n",
       "        vertical-align: top;\n",
       "    }\n",
       "\n",
       "    .dataframe thead th {\n",
       "        text-align: right;\n",
       "    }\n",
       "</style>\n",
       "<table border=\"1\" class=\"dataframe\">\n",
       "  <thead>\n",
       "    <tr style=\"text-align: right;\">\n",
       "      <th></th>\n",
       "      <th>index</th>\n",
       "      <th>growth</th>\n",
       "      <th>item16</th>\n",
       "    </tr>\n",
       "  </thead>\n",
       "  <tbody>\n",
       "    <tr>\n",
       "      <th>0</th>\n",
       "      <td>365 Film 10cm x 12cm VP Adh Film Dress</td>\n",
       "      <td>0.0</td>\n",
       "      <td>0.0</td>\n",
       "    </tr>\n",
       "    <tr>\n",
       "      <th>1</th>\n",
       "      <td>365 Film 15cm x 20cm VP Adh Film Dress</td>\n",
       "      <td>0.0</td>\n",
       "      <td>1.0</td>\n",
       "    </tr>\n",
       "    <tr>\n",
       "      <th>2</th>\n",
       "      <td>365 Film 4cm x 5cm VP Adh Film Dress</td>\n",
       "      <td>0.0</td>\n",
       "      <td>1.0</td>\n",
       "    </tr>\n",
       "    <tr>\n",
       "      <th>3</th>\n",
       "      <td>365 Non Adherent 10cm x 10cm Pfa Plas Fa</td>\n",
       "      <td>0.0</td>\n",
       "      <td>3.0</td>\n",
       "    </tr>\n",
       "    <tr>\n",
       "      <th>4</th>\n",
       "      <td>365 Non Adherent 10cm x 20cm Pfa Plas Fa</td>\n",
       "      <td>0.0</td>\n",
       "      <td>0.0</td>\n",
       "    </tr>\n",
       "  </tbody>\n",
       "</table>\n",
       "</div>"
      ],
      "text/plain": [
       "                                      index  growth  item16\n",
       "0    365 Film 10cm x 12cm VP Adh Film Dress     0.0     0.0\n",
       "1    365 Film 15cm x 20cm VP Adh Film Dress     0.0     1.0\n",
       "2      365 Film 4cm x 5cm VP Adh Film Dress     0.0     1.0\n",
       "3  365 Non Adherent 10cm x 10cm Pfa Plas Fa     0.0     3.0\n",
       "4  365 Non Adherent 10cm x 20cm Pfa Plas Fa     0.0     0.0"
      ]
     },
     "execution_count": 89,
     "metadata": {},
     "output_type": "execute_result"
    }
   ],
   "source": [
    "df.head()"
   ]
  },
  {
   "cell_type": "code",
   "execution_count": 90,
   "metadata": {},
   "outputs": [],
   "source": [
    "# remove the elements with less than 50 prescriptions\n",
    "df = df[df['item16'] >= 50]"
   ]
  },
  {
   "cell_type": "code",
   "execution_count": 91,
   "metadata": {},
   "outputs": [
    {
     "data": {
      "text/plain": [
       "(3519, 3)"
      ]
     },
     "execution_count": 91,
     "metadata": {},
     "output_type": "execute_result"
    }
   ],
   "source": [
    "df.shape"
   ]
  },
  {
   "cell_type": "code",
   "execution_count": 92,
   "metadata": {},
   "outputs": [],
   "source": [
    "# sort the dataframe by the descending order of growth rate\n",
    "df = df.sort_values(by = 'growth', ascending = False)"
   ]
  },
  {
   "cell_type": "code",
   "execution_count": 93,
   "metadata": {},
   "outputs": [
    {
     "data": {
      "text/html": [
       "<div>\n",
       "<style scoped>\n",
       "    .dataframe tbody tr th:only-of-type {\n",
       "        vertical-align: middle;\n",
       "    }\n",
       "\n",
       "    .dataframe tbody tr th {\n",
       "        vertical-align: top;\n",
       "    }\n",
       "\n",
       "    .dataframe thead th {\n",
       "        text-align: right;\n",
       "    }\n",
       "</style>\n",
       "<table border=\"1\" class=\"dataframe\">\n",
       "  <thead>\n",
       "    <tr style=\"text-align: right;\">\n",
       "      <th></th>\n",
       "      <th>index</th>\n",
       "      <th>growth</th>\n",
       "      <th>item16</th>\n",
       "    </tr>\n",
       "  </thead>\n",
       "  <tbody>\n",
       "    <tr>\n",
       "      <th>1985</th>\n",
       "      <td>Butec_Transdermal Patch 5mcg/hr</td>\n",
       "      <td>3.467742</td>\n",
       "      <td>62.0</td>\n",
       "    </tr>\n",
       "    <tr>\n",
       "      <th>1983</th>\n",
       "      <td>Butec_Transdermal Patch 10mcg/hr</td>\n",
       "      <td>3.000000</td>\n",
       "      <td>69.0</td>\n",
       "    </tr>\n",
       "    <tr>\n",
       "      <th>5742</th>\n",
       "      <td>Fostair NEXThaler_Inh 200mcg/6mcg (120D)</td>\n",
       "      <td>1.430233</td>\n",
       "      <td>86.0</td>\n",
       "    </tr>\n",
       "    <tr>\n",
       "      <th>11270</th>\n",
       "      <td>Pneumococcal_Vac 0.5ml Vl (23 Valent)</td>\n",
       "      <td>1.269430</td>\n",
       "      <td>193.0</td>\n",
       "    </tr>\n",
       "    <tr>\n",
       "      <th>13357</th>\n",
       "      <td>Spiolto Respimat_Inha2.5/2.5mcg(60D)+Dev</td>\n",
       "      <td>1.269231</td>\n",
       "      <td>52.0</td>\n",
       "    </tr>\n",
       "  </tbody>\n",
       "</table>\n",
       "</div>"
      ],
      "text/plain": [
       "                                          index    growth  item16\n",
       "1985            Butec_Transdermal Patch 5mcg/hr  3.467742    62.0\n",
       "1983           Butec_Transdermal Patch 10mcg/hr  3.000000    69.0\n",
       "5742   Fostair NEXThaler_Inh 200mcg/6mcg (120D)  1.430233    86.0\n",
       "11270     Pneumococcal_Vac 0.5ml Vl (23 Valent)  1.269430   193.0\n",
       "13357  Spiolto Respimat_Inha2.5/2.5mcg(60D)+Dev  1.269231    52.0"
      ]
     },
     "execution_count": 93,
     "metadata": {},
     "output_type": "execute_result"
    }
   ],
   "source": [
    "df.head()"
   ]
  },
  {
   "cell_type": "code",
   "execution_count": 94,
   "metadata": {},
   "outputs": [],
   "source": [
    "# pick the top 50 and the last 50 elements:\n",
    "script_growth = list(pd.concat([df.head(50), df.tail(50)]).itertuples(index = False, name = None))"
   ]
  },
  {
   "cell_type": "code",
   "execution_count": 95,
   "metadata": {},
   "outputs": [
    {
     "data": {
      "text/plain": [
       "[('Butec_Transdermal Patch 5mcg/hr', 3.467741935483871, 62.0),\n",
       " ('Butec_Transdermal Patch 10mcg/hr', 3.0, 69.0),\n",
       " ('Fostair NEXThaler_Inh 200mcg/6mcg (120D)', 1.430232558139535, 86.0),\n",
       " ('Pneumococcal_Vac 0.5ml Vl (23 Valent)', 1.2694300518134716, 193.0),\n",
       " ('Spiolto Respimat_Inha2.5/2.5mcg(60D)+Dev', 1.2692307692307692, 52.0),\n",
       " ('Trulicity_Inj 1.5mg/0.5ml Pf Pen', 1.1851851851851851, 54.0),\n",
       " ('CosmoCol_Paed Oral Pdr Sach 6.9g', 1.1774193548387097, 62.0),\n",
       " ('Dulaglutide_Inj 1.5mg/0.5ml Pf Dev', 0.9634146341463414, 82.0),\n",
       " ('ViATIM_Vac D/Chamber 160u/25mcg 1ml Pfs', 0.912, 125.0),\n",
       " ('Empagliflozin_Tab 25mg', 0.896, 125.0),\n",
       " ('CareSens Lancets 0.31mm/30 Gauge', 0.8955223880597015, 67.0),\n",
       " ('Fostair_Inh 200mcg/6mcg (120D) CFF', 0.8616600790513834, 253.0),\n",
       " ('Orbis Nor Saline Sod Chlor 0.9% Nsl Dps', 0.8588235294117647, 85.0),\n",
       " ('Umeclidinium Brom_Inh 65mcg (30D)', 0.8275862068965517, 87.0),\n",
       " ('Ultibro Breezhaler_Pdr Inh Cap + Dev', 0.8016528925619835, 121.0),\n",
       " ('Medihoney_Barrier Crm', 0.7840909090909091, 88.0),\n",
       " ('Fluoxetine HCl_Oral Soln 20mg/5ml S/F', 0.7808219178082192, 73.0),\n",
       " ('TEE2 (Reagent)_Strips', 0.7777777777777778, 81.0),\n",
       " ('Zaluron XL_Tab 400mg', 0.7586206896551724, 58.0),\n",
       " ('Laxido_Paed Plain Oral Pdr Sach 6.9g', 0.7586206896551724, 174.0),\n",
       " ('Prednisolone_Oral Soln 5mg/5ml Ud', 0.726027397260274, 73.0),\n",
       " ('Buprenorphine_Patch 15mcg/hr (7day)', 0.7155963302752294, 109.0),\n",
       " ('Coloplast_SenSura Mio Maxi Drnbl Bag S/C', 0.7037037037037037, 81.0),\n",
       " ('Octenisan_Antimicrobial Wsh Lot', 0.7027027027027027, 74.0),\n",
       " ('Duaklir Genuair_340mcg/12mcg (60D)', 0.6710526315789473, 152.0),\n",
       " ('Sod Chlor_Inh Soln 0.9% 2.5ml Ud Amp', 0.6419753086419753, 162.0),\n",
       " ('Coloplast_SenSura Mio Maxi Drnbl Bag L/C', 0.6274509803921569, 51.0),\n",
       " ('Flutiform_Inha 50/5mcg (120 D)', 0.625, 88.0),\n",
       " ('Ins Degludec_100u/ml 3ml Pf Pen', 0.6166666666666667, 60.0),\n",
       " ('CareSens Lancets 0.36mm/28 Gauge', 0.6111111111111112, 90.0),\n",
       " ('Epimax Crm 500g', 0.61, 100.0),\n",
       " ('Evacal D3_Tab Chble 400u/1.5g', 0.6046511627906976, 86.0),\n",
       " ('Shortec_Cap 20mg', 0.6029411764705882, 68.0),\n",
       " ('Co-Trimoxazole_Oral Susp 40/200mg/5mlS/F', 0.6, 50.0),\n",
       " ('Ciprofloxacin_Gran For Susp 250mg/5ml', 0.5921052631578947, 76.0),\n",
       " ('AgaMatrix Ultra-Thin Lancets 0.35mm/28 G', 0.5660377358490566, 53.0),\n",
       " ('Zemtard 120 XL_Cap 120mg', 0.5636363636363636, 55.0),\n",
       " ('Nutramigen 2 + LGG_Pdr', 0.5604395604395604, 91.0),\n",
       " ('Toujeo_300u/ml 1.5ml Pf SoloStar Pen', 0.5408805031446541, 159.0),\n",
       " ('Ins Tresiba_FlexTouch 100u/ml 3ml Pf Pen', 0.5405405405405406, 148.0),\n",
       " ('Longtec_Tab 30mg M/R', 0.5370370370370371, 108.0),\n",
       " ('Adalat_Cap 5mg', 0.5365853658536586, 82.0),\n",
       " ('Dexameth_Oral Soln 2mg/5ml S/F', 0.5294117647058824, 68.0),\n",
       " ('Haloperidol_Inj 5mg/ml 1ml Amp', 0.5288461538461539, 104.0),\n",
       " ('Lyclear_Dermal Crm 5%', 0.5211267605633803, 71.0),\n",
       " ('Valupak_Multivit & Mineral Tab OAD', 0.5098039215686274, 51.0),\n",
       " ('Coloplast_Sensura Mio Maxi Clsd Bag + Fl', 0.5056179775280899, 89.0),\n",
       " ('Medikinet XL_Cap 10mg', 0.48484848484848486, 99.0),\n",
       " ('Dovobet_Gel Applic', 0.48148148148148145, 54.0),\n",
       " ('Incruse Ellipta_Inh 55mcg (30D)', 0.4807692307692308, 208.0),\n",
       " ('Oxycodone HCl_Tab 20mg M/R', -0.4318181818181818, 264.0),\n",
       " ('Cardura XL_Tab 4mg', -0.43478260869565216, 69.0),\n",
       " ('Oxycodone HCl_Tab 80mg M/R', -0.4358974358974359, 78.0),\n",
       " ('Verapamil HCl_Cap 120mg M/R', -0.43790849673202614, 153.0),\n",
       " ('Topamax_Tab 100mg', -0.45161290322580644, 62.0),\n",
       " ('Opticrom_Allergy Eye Dps 2%', -0.4523809523809524, 126.0),\n",
       " ('Optilast_Eye Dps 0.05%', -0.45454545454545453, 55.0),\n",
       " ('Actonel_Once a Week Tab 35mg', -0.4576271186440678, 59.0),\n",
       " ('Premique_Tab 0.625mg/5mg', -0.47039473684210525, 304.0),\n",
       " ('Sunsense_Daily Face Crm Spf 50+', -0.48344370860927155, 151.0),\n",
       " ('Hydrocort/Crotamiton_Crm 0.25%/10%', -0.48936170212765956, 141.0),\n",
       " ('Azelastine HCl_Aq Eye Dps 0.05%', -0.5036231884057971, 276.0),\n",
       " ('Opticrom_Eye Dps 2% (Aq)', -0.5073891625615764, 203.0),\n",
       " ('Metoprolol Tart_Tab 200mg M/R', -0.509090909090909, 55.0),\n",
       " ('Rapitil_Eye Dps 2%', -0.5096774193548387, 155.0),\n",
       " ('Desloratadine_Oral Soln 2.5mg/5ml S/F', -0.5147058823529411, 136.0),\n",
       " ('Erythromycin_Ethylsuc Tab 500mg', -0.5154639175257731, 97.0),\n",
       " ('Aquacel Foam Adhesive 8cm x 8cm Wound Dr', -0.5294117647058824, 68.0),\n",
       " ('Zirtek_Allergy Tab 10mg', -0.5303030303030303, 66.0),\n",
       " ('Antaz Sulf/Xylomet_Eye Dps 0.5%/0.05%', -0.5454545454545454, 66.0),\n",
       " ('Vital 1.5kcal_Liq (Vanilla)', -0.5466666666666666, 75.0),\n",
       " ('Oxybutynin HCl_Oral Soln 2.5mg/5ml S/F', -0.5573770491803278, 61.0),\n",
       " ('Prazosin HCl_Tab 500mcg', -0.5581395348837209, 86.0),\n",
       " ('Artificial Saliva_Spy 50ml', -0.5586854460093896, 213.0),\n",
       " ('Sunsense_Ultra Lot Spf 50+', -0.5652173913043478, 368.0),\n",
       " ('Telfast 120_Tab 120mg', -0.5698924731182796, 93.0),\n",
       " ('Otrivine-Antistin_Eye Dps', -0.572463768115942, 138.0),\n",
       " ('Fexofenadine HCl_Tab 30mg', -0.5959595959595959, 297.0),\n",
       " ('Mag Trisil_Mix', -0.6119402985074627, 67.0),\n",
       " ('Glibenclamide_Tab 5mg', -0.6164383561643836, 146.0),\n",
       " ('Co-Danthrusate_Cap 50mg/60mg', -0.6296296296296297, 81.0),\n",
       " ('Ketotifen Fumar_Eye Dps 250mcg/ml', -0.6842105263157895, 57.0),\n",
       " ('Uvistat_Sun Crm Spf 50', -0.6917293233082706, 133.0),\n",
       " ('Haelan_Tape 7.5cm x 50cm', -0.7130434782608696, 115.0),\n",
       " ('Haelan_Tape 7.5cm x 20cm', -0.72, 100.0),\n",
       " ('Beconase_Hayfever Nsl Spy 50mcg (180 D)', -0.7384615384615385, 65.0),\n",
       " ('Uvistat_Sun Crm Spf 30', -0.7647058823529411, 68.0),\n",
       " ('Deep Freeze_Cold Gel 2%', -0.7758620689655172, 58.0),\n",
       " ('Adizem-SR_Tab 120mg', -0.8269230769230769, 52.0),\n",
       " ('Anugesic HC_Crm', -0.8541666666666666, 96.0),\n",
       " ('Sunsense_Sunsensitive Crm SPF 50+', -0.8562091503267973, 153.0),\n",
       " ('Hepatyrix_Vac 1440u/25mcg/ml 1ml Pfs', -0.875, 216.0),\n",
       " ('Climagest_Tab 2mg', -0.8939393939393939, 66.0),\n",
       " ('Climaval_Tab 2mg', -0.9015151515151515, 132.0),\n",
       " ('Orphenadrine HCl_Tab 50mg', -0.9117647058823529, 102.0),\n",
       " ('Hydroxyzine HCl_Oral Soln 10mg/5ml', -0.9148936170212766, 94.0),\n",
       " ('Ovysmen_Tab', -0.9253731343283582, 67.0),\n",
       " ('Climaval_Tab 1mg', -0.9264705882352942, 136.0),\n",
       " ('Climesse_Tab', -0.9420289855072463, 69.0),\n",
       " ('Polyalc_Eye Dps 1.4%', -0.9963235294117647, 272.0)]"
      ]
     },
     "execution_count": 95,
     "metadata": {},
     "output_type": "execute_result"
    }
   ],
   "source": [
    "script_growth"
   ]
  },
  {
   "cell_type": "code",
   "execution_count": 96,
   "metadata": {},
   "outputs": [],
   "source": [
    "#script_growth = [(\"Butec_Transdermal Patch 5mcg\\/hr\", 3.4677419355, 62.0)] * 100"
   ]
  },
  {
   "cell_type": "code",
   "execution_count": 97,
   "metadata": {},
   "outputs": [
    {
     "name": "stdout",
     "output_type": "stream",
     "text": [
      "==================\n",
      "Error!\n",
      "You have been rate limited for exceeding the limit of 3 per 1 minute.\n",
      "Please slow down your submission rate.\n",
      "==================\n"
     ]
    }
   ],
   "source": [
    "grader.score.dw__script_growth(script_growth)"
   ]
  },
  {
   "cell_type": "markdown",
   "metadata": {},
   "source": [
    "## Question 6: rare_scripts\n",
    "\n",
    "Does a practice's prescription costs originate from routine care or from reliance on rarely prescribed treatments? Commonplace treatments can carry lower costs than rare treatments because of efficiencies in large-scale production. While some specialist practices can't help but avoid prescribing rare medicines because there are no alternatives, some practices may be prescribing a unnecessary amount of brand-name products when generics are available. Let's identify practices whose costs disproportionately originate from rarely prescribed items.\n",
    "\n",
    "First we have to identify which `'bnf_code'` are rare. To do this, find the probability $p$ of a prescription having a particular `'bnf_code'` if the `'bnf_code'` was randomly chosen from the unique options in the beneficiary data. We will call a `'bnf_code'` rare if it is prescribed at a rate less than $0.1p$."
   ]
  },
  {
   "cell_type": "code",
   "execution_count": 98,
   "metadata": {},
   "outputs": [
    {
     "data": {
      "text/html": [
       "<div>\n",
       "<style scoped>\n",
       "    .dataframe tbody tr th:only-of-type {\n",
       "        vertical-align: middle;\n",
       "    }\n",
       "\n",
       "    .dataframe tbody tr th {\n",
       "        vertical-align: top;\n",
       "    }\n",
       "\n",
       "    .dataframe thead th {\n",
       "        text-align: right;\n",
       "    }\n",
       "</style>\n",
       "<table border=\"1\" class=\"dataframe\">\n",
       "  <thead>\n",
       "    <tr style=\"text-align: right;\">\n",
       "      <th></th>\n",
       "      <th>code</th>\n",
       "      <th>name</th>\n",
       "      <th>addr_1</th>\n",
       "      <th>addr_2</th>\n",
       "      <th>borough</th>\n",
       "      <th>village</th>\n",
       "      <th>post_code</th>\n",
       "    </tr>\n",
       "  </thead>\n",
       "  <tbody>\n",
       "    <tr>\n",
       "      <th>0</th>\n",
       "      <td>A81002</td>\n",
       "      <td>QUEENS PARK MEDICAL CENTRE</td>\n",
       "      <td>QUEENS PARK MEDICAL CTR</td>\n",
       "      <td>FARRER STREET</td>\n",
       "      <td>STOCKTON ON TEES</td>\n",
       "      <td>CLEVELAND</td>\n",
       "      <td>TS18 2AW</td>\n",
       "    </tr>\n",
       "    <tr>\n",
       "      <th>1</th>\n",
       "      <td>A81003</td>\n",
       "      <td>VICTORIA MEDICAL PRACTICE</td>\n",
       "      <td>THE HEALTH CENTRE</td>\n",
       "      <td>VICTORIA ROAD</td>\n",
       "      <td>HARTLEPOOL</td>\n",
       "      <td>CLEVELAND</td>\n",
       "      <td>TS26 8DB</td>\n",
       "    </tr>\n",
       "    <tr>\n",
       "      <th>2</th>\n",
       "      <td>A81004</td>\n",
       "      <td>WOODLANDS ROAD SURGERY</td>\n",
       "      <td>6 WOODLANDS ROAD</td>\n",
       "      <td>NaN</td>\n",
       "      <td>MIDDLESBROUGH</td>\n",
       "      <td>CLEVELAND</td>\n",
       "      <td>TS1 3BE</td>\n",
       "    </tr>\n",
       "    <tr>\n",
       "      <th>3</th>\n",
       "      <td>A81005</td>\n",
       "      <td>SPRINGWOOD SURGERY</td>\n",
       "      <td>SPRINGWOOD SURGERY</td>\n",
       "      <td>RECTORY LANE</td>\n",
       "      <td>GUISBOROUGH</td>\n",
       "      <td>NaN</td>\n",
       "      <td>TS14 7DJ</td>\n",
       "    </tr>\n",
       "    <tr>\n",
       "      <th>4</th>\n",
       "      <td>A81006</td>\n",
       "      <td>TENNANT STREET MEDICAL PRACTICE</td>\n",
       "      <td>TENNANT ST MED PRACT</td>\n",
       "      <td>FARRER STREET</td>\n",
       "      <td>STOCKTON ON TEES</td>\n",
       "      <td>CLEVELAND</td>\n",
       "      <td>TS18 2AT</td>\n",
       "    </tr>\n",
       "  </tbody>\n",
       "</table>\n",
       "</div>"
      ],
      "text/plain": [
       "     code                             name                   addr_1  \\\n",
       "0  A81002       QUEENS PARK MEDICAL CENTRE  QUEENS PARK MEDICAL CTR   \n",
       "1  A81003        VICTORIA MEDICAL PRACTICE        THE HEALTH CENTRE   \n",
       "2  A81004           WOODLANDS ROAD SURGERY         6 WOODLANDS ROAD   \n",
       "3  A81005               SPRINGWOOD SURGERY       SPRINGWOOD SURGERY   \n",
       "4  A81006  TENNANT STREET MEDICAL PRACTICE     TENNANT ST MED PRACT   \n",
       "\n",
       "          addr_2           borough    village post_code  \n",
       "0  FARRER STREET  STOCKTON ON TEES  CLEVELAND  TS18 2AW  \n",
       "1  VICTORIA ROAD        HARTLEPOOL  CLEVELAND  TS26 8DB  \n",
       "2            NaN     MIDDLESBROUGH  CLEVELAND   TS1 3BE  \n",
       "3   RECTORY LANE       GUISBOROUGH        NaN  TS14 7DJ  \n",
       "4  FARRER STREET  STOCKTON ON TEES  CLEVELAND  TS18 2AT  "
      ]
     },
     "execution_count": 98,
     "metadata": {},
     "output_type": "execute_result"
    }
   ],
   "source": [
    "practices.head()"
   ]
  },
  {
   "cell_type": "code",
   "execution_count": 99,
   "metadata": {},
   "outputs": [
    {
     "data": {
      "text/plain": [
       "(12019, 7)"
      ]
     },
     "execution_count": 99,
     "metadata": {},
     "output_type": "execute_result"
    }
   ],
   "source": [
    "practices.shape"
   ]
  },
  {
   "cell_type": "code",
   "execution_count": 100,
   "metadata": {},
   "outputs": [],
   "source": [
    "practices_unique = practices.sort_values(['code', 'post_code']).drop_duplicates(subset = 'code')"
   ]
  },
  {
   "cell_type": "code",
   "execution_count": 101,
   "metadata": {},
   "outputs": [],
   "source": [
    "group_by_bnf_code = scripts.groupby(['bnf_code'])['bnf_code'].count().reset_index(name = 'bnf_code_count')"
   ]
  },
  {
   "cell_type": "code",
   "execution_count": 102,
   "metadata": {},
   "outputs": [
    {
     "name": "stdout",
     "output_type": "stream",
     "text": [
      "0.0005063291139240507\n"
     ]
    }
   ],
   "source": [
    "group_by_bnf_code['p'] = group_by_bnf_code['bnf_code_count']/len(scripts)\n",
    "px = 1/len(group_by_bnf_code)\n",
    "print(px)"
   ]
  },
  {
   "cell_type": "code",
   "execution_count": 103,
   "metadata": {},
   "outputs": [],
   "source": [
    "group_by_bnf_code['rare'] = np.where(group_by_bnf_code['p'] < 0.1*px, True, False)"
   ]
  },
  {
   "cell_type": "code",
   "execution_count": 104,
   "metadata": {},
   "outputs": [],
   "source": [
    "scripts_rare = pd.merge(scripts, group_by_bnf_code, how = 'inner', on = 'bnf_code')"
   ]
  },
  {
   "cell_type": "code",
   "execution_count": 114,
   "metadata": {},
   "outputs": [
    {
     "data": {
      "text/html": [
       "<div>\n",
       "<style scoped>\n",
       "    .dataframe tbody tr th:only-of-type {\n",
       "        vertical-align: middle;\n",
       "    }\n",
       "\n",
       "    .dataframe tbody tr th {\n",
       "        vertical-align: top;\n",
       "    }\n",
       "\n",
       "    .dataframe thead th {\n",
       "        text-align: right;\n",
       "    }\n",
       "</style>\n",
       "<table border=\"1\" class=\"dataframe\">\n",
       "  <thead>\n",
       "    <tr style=\"text-align: right;\">\n",
       "      <th></th>\n",
       "      <th>practice</th>\n",
       "      <th>bnf_code</th>\n",
       "      <th>bnf_name</th>\n",
       "      <th>items</th>\n",
       "      <th>nic</th>\n",
       "      <th>act_cost</th>\n",
       "      <th>quantity</th>\n",
       "      <th>opioid_prescription</th>\n",
       "      <th>bnf_code_count</th>\n",
       "      <th>p</th>\n",
       "      <th>rare</th>\n",
       "    </tr>\n",
       "  </thead>\n",
       "  <tbody>\n",
       "    <tr>\n",
       "      <th>0</th>\n",
       "      <td>N85639</td>\n",
       "      <td>0106020C0</td>\n",
       "      <td>Bisacodyl_Tab E/C 5mg</td>\n",
       "      <td>1</td>\n",
       "      <td>0.39</td>\n",
       "      <td>0.47</td>\n",
       "      <td>12</td>\n",
       "      <td>False</td>\n",
       "      <td>1035</td>\n",
       "      <td>0.001064</td>\n",
       "      <td>False</td>\n",
       "    </tr>\n",
       "    <tr>\n",
       "      <th>1</th>\n",
       "      <td>N81013</td>\n",
       "      <td>0106020C0</td>\n",
       "      <td>Bisacodyl_Tab E/C 5mg</td>\n",
       "      <td>19</td>\n",
       "      <td>28.10</td>\n",
       "      <td>28.14</td>\n",
       "      <td>860</td>\n",
       "      <td>False</td>\n",
       "      <td>1035</td>\n",
       "      <td>0.001064</td>\n",
       "      <td>False</td>\n",
       "    </tr>\n",
       "    <tr>\n",
       "      <th>2</th>\n",
       "      <td>N81029</td>\n",
       "      <td>0106020C0</td>\n",
       "      <td>Bisacodyl_Tab E/C 5mg</td>\n",
       "      <td>50</td>\n",
       "      <td>67.73</td>\n",
       "      <td>67.51</td>\n",
       "      <td>2074</td>\n",
       "      <td>False</td>\n",
       "      <td>1035</td>\n",
       "      <td>0.001064</td>\n",
       "      <td>False</td>\n",
       "    </tr>\n",
       "    <tr>\n",
       "      <th>3</th>\n",
       "      <td>N81029</td>\n",
       "      <td>0106020C0</td>\n",
       "      <td>Bisacodyl_Suppos 10mg</td>\n",
       "      <td>1</td>\n",
       "      <td>1.77</td>\n",
       "      <td>1.75</td>\n",
       "      <td>6</td>\n",
       "      <td>False</td>\n",
       "      <td>1035</td>\n",
       "      <td>0.001064</td>\n",
       "      <td>False</td>\n",
       "    </tr>\n",
       "    <tr>\n",
       "      <th>4</th>\n",
       "      <td>N81029</td>\n",
       "      <td>0106020C0</td>\n",
       "      <td>Dulcolax_Tab 5mg</td>\n",
       "      <td>1</td>\n",
       "      <td>3.78</td>\n",
       "      <td>3.61</td>\n",
       "      <td>56</td>\n",
       "      <td>False</td>\n",
       "      <td>1035</td>\n",
       "      <td>0.001064</td>\n",
       "      <td>False</td>\n",
       "    </tr>\n",
       "  </tbody>\n",
       "</table>\n",
       "</div>"
      ],
      "text/plain": [
       "  practice   bnf_code               bnf_name  items    nic  act_cost  \\\n",
       "0   N85639  0106020C0  Bisacodyl_Tab E/C 5mg      1   0.39      0.47   \n",
       "1   N81013  0106020C0  Bisacodyl_Tab E/C 5mg     19  28.10     28.14   \n",
       "2   N81029  0106020C0  Bisacodyl_Tab E/C 5mg     50  67.73     67.51   \n",
       "3   N81029  0106020C0  Bisacodyl_Suppos 10mg      1   1.77      1.75   \n",
       "4   N81029  0106020C0       Dulcolax_Tab 5mg      1   3.78      3.61   \n",
       "\n",
       "   quantity  opioid_prescription  bnf_code_count         p   rare  \n",
       "0        12                False            1035  0.001064  False  \n",
       "1       860                False            1035  0.001064  False  \n",
       "2      2074                False            1035  0.001064  False  \n",
       "3         6                False            1035  0.001064  False  \n",
       "4        56                False            1035  0.001064  False  "
      ]
     },
     "execution_count": 114,
     "metadata": {},
     "output_type": "execute_result"
    }
   ],
   "source": [
    "scripts_rare.head()"
   ]
  },
  {
   "cell_type": "code",
   "execution_count": 115,
   "metadata": {},
   "outputs": [],
   "source": [
    "total_cost_by_practice = scripts_rare.groupby('practice')['act_cost'].sum().reset_index(name = 'total_cost')"
   ]
  },
  {
   "cell_type": "code",
   "execution_count": 116,
   "metadata": {},
   "outputs": [],
   "source": [
    "rare_cost_by_practice = scripts_rare[scripts_rare['rare'] == True].groupby('practice')['act_cost'].sum().reset_index(name = 'rare_cost')"
   ]
  },
  {
   "cell_type": "code",
   "execution_count": 119,
   "metadata": {},
   "outputs": [
    {
     "data": {
      "text/html": [
       "<div>\n",
       "<style scoped>\n",
       "    .dataframe tbody tr th:only-of-type {\n",
       "        vertical-align: middle;\n",
       "    }\n",
       "\n",
       "    .dataframe tbody tr th {\n",
       "        vertical-align: top;\n",
       "    }\n",
       "\n",
       "    .dataframe thead th {\n",
       "        text-align: right;\n",
       "    }\n",
       "</style>\n",
       "<table border=\"1\" class=\"dataframe\">\n",
       "  <thead>\n",
       "    <tr style=\"text-align: right;\">\n",
       "      <th></th>\n",
       "      <th>practice</th>\n",
       "      <th>rare_cost</th>\n",
       "    </tr>\n",
       "  </thead>\n",
       "  <tbody>\n",
       "    <tr>\n",
       "      <th>0</th>\n",
       "      <td>A81005</td>\n",
       "      <td>1247.83</td>\n",
       "    </tr>\n",
       "    <tr>\n",
       "      <th>1</th>\n",
       "      <td>A81007</td>\n",
       "      <td>951.06</td>\n",
       "    </tr>\n",
       "    <tr>\n",
       "      <th>2</th>\n",
       "      <td>A81011</td>\n",
       "      <td>816.02</td>\n",
       "    </tr>\n",
       "    <tr>\n",
       "      <th>3</th>\n",
       "      <td>A81012</td>\n",
       "      <td>1145.11</td>\n",
       "    </tr>\n",
       "    <tr>\n",
       "      <th>4</th>\n",
       "      <td>A81017</td>\n",
       "      <td>1712.15</td>\n",
       "    </tr>\n",
       "  </tbody>\n",
       "</table>\n",
       "</div>"
      ],
      "text/plain": [
       "  practice  rare_cost\n",
       "0   A81005    1247.83\n",
       "1   A81007     951.06\n",
       "2   A81011     816.02\n",
       "3   A81012    1145.11\n",
       "4   A81017    1712.15"
      ]
     },
     "execution_count": 119,
     "metadata": {},
     "output_type": "execute_result"
    }
   ],
   "source": [
    "rare_cost_by_practice.head()"
   ]
  },
  {
   "cell_type": "code",
   "execution_count": 121,
   "metadata": {},
   "outputs": [],
   "source": [
    "script_cost_by_practice = pd.merge(total_cost_by_practice, rare_cost_by_practice, on = 'practice', how = 'left')"
   ]
  },
  {
   "cell_type": "code",
   "execution_count": 124,
   "metadata": {},
   "outputs": [],
   "source": [
    "script_cost_by_practice.fillna(0, inplace = True)"
   ]
  },
  {
   "cell_type": "code",
   "execution_count": 126,
   "metadata": {},
   "outputs": [],
   "source": [
    "script_cost_by_practice['rare_cost_prop'] = script_cost_by_practice['rare_cost']/script_cost_by_practice['total_cost']"
   ]
  },
  {
   "cell_type": "code",
   "execution_count": 128,
   "metadata": {},
   "outputs": [
    {
     "data": {
      "text/html": [
       "<div>\n",
       "<style scoped>\n",
       "    .dataframe tbody tr th:only-of-type {\n",
       "        vertical-align: middle;\n",
       "    }\n",
       "\n",
       "    .dataframe tbody tr th {\n",
       "        vertical-align: top;\n",
       "    }\n",
       "\n",
       "    .dataframe thead th {\n",
       "        text-align: right;\n",
       "    }\n",
       "</style>\n",
       "<table border=\"1\" class=\"dataframe\">\n",
       "  <thead>\n",
       "    <tr style=\"text-align: right;\">\n",
       "      <th></th>\n",
       "      <th>practice</th>\n",
       "      <th>total_cost</th>\n",
       "      <th>rare_cost</th>\n",
       "      <th>rare_cost_prop</th>\n",
       "    </tr>\n",
       "  </thead>\n",
       "  <tbody>\n",
       "    <tr>\n",
       "      <th>0</th>\n",
       "      <td>A81005</td>\n",
       "      <td>103840.82</td>\n",
       "      <td>1247.83</td>\n",
       "      <td>0.012017</td>\n",
       "    </tr>\n",
       "    <tr>\n",
       "      <th>1</th>\n",
       "      <td>A81007</td>\n",
       "      <td>113482.49</td>\n",
       "      <td>951.06</td>\n",
       "      <td>0.008381</td>\n",
       "    </tr>\n",
       "    <tr>\n",
       "      <th>2</th>\n",
       "      <td>A81011</td>\n",
       "      <td>159507.03</td>\n",
       "      <td>816.02</td>\n",
       "      <td>0.005116</td>\n",
       "    </tr>\n",
       "    <tr>\n",
       "      <th>3</th>\n",
       "      <td>A81012</td>\n",
       "      <td>83296.81</td>\n",
       "      <td>1145.11</td>\n",
       "      <td>0.013747</td>\n",
       "    </tr>\n",
       "    <tr>\n",
       "      <th>4</th>\n",
       "      <td>A81017</td>\n",
       "      <td>232656.17</td>\n",
       "      <td>1712.15</td>\n",
       "      <td>0.007359</td>\n",
       "    </tr>\n",
       "  </tbody>\n",
       "</table>\n",
       "</div>"
      ],
      "text/plain": [
       "  practice  total_cost  rare_cost  rare_cost_prop\n",
       "0   A81005   103840.82    1247.83        0.012017\n",
       "1   A81007   113482.49     951.06        0.008381\n",
       "2   A81011   159507.03     816.02        0.005116\n",
       "3   A81012    83296.81    1145.11        0.013747\n",
       "4   A81017   232656.17    1712.15        0.007359"
      ]
     },
     "execution_count": 128,
     "metadata": {},
     "output_type": "execute_result"
    }
   ],
   "source": [
    "script_cost_by_practice.head()"
   ]
  },
  {
   "cell_type": "code",
   "execution_count": 130,
   "metadata": {},
   "outputs": [
    {
     "data": {
      "text/plain": [
       "66164096.12000001"
      ]
     },
     "execution_count": 130,
     "metadata": {},
     "output_type": "execute_result"
    }
   ],
   "source": [
    "total_cost = scripts_rare['act_cost'].sum()\n",
    "total_cost"
   ]
  },
  {
   "cell_type": "code",
   "execution_count": 132,
   "metadata": {},
   "outputs": [],
   "source": [
    "total_rare_cost = scripts_rare[scripts_rare['rare'] == True]['act_cost'].sum()"
   ]
  },
  {
   "cell_type": "code",
   "execution_count": 133,
   "metadata": {},
   "outputs": [],
   "source": [
    "overall_rare_cost = total_rare_cost/total_cost"
   ]
  },
  {
   "cell_type": "code",
   "execution_count": 135,
   "metadata": {},
   "outputs": [],
   "source": [
    "script_cost_by_practice['relative_rare_cost_prop'] = script_cost_by_practice['rare_cost_prop'] - overall_rare_cost"
   ]
  },
  {
   "cell_type": "code",
   "execution_count": 137,
   "metadata": {},
   "outputs": [],
   "source": [
    "script_cost_by_practice['standard_errors'] = script_cost_by_practice['relative_rare_cost_prop'].std()"
   ]
  },
  {
   "cell_type": "code",
   "execution_count": 139,
   "metadata": {},
   "outputs": [],
   "source": [
    "script_cost_by_practice['z-score'] = script_cost_by_practice['relative_rare_cost_prop']/script_cost_by_practice['standard_errors']"
   ]
  },
  {
   "cell_type": "code",
   "execution_count": 140,
   "metadata": {},
   "outputs": [
    {
     "name": "stdout",
     "output_type": "stream",
     "text": [
      "(856, 7)\n"
     ]
    },
    {
     "data": {
      "text/html": [
       "<div>\n",
       "<style scoped>\n",
       "    .dataframe tbody tr th:only-of-type {\n",
       "        vertical-align: middle;\n",
       "    }\n",
       "\n",
       "    .dataframe tbody tr th {\n",
       "        vertical-align: top;\n",
       "    }\n",
       "\n",
       "    .dataframe thead th {\n",
       "        text-align: right;\n",
       "    }\n",
       "</style>\n",
       "<table border=\"1\" class=\"dataframe\">\n",
       "  <thead>\n",
       "    <tr style=\"text-align: right;\">\n",
       "      <th></th>\n",
       "      <th>practice</th>\n",
       "      <th>total_cost</th>\n",
       "      <th>rare_cost</th>\n",
       "      <th>rare_cost_prop</th>\n",
       "      <th>relative_rare_cost_prop</th>\n",
       "      <th>standard_errors</th>\n",
       "      <th>z-score</th>\n",
       "    </tr>\n",
       "  </thead>\n",
       "  <tbody>\n",
       "    <tr>\n",
       "      <th>0</th>\n",
       "      <td>A81005</td>\n",
       "      <td>103840.82</td>\n",
       "      <td>1247.83</td>\n",
       "      <td>0.012017</td>\n",
       "      <td>-0.003946</td>\n",
       "      <td>0.060509</td>\n",
       "      <td>-0.065216</td>\n",
       "    </tr>\n",
       "    <tr>\n",
       "      <th>1</th>\n",
       "      <td>A81007</td>\n",
       "      <td>113482.49</td>\n",
       "      <td>951.06</td>\n",
       "      <td>0.008381</td>\n",
       "      <td>-0.007582</td>\n",
       "      <td>0.060509</td>\n",
       "      <td>-0.125308</td>\n",
       "    </tr>\n",
       "    <tr>\n",
       "      <th>2</th>\n",
       "      <td>A81011</td>\n",
       "      <td>159507.03</td>\n",
       "      <td>816.02</td>\n",
       "      <td>0.005116</td>\n",
       "      <td>-0.010847</td>\n",
       "      <td>0.060509</td>\n",
       "      <td>-0.179263</td>\n",
       "    </tr>\n",
       "    <tr>\n",
       "      <th>3</th>\n",
       "      <td>A81012</td>\n",
       "      <td>83296.81</td>\n",
       "      <td>1145.11</td>\n",
       "      <td>0.013747</td>\n",
       "      <td>-0.002216</td>\n",
       "      <td>0.060509</td>\n",
       "      <td>-0.036615</td>\n",
       "    </tr>\n",
       "    <tr>\n",
       "      <th>4</th>\n",
       "      <td>A81017</td>\n",
       "      <td>232656.17</td>\n",
       "      <td>1712.15</td>\n",
       "      <td>0.007359</td>\n",
       "      <td>-0.008604</td>\n",
       "      <td>0.060509</td>\n",
       "      <td>-0.142190</td>\n",
       "    </tr>\n",
       "  </tbody>\n",
       "</table>\n",
       "</div>"
      ],
      "text/plain": [
       "  practice  total_cost  rare_cost  rare_cost_prop  relative_rare_cost_prop  \\\n",
       "0   A81005   103840.82    1247.83        0.012017                -0.003946   \n",
       "1   A81007   113482.49     951.06        0.008381                -0.007582   \n",
       "2   A81011   159507.03     816.02        0.005116                -0.010847   \n",
       "3   A81012    83296.81    1145.11        0.013747                -0.002216   \n",
       "4   A81017   232656.17    1712.15        0.007359                -0.008604   \n",
       "\n",
       "   standard_errors   z-score  \n",
       "0         0.060509 -0.065216  \n",
       "1         0.060509 -0.125308  \n",
       "2         0.060509 -0.179263  \n",
       "3         0.060509 -0.036615  \n",
       "4         0.060509 -0.142190  "
      ]
     },
     "execution_count": 140,
     "metadata": {},
     "output_type": "execute_result"
    }
   ],
   "source": [
    "print(script_cost_by_practice.shape)\n",
    "script_cost_by_practice.head()"
   ]
  },
  {
   "cell_type": "code",
   "execution_count": 142,
   "metadata": {},
   "outputs": [],
   "source": [
    "practices_unique = practices.sort_values('name').groupby('code', sort = False).first()"
   ]
  },
  {
   "cell_type": "code",
   "execution_count": 144,
   "metadata": {},
   "outputs": [],
   "source": [
    "practices_unique.reset_index(inplace = True)"
   ]
  },
  {
   "cell_type": "code",
   "execution_count": 145,
   "metadata": {},
   "outputs": [],
   "source": [
    "merge_scripts_practice_z_scores = script_cost_by_practice.merge(practices_unique[['name', 'code']], how = 'inner', left_on = 'practice', right_on = 'code', sort = False)"
   ]
  },
  {
   "cell_type": "code",
   "execution_count": 148,
   "metadata": {},
   "outputs": [
    {
     "data": {
      "text/html": [
       "<div>\n",
       "<style scoped>\n",
       "    .dataframe tbody tr th:only-of-type {\n",
       "        vertical-align: middle;\n",
       "    }\n",
       "\n",
       "    .dataframe tbody tr th {\n",
       "        vertical-align: top;\n",
       "    }\n",
       "\n",
       "    .dataframe thead th {\n",
       "        text-align: right;\n",
       "    }\n",
       "</style>\n",
       "<table border=\"1\" class=\"dataframe\">\n",
       "  <thead>\n",
       "    <tr style=\"text-align: right;\">\n",
       "      <th></th>\n",
       "      <th>practice</th>\n",
       "      <th>total_cost</th>\n",
       "      <th>rare_cost</th>\n",
       "      <th>rare_cost_prop</th>\n",
       "      <th>relative_rare_cost_prop</th>\n",
       "      <th>standard_errors</th>\n",
       "      <th>z-score</th>\n",
       "      <th>name</th>\n",
       "      <th>code</th>\n",
       "    </tr>\n",
       "  </thead>\n",
       "  <tbody>\n",
       "    <tr>\n",
       "      <th>0</th>\n",
       "      <td>A81005</td>\n",
       "      <td>103840.82</td>\n",
       "      <td>1247.83</td>\n",
       "      <td>0.012017</td>\n",
       "      <td>-0.003946</td>\n",
       "      <td>0.060509</td>\n",
       "      <td>-0.065216</td>\n",
       "      <td>SPRINGWOOD SURGERY</td>\n",
       "      <td>A81005</td>\n",
       "    </tr>\n",
       "    <tr>\n",
       "      <th>1</th>\n",
       "      <td>A81007</td>\n",
       "      <td>113482.49</td>\n",
       "      <td>951.06</td>\n",
       "      <td>0.008381</td>\n",
       "      <td>-0.007582</td>\n",
       "      <td>0.060509</td>\n",
       "      <td>-0.125308</td>\n",
       "      <td>BANKHOUSE SURGERY</td>\n",
       "      <td>A81007</td>\n",
       "    </tr>\n",
       "    <tr>\n",
       "      <th>2</th>\n",
       "      <td>A81011</td>\n",
       "      <td>159507.03</td>\n",
       "      <td>816.02</td>\n",
       "      <td>0.005116</td>\n",
       "      <td>-0.010847</td>\n",
       "      <td>0.060509</td>\n",
       "      <td>-0.179263</td>\n",
       "      <td>CHADWICK PRACTICE</td>\n",
       "      <td>A81011</td>\n",
       "    </tr>\n",
       "    <tr>\n",
       "      <th>3</th>\n",
       "      <td>A81012</td>\n",
       "      <td>83296.81</td>\n",
       "      <td>1145.11</td>\n",
       "      <td>0.013747</td>\n",
       "      <td>-0.002216</td>\n",
       "      <td>0.060509</td>\n",
       "      <td>-0.036615</td>\n",
       "      <td>WESTBOURNE MEDICAL CENTRE</td>\n",
       "      <td>A81012</td>\n",
       "    </tr>\n",
       "    <tr>\n",
       "      <th>4</th>\n",
       "      <td>A81017</td>\n",
       "      <td>232656.17</td>\n",
       "      <td>1712.15</td>\n",
       "      <td>0.007359</td>\n",
       "      <td>-0.008604</td>\n",
       "      <td>0.060509</td>\n",
       "      <td>-0.142190</td>\n",
       "      <td>WOODBRIDGE PRACTICE</td>\n",
       "      <td>A81017</td>\n",
       "    </tr>\n",
       "  </tbody>\n",
       "</table>\n",
       "</div>"
      ],
      "text/plain": [
       "  practice  total_cost  rare_cost  rare_cost_prop  relative_rare_cost_prop  \\\n",
       "0   A81005   103840.82    1247.83        0.012017                -0.003946   \n",
       "1   A81007   113482.49     951.06        0.008381                -0.007582   \n",
       "2   A81011   159507.03     816.02        0.005116                -0.010847   \n",
       "3   A81012    83296.81    1145.11        0.013747                -0.002216   \n",
       "4   A81017   232656.17    1712.15        0.007359                -0.008604   \n",
       "\n",
       "   standard_errors   z-score                       name    code  \n",
       "0         0.060509 -0.065216         SPRINGWOOD SURGERY  A81005  \n",
       "1         0.060509 -0.125308          BANKHOUSE SURGERY  A81007  \n",
       "2         0.060509 -0.179263          CHADWICK PRACTICE  A81011  \n",
       "3         0.060509 -0.036615  WESTBOURNE MEDICAL CENTRE  A81012  \n",
       "4         0.060509 -0.142190        WOODBRIDGE PRACTICE  A81017  "
      ]
     },
     "execution_count": 148,
     "metadata": {},
     "output_type": "execute_result"
    }
   ],
   "source": [
    "merge_scripts_practice_z_scores.head()"
   ]
  },
  {
   "cell_type": "code",
   "execution_count": 151,
   "metadata": {},
   "outputs": [
    {
     "name": "stdout",
     "output_type": "stream",
     "text": [
      "(856, 9)\n"
     ]
    }
   ],
   "source": [
    "print(merge_scripts_practice_z_scores.shape)"
   ]
  },
  {
   "cell_type": "code",
   "execution_count": 152,
   "metadata": {},
   "outputs": [],
   "source": [
    "merge_scripts_practice_z_scores = merge_scripts_practice_z_scores.sort_values('name', ascending = True)"
   ]
  },
  {
   "cell_type": "code",
   "execution_count": 154,
   "metadata": {},
   "outputs": [],
   "source": [
    "merge_scripts_practice_z_scores.drop_duplicates(subset = ['code', 'name'], inplace = True)"
   ]
  },
  {
   "cell_type": "code",
   "execution_count": 156,
   "metadata": {},
   "outputs": [
    {
     "data": {
      "text/html": [
       "<div>\n",
       "<style scoped>\n",
       "    .dataframe tbody tr th:only-of-type {\n",
       "        vertical-align: middle;\n",
       "    }\n",
       "\n",
       "    .dataframe tbody tr th {\n",
       "        vertical-align: top;\n",
       "    }\n",
       "\n",
       "    .dataframe thead th {\n",
       "        text-align: right;\n",
       "    }\n",
       "</style>\n",
       "<table border=\"1\" class=\"dataframe\">\n",
       "  <thead>\n",
       "    <tr style=\"text-align: right;\">\n",
       "      <th></th>\n",
       "      <th>practice</th>\n",
       "      <th>total_cost</th>\n",
       "      <th>rare_cost</th>\n",
       "      <th>rare_cost_prop</th>\n",
       "      <th>relative_rare_cost_prop</th>\n",
       "      <th>standard_errors</th>\n",
       "      <th>z-score</th>\n",
       "      <th>name</th>\n",
       "      <th>code</th>\n",
       "    </tr>\n",
       "  </thead>\n",
       "  <tbody>\n",
       "    <tr>\n",
       "      <th>629</th>\n",
       "      <td>P87652</td>\n",
       "      <td>41866.90</td>\n",
       "      <td>271.21</td>\n",
       "      <td>0.006478</td>\n",
       "      <td>-0.009485</td>\n",
       "      <td>0.060509</td>\n",
       "      <td>-0.156754</td>\n",
       "      <td>1/LOWER BROUGHTON MEDICAL PRACTICE</td>\n",
       "      <td>P87652</td>\n",
       "    </tr>\n",
       "    <tr>\n",
       "      <th>627</th>\n",
       "      <td>P87020</td>\n",
       "      <td>70409.18</td>\n",
       "      <td>291.06</td>\n",
       "      <td>0.004134</td>\n",
       "      <td>-0.011829</td>\n",
       "      <td>0.060509</td>\n",
       "      <td>-0.195493</td>\n",
       "      <td>2/ST ANDREWS MEDICAL PRACTICE</td>\n",
       "      <td>P87020</td>\n",
       "    </tr>\n",
       "    <tr>\n",
       "      <th>630</th>\n",
       "      <td>P87654</td>\n",
       "      <td>73060.62</td>\n",
       "      <td>208.44</td>\n",
       "      <td>0.002853</td>\n",
       "      <td>-0.013110</td>\n",
       "      <td>0.060509</td>\n",
       "      <td>-0.216661</td>\n",
       "      <td>3/LOWER BROUGHTON MEDICAL PRACTICE</td>\n",
       "      <td>P87654</td>\n",
       "    </tr>\n",
       "    <tr>\n",
       "      <th>631</th>\n",
       "      <td>P87659</td>\n",
       "      <td>41531.09</td>\n",
       "      <td>667.62</td>\n",
       "      <td>0.016075</td>\n",
       "      <td>0.000112</td>\n",
       "      <td>0.060509</td>\n",
       "      <td>0.001856</td>\n",
       "      <td>3/ST ANDREWS MEDICAL CENTRE</td>\n",
       "      <td>P87659</td>\n",
       "    </tr>\n",
       "    <tr>\n",
       "      <th>628</th>\n",
       "      <td>P87036</td>\n",
       "      <td>29124.57</td>\n",
       "      <td>311.13</td>\n",
       "      <td>0.010683</td>\n",
       "      <td>-0.005280</td>\n",
       "      <td>0.060509</td>\n",
       "      <td>-0.087263</td>\n",
       "      <td>4/LOWER BROUGHTON MEDICAL PRACTICE</td>\n",
       "      <td>P87036</td>\n",
       "    </tr>\n",
       "  </tbody>\n",
       "</table>\n",
       "</div>"
      ],
      "text/plain": [
       "    practice  total_cost  rare_cost  rare_cost_prop  relative_rare_cost_prop  \\\n",
       "629   P87652    41866.90     271.21        0.006478                -0.009485   \n",
       "627   P87020    70409.18     291.06        0.004134                -0.011829   \n",
       "630   P87654    73060.62     208.44        0.002853                -0.013110   \n",
       "631   P87659    41531.09     667.62        0.016075                 0.000112   \n",
       "628   P87036    29124.57     311.13        0.010683                -0.005280   \n",
       "\n",
       "     standard_errors   z-score                                name    code  \n",
       "629         0.060509 -0.156754  1/LOWER BROUGHTON MEDICAL PRACTICE  P87652  \n",
       "627         0.060509 -0.195493       2/ST ANDREWS MEDICAL PRACTICE  P87020  \n",
       "630         0.060509 -0.216661  3/LOWER BROUGHTON MEDICAL PRACTICE  P87654  \n",
       "631         0.060509  0.001856         3/ST ANDREWS MEDICAL CENTRE  P87659  \n",
       "628         0.060509 -0.087263  4/LOWER BROUGHTON MEDICAL PRACTICE  P87036  "
      ]
     },
     "execution_count": 156,
     "metadata": {},
     "output_type": "execute_result"
    }
   ],
   "source": [
    "merge_scripts_practice_z_scores.head()"
   ]
  },
  {
   "cell_type": "code",
   "execution_count": 159,
   "metadata": {},
   "outputs": [],
   "source": [
    "rare_scripts = []\n",
    "\n",
    "for indew, row in merge_scripts_practice_z_scores.iterrows():\n",
    "    rare_scripts.append((row['practice'], row['name'], row['z-score']))\n",
    "    \n",
    "rare_scripts = sorted(rare_scripts, key = lambda x : x[2], reverse = True)[:100]   "
   ]
  },
  {
   "cell_type": "code",
   "execution_count": 160,
   "metadata": {},
   "outputs": [
    {
     "data": {
      "text/plain": [
       "[('Y03472', 'CONSULTANT DIABETES TEAM', 16.262687124655073),\n",
       " ('Y05320', 'DMC COMMUNITY DERMATOLOGY RBWF', 15.128648195416869),\n",
       " ('Y04404', 'OUTPATIENTS JUBILEE HEALTH CENTRE', 7.542139356104622),\n",
       " ('Y03484', 'DMC COMMUNITY DERMATOLOGY CLINIC', 7.2872222002978235),\n",
       " ('Y04424', 'DMC HEALTHCARE', 6.8386141814328685),\n",
       " ('Y00631', 'BINGLEY DERMATOLOGY CLINIC', 5.75599754983774),\n",
       " ('A89038', 'BARMSTON MEDICAL CENTRE', 5.664940368539937),\n",
       " ('Y01696', 'BASSETLAW HOSPICE OF THE GOOD SHEPHERD', 4.29068517147492),\n",
       " ('Y03699', 'OLDHAM DERMATOLOGY SERVICE', 4.103743999157243),\n",
       " ('Y02045', 'VERNOVA HEALTHCARE CIC', 3.1807154704143983),\n",
       " ('Y02823', 'DMC VICARAGE LANE', 3.054121649498702),\n",
       " ('Y00997', 'COMMUNITY DERMATOLOGY SERVICE', 3.0181283595352766),\n",
       " ('Y05019', 'OLDHAM TOTAL SKIN SERVICE', 2.7247515958989283),\n",
       " ('Y01003', 'BURY OOH', 2.350436347139857),\n",
       " ('Y05431', 'NOTTS APPLIANCE MANAGEMENT SERVICE', 2.037158543233387),\n",
       " ('Y03557', 'IPU 10-17 RECOVERY COVENTRY', 2.0304495001187792),\n",
       " ('Y05419', 'WEEKEND WORKING EASINGTON NORTH', 2.0029603055317033),\n",
       " ('Y05434', 'NOTTS APPLIANCE MANAGEMENT SERVICE', 1.6178155618028067),\n",
       " ('L84042', 'LONDON MEDICAL PRACTICE', 1.6040122379818675),\n",
       " ('Y04871', 'LEARNING ASSESSMENT & NEUROCARE BURY', 1.4408185020947357),\n",
       " ('Y05432', 'NOTTS APPLIANCE MANAGEMENT SERVICE', 1.3052021753375496),\n",
       " ('F86057', 'THE WILLOWS PRACTICE', 1.28095628189427),\n",
       " ('L81673', 'BCH DERMATOLOGY SERVICE', 1.277947442927498),\n",
       " ('Y04089', 'VIRGIN CARE (MIDDLESBROUGH)', 1.205585821536491),\n",
       " ('Y03762', 'BASSETLAW HEALTH PARTNERSHIP', 1.154769031099774),\n",
       " ('Y05430', 'NOTTS APPLIANCE MANAGEMENT SERVICE', 1.1227604679867655),\n",
       " ('B85030', 'SCRIVINGS CLECKHEATON HLTH CTR', 1.1035023773365622),\n",
       " ('P81736', 'WHITEFIELD HEALTHCARE', 1.0939581886026766),\n",
       " ('Y00570', 'GP LED DERMATOLOGY SERVICE', 1.0515619152791937),\n",
       " ('Y04606', 'LANCASTER HOUSE CONTINENCE', 1.032851595393472),\n",
       " ('P81712', 'DARWEN HEALTH CENTRE', 1.0286324480322655),\n",
       " ('Y05433', 'NOTTS APPLIANCE MANAGEMENT SERVICE', 1.027801098310148),\n",
       " ('Y02943', 'NEUROLOGY LONG TERM CONDITIONS', 0.9576943719522105),\n",
       " ('P84051', 'EASTLANDS MEDICAL CENTRE', 0.9070372260702891),\n",
       " ('Y02203', 'DURHAM DALES EAST DERMATOLOGY', 0.8830665514715625),\n",
       " ('G82704', 'THE CHURCH VIEW PRACTICE', 0.8688187586905577),\n",
       " ('F81070', 'GRAFTON SURGERY', 0.8466362126601984),\n",
       " ('Y05435', 'NOTTS APPLIANCE MANAGEMENT SERVICE', 0.8245199350473514),\n",
       " ('P82625', 'CHARLOTTE STREET SURGERY', 0.7738455888380998),\n",
       " ('P82640', 'AL FAL MEDICAL GROUP', 0.7188956515487627),\n",
       " ('F84706', 'DR SKS SWEDAN', 0.7187925567143413),\n",
       " ('Y01168', 'COMMUNITY GYNAECOLOGY SERVICE', 0.6802947549377423),\n",
       " ('N81080', 'NORTHGATE MEDICAL CENTRE', 0.6661638079014606),\n",
       " ('A87022', 'NORTHUMBERLAND PARK MEDICAL GROUP', 0.6387318815059376),\n",
       " ('B83058', 'THE AVICENNA MEDICAL PRACTICE', 0.5975595360581424),\n",
       " ('M85766', 'BALSALL HEATH HEALTH CENTRE (S)', 0.5631450010961301),\n",
       " ('G81658', 'THE STATION PRACTICE', 0.533188875107734),\n",
       " ('M85715', 'SOHO ROAD PRIMARY CARE CENTRE', 0.5292269288022785),\n",
       " ('E85659', 'DR RK KUKAR  PARKVIEW CTR FOR H&W', 0.5224575320213931),\n",
       " ('M85716', \"DR KHUROO'S PRACTICE\", 0.5057276127409469),\n",
       " ('B83067', 'THE SPRINGFIELD SURGERY (BINGLEY)', 0.5014826110568851),\n",
       " ('B84011', 'CHURCH LANE SURGERY', 0.49715254408668097),\n",
       " ('B83032', 'BRADFORD MOOR PRACTICE', 0.48460185193411554),\n",
       " ('Y00469', \"DR MA SIMS' PRACTICE\", 0.48078982342767684),\n",
       " ('H81034', 'MADEIRA MEDICAL', 0.4734461208205329),\n",
       " ('A83071', 'THE NEW SEAHAM MEDICAL GROUP', 0.44933129312623227),\n",
       " ('P91633', 'GROVE MEDICAL PRACTICE', 0.41490953303333816),\n",
       " ('P84032', 'DR MOKASHI', 0.4141211782441941),\n",
       " ('F84086', 'DR DRIVER & PARTNERS', 0.41010853569042116),\n",
       " ('C83041', 'THE WOODLAND MEDICAL PRACTICE', 0.40138982620909),\n",
       " ('G82162', 'RAINHAM HEALTHY LIVING CENTRE', 0.39392297907617313),\n",
       " ('A83051', 'MARLBOROUGH SURGERY', 0.37782755311560756),\n",
       " ('C84714', 'SUNRISE MEDICAL PRACTICE (GHATTAORA)', 0.36171473108349383),\n",
       " ('B82016', 'EAST PARADE SURGERY', 0.35577024633371856),\n",
       " ('C84691', 'HIGHGREEN PRACTICE (KHAN)', 0.34336153334736275),\n",
       " ('L82001', 'LANDER MEDICAL PRACTICE', 0.3323566542194172),\n",
       " ('G84027', 'ELM HOUSE SURGERY', 0.3299204843833724),\n",
       " ('Y02957', 'LEWISHAM GP LED HEALTH CENTRE', 0.32435502195888544),\n",
       " ('G85095', 'MANOR PLACE SURGERY', 0.31837462196154376),\n",
       " ('E82656', 'CASSIO SURGERY - E82656', 0.30990494051873857),\n",
       " ('M91017', 'NORTHGATE MEDICAL CENTRE', 0.30899661675601403),\n",
       " ('L84008', \"ST.GEORGE'S SURGERY\", 0.30305528350252675),\n",
       " ('P81099', 'DR THM MACKENZIE & PARTNERS', 0.2999109640678614),\n",
       " ('E85018', \"DR SOOD'S PRACTICE\", 0.28911226062072903),\n",
       " ('Y04951', 'ARDEN HEALTHCARE CENTRE', 0.2887489271620816),\n",
       " ('N82051', 'BREEZE HILL - SSP HEALTH LIMITED', 0.2804685439423992),\n",
       " ('H81097', 'RIVER WEY MEDICAL PRACTICE', 0.27919324662181383),\n",
       " ('C82667', 'THE CHARNWOOD PRACTICE', 0.27023096949600744),\n",
       " ('C87622', 'GATEWAY PRIMARY CARE', 0.2664585596184698),\n",
       " ('E85723', 'NORTHOLT FAMILY PRACTICE', 0.2652802051946742),\n",
       " ('C84013', 'BRIDGEGATE AND TALL TREES PARTNERSHIP', 0.2636693526495313),\n",
       " ('E85126', 'GREEN PRACTICE', 0.26221153146662585),\n",
       " ('P92024', 'THE CHANDLER SURGERY', 0.2605157549862781),\n",
       " ('Y01929', 'TELDOC', 0.25690238903585066),\n",
       " ('K82078', 'DR ALLAN AND PARTNERS', 0.25335734886371236),\n",
       " ('M85068', 'THE VESEY PRACTICE', 0.25158414215632136),\n",
       " ('G85034', 'NEXUS HEALTH GROUP', 0.24781145269396002),\n",
       " ('P88023', 'HEALD GREEN HEALTH CENTRE 2', 0.2421685153906031),\n",
       " ('M83629', 'DRAYTON ROAD SURGERY', 0.2336160725696232),\n",
       " ('M83063', 'NORTON CANES HEALTH CENTRE', 0.23290147960328156),\n",
       " ('H81615', 'FARNHAM DENE MEDICAL PRACTICE', 0.2324231396807284),\n",
       " ('D81024', 'THOMAS WALKER', 0.22415411809062785),\n",
       " ('K83051', 'WEAVERS MEDICAL', 0.2220104258358029),\n",
       " ('G85134', 'THE LISTER PRIMARY CARE CENTRE', 0.21810202517578278),\n",
       " ('Y00278', 'DARLASTON HEALTH CENTRE-KHAN', 0.21228353307860806),\n",
       " ('Y02671', 'THE PRACTICE HEART OF HOUNSLOW', 0.20880880182432457),\n",
       " ('F84631', 'DR PI ABIOLA', 0.20539081662007092),\n",
       " ('B81012', 'DR AP KUMAR', 0.20369059525865602),\n",
       " ('C83613', 'CAISTOR HEALTH CENTRE', 0.20350023874284526),\n",
       " ('M91614', 'STROUD PRACTICE', 0.2005052860927231)]"
      ]
     },
     "execution_count": 160,
     "metadata": {},
     "output_type": "execute_result"
    }
   ],
   "source": [
    "rare_scripts"
   ]
  },
  {
   "cell_type": "code",
   "execution_count": 161,
   "metadata": {},
   "outputs": [
    {
     "name": "stdout",
     "output_type": "stream",
     "text": [
      "==================\n",
      "Your score:  1.0\n",
      "==================\n"
     ]
    }
   ],
   "source": [
    "grader.score.dw__rare_scripts(rare_scripts)"
   ]
  },
  {
   "cell_type": "markdown",
   "metadata": {},
   "source": [
    "*Copyright &copy; 2020 The Data Incubator.  All rights reserved.*"
   ]
  }
 ],
 "metadata": {
  "kernelspec": {
   "display_name": "Python 3",
   "language": "python",
   "name": "python3"
  },
  "language_info": {
   "codemirror_mode": {
    "name": "ipython",
    "version": 3
   },
   "file_extension": ".py",
   "mimetype": "text/x-python",
   "name": "python",
   "nbconvert_exporter": "python",
   "pygments_lexer": "ipython3",
   "version": "3.7.3"
  },
  "nbclean": true
 },
 "nbformat": 4,
 "nbformat_minor": 1
}
